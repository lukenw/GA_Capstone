{
 "cells": [
  {
   "cell_type": "markdown",
   "metadata": {},
   "source": [
    "# Imports"
   ]
  },
  {
   "cell_type": "code",
   "execution_count": 85,
   "metadata": {},
   "outputs": [],
   "source": [
    "import numpy as np\n",
    "import pandas as pd\n",
    "import matplotlib.pyplot as plt\n",
    "import seaborn as sb\n",
    "\n",
    "from sklearn.model_selection import train_test_split\n",
    "\n",
    "import statsmodels.api as sm\n",
    "from statsmodels.tsa.arima_model import ARIMA\n",
    "from statsmodels.tsa.statespace.sarimax import SARIMAX\n",
    "from statsmodels.graphics.tsaplots import plot_acf, plot_pacf\n",
    "from statsmodels.tsa.stattools import adfuller\n",
    "\n",
    "# interpret_dftest written by Joseph Nelson.\n",
    "def interpret_dftest(dftest):\n",
    "    dfoutput = pd.Series(dftest[0:2], index=['Test Statistic','p-value'])\n",
    "    return dfoutput\n",
    "\n",
    "\n"
   ]
  },
  {
   "cell_type": "code",
   "execution_count": 7,
   "metadata": {},
   "outputs": [
    {
     "data": {
      "text/html": [
       "<div>\n",
       "<style scoped>\n",
       "    .dataframe tbody tr th:only-of-type {\n",
       "        vertical-align: middle;\n",
       "    }\n",
       "\n",
       "    .dataframe tbody tr th {\n",
       "        vertical-align: top;\n",
       "    }\n",
       "\n",
       "    .dataframe thead th {\n",
       "        text-align: right;\n",
       "    }\n",
       "</style>\n",
       "<table border=\"1\" class=\"dataframe\">\n",
       "  <thead>\n",
       "    <tr style=\"text-align: right;\">\n",
       "      <th></th>\n",
       "      <th>country</th>\n",
       "      <th>region</th>\n",
       "      <th>region_code</th>\n",
       "      <th>start_date</th>\n",
       "      <th>end_date</th>\n",
       "      <th>year</th>\n",
       "      <th>week</th>\n",
       "      <th>population</th>\n",
       "      <th>total_deaths</th>\n",
       "      <th>covid_deaths</th>\n",
       "      <th>expected_deaths</th>\n",
       "    </tr>\n",
       "  </thead>\n",
       "  <tbody>\n",
       "    <tr>\n",
       "      <th>0</th>\n",
       "      <td>United States</td>\n",
       "      <td>Alabama</td>\n",
       "      <td>AL</td>\n",
       "      <td>2015-01-04</td>\n",
       "      <td>2015-01-10</td>\n",
       "      <td>2015</td>\n",
       "      <td>1</td>\n",
       "      <td>4903185</td>\n",
       "      <td>1169</td>\n",
       "      <td>0</td>\n",
       "      <td>TBC</td>\n",
       "    </tr>\n",
       "    <tr>\n",
       "      <th>1</th>\n",
       "      <td>United States</td>\n",
       "      <td>Alabama</td>\n",
       "      <td>AL</td>\n",
       "      <td>2015-01-11</td>\n",
       "      <td>2015-01-17</td>\n",
       "      <td>2015</td>\n",
       "      <td>2</td>\n",
       "      <td>4903185</td>\n",
       "      <td>1172</td>\n",
       "      <td>0</td>\n",
       "      <td>TBC</td>\n",
       "    </tr>\n",
       "  </tbody>\n",
       "</table>\n",
       "</div>"
      ],
      "text/plain": [
       "         country   region region_code  start_date    end_date  year  week  \\\n",
       "0  United States  Alabama          AL  2015-01-04  2015-01-10  2015     1   \n",
       "1  United States  Alabama          AL  2015-01-11  2015-01-17  2015     2   \n",
       "\n",
       "   population  total_deaths  covid_deaths expected_deaths  \n",
       "0     4903185          1169             0             TBC  \n",
       "1     4903185          1172             0             TBC  "
      ]
     },
     "execution_count": 7,
     "metadata": {},
     "output_type": "execute_result"
    }
   ],
   "source": [
    "data = pd.read_csv('./data/united_states_weekly_deaths.csv')\n",
    "data.head(2)"
   ]
  },
  {
   "cell_type": "markdown",
   "metadata": {},
   "source": [
    "# Initial EDA"
   ]
  },
  {
   "cell_type": "code",
   "execution_count": 8,
   "metadata": {},
   "outputs": [
    {
     "data": {
      "text/plain": [
       "(14500, 11)"
      ]
     },
     "execution_count": 8,
     "metadata": {},
     "output_type": "execute_result"
    }
   ],
   "source": [
    "data.shape"
   ]
  },
  {
   "cell_type": "code",
   "execution_count": 9,
   "metadata": {},
   "outputs": [
    {
     "data": {
      "text/plain": [
       "country            object\n",
       "region             object\n",
       "region_code        object\n",
       "start_date         object\n",
       "end_date           object\n",
       "year                int64\n",
       "week                int64\n",
       "population          int64\n",
       "total_deaths        int64\n",
       "covid_deaths        int64\n",
       "expected_deaths    object\n",
       "dtype: object"
      ]
     },
     "execution_count": 9,
     "metadata": {},
     "output_type": "execute_result"
    }
   ],
   "source": [
    "data.dtypes"
   ]
  },
  {
   "cell_type": "code",
   "execution_count": 10,
   "metadata": {},
   "outputs": [],
   "source": [
    "data['start_date'] = pd.to_datetime(data['start_date'])\n",
    "data['end_date'] = pd.to_datetime(data['end_date'])"
   ]
  },
  {
   "cell_type": "code",
   "execution_count": 11,
   "metadata": {},
   "outputs": [
    {
     "data": {
      "text/plain": [
       "country                    object\n",
       "region                     object\n",
       "region_code                object\n",
       "start_date         datetime64[ns]\n",
       "end_date           datetime64[ns]\n",
       "year                        int64\n",
       "week                        int64\n",
       "population                  int64\n",
       "total_deaths                int64\n",
       "covid_deaths                int64\n",
       "expected_deaths            object\n",
       "dtype: object"
      ]
     },
     "execution_count": 11,
     "metadata": {},
     "output_type": "execute_result"
    }
   ],
   "source": [
    "data.dtypes"
   ]
  },
  {
   "cell_type": "code",
   "execution_count": 12,
   "metadata": {},
   "outputs": [
    {
     "data": {
      "text/html": [
       "<div>\n",
       "<style scoped>\n",
       "    .dataframe tbody tr th:only-of-type {\n",
       "        vertical-align: middle;\n",
       "    }\n",
       "\n",
       "    .dataframe tbody tr th {\n",
       "        vertical-align: top;\n",
       "    }\n",
       "\n",
       "    .dataframe thead th {\n",
       "        text-align: right;\n",
       "    }\n",
       "</style>\n",
       "<table border=\"1\" class=\"dataframe\">\n",
       "  <thead>\n",
       "    <tr style=\"text-align: right;\">\n",
       "      <th></th>\n",
       "      <th>country</th>\n",
       "      <th>region</th>\n",
       "      <th>region_code</th>\n",
       "      <th>start_date</th>\n",
       "      <th>end_date</th>\n",
       "      <th>year</th>\n",
       "      <th>week</th>\n",
       "      <th>population</th>\n",
       "      <th>total_deaths</th>\n",
       "      <th>covid_deaths</th>\n",
       "      <th>expected_deaths</th>\n",
       "    </tr>\n",
       "  </thead>\n",
       "  <tbody>\n",
       "    <tr>\n",
       "      <th>0</th>\n",
       "      <td>United States</td>\n",
       "      <td>Alabama</td>\n",
       "      <td>AL</td>\n",
       "      <td>2015-01-04</td>\n",
       "      <td>2015-01-10</td>\n",
       "      <td>2015</td>\n",
       "      <td>1</td>\n",
       "      <td>4903185</td>\n",
       "      <td>1169</td>\n",
       "      <td>0</td>\n",
       "      <td>TBC</td>\n",
       "    </tr>\n",
       "    <tr>\n",
       "      <th>1</th>\n",
       "      <td>United States</td>\n",
       "      <td>Alabama</td>\n",
       "      <td>AL</td>\n",
       "      <td>2015-01-11</td>\n",
       "      <td>2015-01-17</td>\n",
       "      <td>2015</td>\n",
       "      <td>2</td>\n",
       "      <td>4903185</td>\n",
       "      <td>1172</td>\n",
       "      <td>0</td>\n",
       "      <td>TBC</td>\n",
       "    </tr>\n",
       "  </tbody>\n",
       "</table>\n",
       "</div>"
      ],
      "text/plain": [
       "         country   region region_code start_date   end_date  year  week  \\\n",
       "0  United States  Alabama          AL 2015-01-04 2015-01-10  2015     1   \n",
       "1  United States  Alabama          AL 2015-01-11 2015-01-17  2015     2   \n",
       "\n",
       "   population  total_deaths  covid_deaths expected_deaths  \n",
       "0     4903185          1169             0             TBC  \n",
       "1     4903185          1172             0             TBC  "
      ]
     },
     "execution_count": 12,
     "metadata": {},
     "output_type": "execute_result"
    }
   ],
   "source": [
    "data.head(2)"
   ]
  },
  {
   "cell_type": "code",
   "execution_count": 13,
   "metadata": {},
   "outputs": [
    {
     "data": {
      "text/plain": [
       "country            0\n",
       "region             0\n",
       "region_code        0\n",
       "start_date         0\n",
       "end_date           0\n",
       "year               0\n",
       "week               0\n",
       "population         0\n",
       "total_deaths       0\n",
       "covid_deaths       0\n",
       "expected_deaths    0\n",
       "dtype: int64"
      ]
     },
     "execution_count": 13,
     "metadata": {},
     "output_type": "execute_result"
    }
   ],
   "source": [
    "data.isnull().sum()"
   ]
  },
  {
   "cell_type": "code",
   "execution_count": 14,
   "metadata": {},
   "outputs": [
    {
     "data": {
      "text/plain": [
       "(14500, 11)"
      ]
     },
     "execution_count": 14,
     "metadata": {},
     "output_type": "execute_result"
    }
   ],
   "source": [
    "data.shape"
   ]
  },
  {
   "cell_type": "code",
   "execution_count": 15,
   "metadata": {},
   "outputs": [],
   "source": [
    "# drop non-useful columns\n",
    "data.drop(columns=['covid_deaths','expected_deaths'], inplace = True)"
   ]
  },
  {
   "cell_type": "code",
   "execution_count": null,
   "metadata": {},
   "outputs": [],
   "source": [
    "# NY includes NYC's data, so we'll use a mask to drop out NYC for purposes of tallying totals.\n",
    "nyc = data[data['region_code'] == 'NYC']"
   ]
  },
  {
   "cell_type": "code",
   "execution_count": 67,
   "metadata": {},
   "outputs": [
    {
     "data": {
      "text/html": [
       "<div>\n",
       "<style scoped>\n",
       "    .dataframe tbody tr th:only-of-type {\n",
       "        vertical-align: middle;\n",
       "    }\n",
       "\n",
       "    .dataframe tbody tr th {\n",
       "        vertical-align: top;\n",
       "    }\n",
       "\n",
       "    .dataframe thead th {\n",
       "        text-align: right;\n",
       "    }\n",
       "</style>\n",
       "<table border=\"1\" class=\"dataframe\">\n",
       "  <thead>\n",
       "    <tr style=\"text-align: right;\">\n",
       "      <th></th>\n",
       "      <th>start_date</th>\n",
       "      <th>end_date</th>\n",
       "      <th>total_deaths</th>\n",
       "      <th>population</th>\n",
       "    </tr>\n",
       "  </thead>\n",
       "  <tbody>\n",
       "    <tr>\n",
       "      <th>0</th>\n",
       "      <td>2015-01-04</td>\n",
       "      <td>2015-01-10</td>\n",
       "      <td>61737</td>\n",
       "      <td>328300544</td>\n",
       "    </tr>\n",
       "    <tr>\n",
       "      <th>1</th>\n",
       "      <td>2015-01-11</td>\n",
       "      <td>2015-01-17</td>\n",
       "      <td>61141</td>\n",
       "      <td>328300544</td>\n",
       "    </tr>\n",
       "    <tr>\n",
       "      <th>2</th>\n",
       "      <td>2015-01-18</td>\n",
       "      <td>2015-01-24</td>\n",
       "      <td>58628</td>\n",
       "      <td>328300544</td>\n",
       "    </tr>\n",
       "    <tr>\n",
       "      <th>3</th>\n",
       "      <td>2015-01-25</td>\n",
       "      <td>2015-01-31</td>\n",
       "      <td>57269</td>\n",
       "      <td>328300544</td>\n",
       "    </tr>\n",
       "    <tr>\n",
       "      <th>4</th>\n",
       "      <td>2015-02-01</td>\n",
       "      <td>2015-02-07</td>\n",
       "      <td>57284</td>\n",
       "      <td>328300544</td>\n",
       "    </tr>\n",
       "    <tr>\n",
       "      <th>...</th>\n",
       "      <td>...</td>\n",
       "      <td>...</td>\n",
       "      <td>...</td>\n",
       "      <td>...</td>\n",
       "    </tr>\n",
       "    <tr>\n",
       "      <th>274</th>\n",
       "      <td>2020-04-05</td>\n",
       "      <td>2020-04-11</td>\n",
       "      <td>73581</td>\n",
       "      <td>328300544</td>\n",
       "    </tr>\n",
       "    <tr>\n",
       "      <th>275</th>\n",
       "      <td>2020-04-12</td>\n",
       "      <td>2020-04-18</td>\n",
       "      <td>69533</td>\n",
       "      <td>328300544</td>\n",
       "    </tr>\n",
       "    <tr>\n",
       "      <th>276</th>\n",
       "      <td>2020-04-19</td>\n",
       "      <td>2020-04-25</td>\n",
       "      <td>63336</td>\n",
       "      <td>328300544</td>\n",
       "    </tr>\n",
       "    <tr>\n",
       "      <th>277</th>\n",
       "      <td>2020-04-26</td>\n",
       "      <td>2020-05-02</td>\n",
       "      <td>55506</td>\n",
       "      <td>328300544</td>\n",
       "    </tr>\n",
       "    <tr>\n",
       "      <th>278</th>\n",
       "      <td>2020-05-03</td>\n",
       "      <td>2020-05-09</td>\n",
       "      <td>44504</td>\n",
       "      <td>328300544</td>\n",
       "    </tr>\n",
       "  </tbody>\n",
       "</table>\n",
       "<p>279 rows × 4 columns</p>\n",
       "</div>"
      ],
      "text/plain": [
       "    start_date   end_date  total_deaths  population\n",
       "0   2015-01-04 2015-01-10         61737   328300544\n",
       "1   2015-01-11 2015-01-17         61141   328300544\n",
       "2   2015-01-18 2015-01-24         58628   328300544\n",
       "3   2015-01-25 2015-01-31         57269   328300544\n",
       "4   2015-02-01 2015-02-07         57284   328300544\n",
       "..         ...        ...           ...         ...\n",
       "274 2020-04-05 2020-04-11         73581   328300544\n",
       "275 2020-04-12 2020-04-18         69533   328300544\n",
       "276 2020-04-19 2020-04-25         63336   328300544\n",
       "277 2020-04-26 2020-05-02         55506   328300544\n",
       "278 2020-05-03 2020-05-09         44504   328300544\n",
       "\n",
       "[279 rows x 4 columns]"
      ]
     },
     "execution_count": 67,
     "metadata": {},
     "output_type": "execute_result"
    }
   ],
   "source": [
    "# total US weekly deaths\n",
    "us_tot = pd.DataFrame(data.drop(nyc.index).groupby(['start_date', 'end_date'])['total_deaths'].sum())\n",
    "\n",
    "us_tot.reset_index(level=us_tot.index.names, inplace=True)\n",
    "\n",
    "# Summing the population of each region together for total US population\n",
    "us_tot['population'] = data.drop(nyc.index).groupby('region_code')['population'].mean().sum()\n",
    "\n",
    "us_tot"
   ]
  },
  {
   "cell_type": "code",
   "execution_count": 68,
   "metadata": {},
   "outputs": [],
   "source": [
    "# create deaths per million column\n",
    "data['deaths_per_mil'] = round(data['total_deaths'] / ( data['population'] / 1_000_000 ), 3)\n",
    "us_tot['deaths_per_mil'] = round(us_tot['total_deaths'] / ( us_tot['population'] / 1_000_000 ), 3)"
   ]
  },
  {
   "cell_type": "code",
   "execution_count": 82,
   "metadata": {
    "scrolled": true
   },
   "outputs": [
    {
     "data": {
      "text/html": [
       "<div>\n",
       "<style scoped>\n",
       "    .dataframe tbody tr th:only-of-type {\n",
       "        vertical-align: middle;\n",
       "    }\n",
       "\n",
       "    .dataframe tbody tr th {\n",
       "        vertical-align: top;\n",
       "    }\n",
       "\n",
       "    .dataframe thead th {\n",
       "        text-align: right;\n",
       "    }\n",
       "</style>\n",
       "<table border=\"1\" class=\"dataframe\">\n",
       "  <thead>\n",
       "    <tr style=\"text-align: right;\">\n",
       "      <th></th>\n",
       "      <th>country</th>\n",
       "      <th>region</th>\n",
       "      <th>region_code</th>\n",
       "      <th>start_date</th>\n",
       "      <th>end_date</th>\n",
       "      <th>year</th>\n",
       "      <th>week</th>\n",
       "      <th>population</th>\n",
       "      <th>total_deaths</th>\n",
       "      <th>deaths_per_mil</th>\n",
       "    </tr>\n",
       "  </thead>\n",
       "  <tbody>\n",
       "    <tr>\n",
       "      <th>0</th>\n",
       "      <td>United States</td>\n",
       "      <td>Alabama</td>\n",
       "      <td>AL</td>\n",
       "      <td>2015-01-04</td>\n",
       "      <td>2015-01-10</td>\n",
       "      <td>2015</td>\n",
       "      <td>1</td>\n",
       "      <td>4903185</td>\n",
       "      <td>1169</td>\n",
       "      <td>238.416</td>\n",
       "    </tr>\n",
       "    <tr>\n",
       "      <th>1</th>\n",
       "      <td>United States</td>\n",
       "      <td>Alabama</td>\n",
       "      <td>AL</td>\n",
       "      <td>2015-01-11</td>\n",
       "      <td>2015-01-17</td>\n",
       "      <td>2015</td>\n",
       "      <td>2</td>\n",
       "      <td>4903185</td>\n",
       "      <td>1172</td>\n",
       "      <td>239.028</td>\n",
       "    </tr>\n",
       "    <tr>\n",
       "      <th>2</th>\n",
       "      <td>United States</td>\n",
       "      <td>Alabama</td>\n",
       "      <td>AL</td>\n",
       "      <td>2015-01-18</td>\n",
       "      <td>2015-01-24</td>\n",
       "      <td>2015</td>\n",
       "      <td>3</td>\n",
       "      <td>4903185</td>\n",
       "      <td>1072</td>\n",
       "      <td>218.633</td>\n",
       "    </tr>\n",
       "    <tr>\n",
       "      <th>3</th>\n",
       "      <td>United States</td>\n",
       "      <td>Alabama</td>\n",
       "      <td>AL</td>\n",
       "      <td>2015-01-25</td>\n",
       "      <td>2015-01-31</td>\n",
       "      <td>2015</td>\n",
       "      <td>4</td>\n",
       "      <td>4903185</td>\n",
       "      <td>1087</td>\n",
       "      <td>221.693</td>\n",
       "    </tr>\n",
       "    <tr>\n",
       "      <th>4</th>\n",
       "      <td>United States</td>\n",
       "      <td>Alabama</td>\n",
       "      <td>AL</td>\n",
       "      <td>2015-02-01</td>\n",
       "      <td>2015-02-07</td>\n",
       "      <td>2015</td>\n",
       "      <td>5</td>\n",
       "      <td>4903185</td>\n",
       "      <td>1130</td>\n",
       "      <td>230.462</td>\n",
       "    </tr>\n",
       "    <tr>\n",
       "      <th>...</th>\n",
       "      <td>...</td>\n",
       "      <td>...</td>\n",
       "      <td>...</td>\n",
       "      <td>...</td>\n",
       "      <td>...</td>\n",
       "      <td>...</td>\n",
       "      <td>...</td>\n",
       "      <td>...</td>\n",
       "      <td>...</td>\n",
       "      <td>...</td>\n",
       "    </tr>\n",
       "    <tr>\n",
       "      <th>14495</th>\n",
       "      <td>United States</td>\n",
       "      <td>New York</td>\n",
       "      <td>NY</td>\n",
       "      <td>2020-04-05</td>\n",
       "      <td>2020-04-11</td>\n",
       "      <td>2020</td>\n",
       "      <td>15</td>\n",
       "      <td>19453561</td>\n",
       "      <td>12079</td>\n",
       "      <td>620.915</td>\n",
       "    </tr>\n",
       "    <tr>\n",
       "      <th>14496</th>\n",
       "      <td>United States</td>\n",
       "      <td>New York</td>\n",
       "      <td>NY</td>\n",
       "      <td>2020-04-12</td>\n",
       "      <td>2020-04-18</td>\n",
       "      <td>2020</td>\n",
       "      <td>16</td>\n",
       "      <td>19453561</td>\n",
       "      <td>9864</td>\n",
       "      <td>507.054</td>\n",
       "    </tr>\n",
       "    <tr>\n",
       "      <th>14497</th>\n",
       "      <td>United States</td>\n",
       "      <td>New York</td>\n",
       "      <td>NY</td>\n",
       "      <td>2020-04-19</td>\n",
       "      <td>2020-04-25</td>\n",
       "      <td>2020</td>\n",
       "      <td>17</td>\n",
       "      <td>19453561</td>\n",
       "      <td>7123</td>\n",
       "      <td>366.154</td>\n",
       "    </tr>\n",
       "    <tr>\n",
       "      <th>14498</th>\n",
       "      <td>United States</td>\n",
       "      <td>New York</td>\n",
       "      <td>NY</td>\n",
       "      <td>2020-04-26</td>\n",
       "      <td>2020-05-02</td>\n",
       "      <td>2020</td>\n",
       "      <td>18</td>\n",
       "      <td>19453561</td>\n",
       "      <td>5109</td>\n",
       "      <td>262.625</td>\n",
       "    </tr>\n",
       "    <tr>\n",
       "      <th>14499</th>\n",
       "      <td>United States</td>\n",
       "      <td>New York</td>\n",
       "      <td>NY</td>\n",
       "      <td>2020-05-03</td>\n",
       "      <td>2020-05-09</td>\n",
       "      <td>2020</td>\n",
       "      <td>19</td>\n",
       "      <td>19453561</td>\n",
       "      <td>4305</td>\n",
       "      <td>221.296</td>\n",
       "    </tr>\n",
       "  </tbody>\n",
       "</table>\n",
       "<p>14500 rows × 10 columns</p>\n",
       "</div>"
      ],
      "text/plain": [
       "             country    region region_code start_date   end_date  year  week  \\\n",
       "0      United States   Alabama          AL 2015-01-04 2015-01-10  2015     1   \n",
       "1      United States   Alabama          AL 2015-01-11 2015-01-17  2015     2   \n",
       "2      United States   Alabama          AL 2015-01-18 2015-01-24  2015     3   \n",
       "3      United States   Alabama          AL 2015-01-25 2015-01-31  2015     4   \n",
       "4      United States   Alabama          AL 2015-02-01 2015-02-07  2015     5   \n",
       "...              ...       ...         ...        ...        ...   ...   ...   \n",
       "14495  United States  New York          NY 2020-04-05 2020-04-11  2020    15   \n",
       "14496  United States  New York          NY 2020-04-12 2020-04-18  2020    16   \n",
       "14497  United States  New York          NY 2020-04-19 2020-04-25  2020    17   \n",
       "14498  United States  New York          NY 2020-04-26 2020-05-02  2020    18   \n",
       "14499  United States  New York          NY 2020-05-03 2020-05-09  2020    19   \n",
       "\n",
       "       population  total_deaths  deaths_per_mil  \n",
       "0         4903185          1169         238.416  \n",
       "1         4903185          1172         239.028  \n",
       "2         4903185          1072         218.633  \n",
       "3         4903185          1087         221.693  \n",
       "4         4903185          1130         230.462  \n",
       "...           ...           ...             ...  \n",
       "14495    19453561         12079         620.915  \n",
       "14496    19453561          9864         507.054  \n",
       "14497    19453561          7123         366.154  \n",
       "14498    19453561          5109         262.625  \n",
       "14499    19453561          4305         221.296  \n",
       "\n",
       "[14500 rows x 10 columns]"
      ]
     },
     "execution_count": 82,
     "metadata": {},
     "output_type": "execute_result"
    }
   ],
   "source": [
    "data"
   ]
  },
  {
   "cell_type": "code",
   "execution_count": 69,
   "metadata": {},
   "outputs": [
    {
     "data": {
      "text/html": [
       "<div>\n",
       "<style scoped>\n",
       "    .dataframe tbody tr th:only-of-type {\n",
       "        vertical-align: middle;\n",
       "    }\n",
       "\n",
       "    .dataframe tbody tr th {\n",
       "        vertical-align: top;\n",
       "    }\n",
       "\n",
       "    .dataframe thead th {\n",
       "        text-align: right;\n",
       "    }\n",
       "</style>\n",
       "<table border=\"1\" class=\"dataframe\">\n",
       "  <thead>\n",
       "    <tr style=\"text-align: right;\">\n",
       "      <th></th>\n",
       "      <th>start_date</th>\n",
       "      <th>end_date</th>\n",
       "      <th>total_deaths</th>\n",
       "      <th>population</th>\n",
       "      <th>deaths_per_mil</th>\n",
       "    </tr>\n",
       "  </thead>\n",
       "  <tbody>\n",
       "    <tr>\n",
       "      <th>0</th>\n",
       "      <td>2015-01-04</td>\n",
       "      <td>2015-01-10</td>\n",
       "      <td>61737</td>\n",
       "      <td>328300544</td>\n",
       "      <td>188.050</td>\n",
       "    </tr>\n",
       "    <tr>\n",
       "      <th>1</th>\n",
       "      <td>2015-01-11</td>\n",
       "      <td>2015-01-17</td>\n",
       "      <td>61141</td>\n",
       "      <td>328300544</td>\n",
       "      <td>186.235</td>\n",
       "    </tr>\n",
       "    <tr>\n",
       "      <th>2</th>\n",
       "      <td>2015-01-18</td>\n",
       "      <td>2015-01-24</td>\n",
       "      <td>58628</td>\n",
       "      <td>328300544</td>\n",
       "      <td>178.580</td>\n",
       "    </tr>\n",
       "    <tr>\n",
       "      <th>3</th>\n",
       "      <td>2015-01-25</td>\n",
       "      <td>2015-01-31</td>\n",
       "      <td>57269</td>\n",
       "      <td>328300544</td>\n",
       "      <td>174.441</td>\n",
       "    </tr>\n",
       "    <tr>\n",
       "      <th>4</th>\n",
       "      <td>2015-02-01</td>\n",
       "      <td>2015-02-07</td>\n",
       "      <td>57284</td>\n",
       "      <td>328300544</td>\n",
       "      <td>174.486</td>\n",
       "    </tr>\n",
       "    <tr>\n",
       "      <th>...</th>\n",
       "      <td>...</td>\n",
       "      <td>...</td>\n",
       "      <td>...</td>\n",
       "      <td>...</td>\n",
       "      <td>...</td>\n",
       "    </tr>\n",
       "    <tr>\n",
       "      <th>274</th>\n",
       "      <td>2020-04-05</td>\n",
       "      <td>2020-04-11</td>\n",
       "      <td>73581</td>\n",
       "      <td>328300544</td>\n",
       "      <td>224.127</td>\n",
       "    </tr>\n",
       "    <tr>\n",
       "      <th>275</th>\n",
       "      <td>2020-04-12</td>\n",
       "      <td>2020-04-18</td>\n",
       "      <td>69533</td>\n",
       "      <td>328300544</td>\n",
       "      <td>211.797</td>\n",
       "    </tr>\n",
       "    <tr>\n",
       "      <th>276</th>\n",
       "      <td>2020-04-19</td>\n",
       "      <td>2020-04-25</td>\n",
       "      <td>63336</td>\n",
       "      <td>328300544</td>\n",
       "      <td>192.921</td>\n",
       "    </tr>\n",
       "    <tr>\n",
       "      <th>277</th>\n",
       "      <td>2020-04-26</td>\n",
       "      <td>2020-05-02</td>\n",
       "      <td>55506</td>\n",
       "      <td>328300544</td>\n",
       "      <td>169.071</td>\n",
       "    </tr>\n",
       "    <tr>\n",
       "      <th>278</th>\n",
       "      <td>2020-05-03</td>\n",
       "      <td>2020-05-09</td>\n",
       "      <td>44504</td>\n",
       "      <td>328300544</td>\n",
       "      <td>135.559</td>\n",
       "    </tr>\n",
       "  </tbody>\n",
       "</table>\n",
       "<p>279 rows × 5 columns</p>\n",
       "</div>"
      ],
      "text/plain": [
       "    start_date   end_date  total_deaths  population  deaths_per_mil\n",
       "0   2015-01-04 2015-01-10         61737   328300544         188.050\n",
       "1   2015-01-11 2015-01-17         61141   328300544         186.235\n",
       "2   2015-01-18 2015-01-24         58628   328300544         178.580\n",
       "3   2015-01-25 2015-01-31         57269   328300544         174.441\n",
       "4   2015-02-01 2015-02-07         57284   328300544         174.486\n",
       "..         ...        ...           ...         ...             ...\n",
       "274 2020-04-05 2020-04-11         73581   328300544         224.127\n",
       "275 2020-04-12 2020-04-18         69533   328300544         211.797\n",
       "276 2020-04-19 2020-04-25         63336   328300544         192.921\n",
       "277 2020-04-26 2020-05-02         55506   328300544         169.071\n",
       "278 2020-05-03 2020-05-09         44504   328300544         135.559\n",
       "\n",
       "[279 rows x 5 columns]"
      ]
     },
     "execution_count": 69,
     "metadata": {},
     "output_type": "execute_result"
    }
   ],
   "source": [
    "us_tot"
   ]
  },
  {
   "cell_type": "code",
   "execution_count": 160,
   "metadata": {
    "scrolled": true
   },
   "outputs": [
    {
     "data": {
      "image/png": "[encoded data removed]",
      "text/plain": [
       "<Figure size 1440x360 with 1 Axes>"
      ]
     },
     "metadata": {
      "needs_background": "light"
     },
     "output_type": "display_data"
    }
   ],
   "source": [
    "# Connecticut's data seems incomplete\n",
    "\n",
    "plt.figure(figsize = (20,5))\n",
    "\n",
    "sb.lineplot(data[data['region']=='Connecticut']['end_date'], data[data['region']=='Connecticut']['total_deaths'])\n",
    "plt.yticks=data[data['region']=='Connecticut']['end_date'].dt.year\n"
   ]
  },
  {
   "cell_type": "code",
   "execution_count": 70,
   "metadata": {},
   "outputs": [],
   "source": [
    "# Simplify to a crosstab of state by week showing deaths per million\n",
    "df = data.groupby(['region_code', 'end_date'])['deaths_per_mil'].mean().unstack()"
   ]
  },
  {
   "cell_type": "code",
   "execution_count": 40,
   "metadata": {},
   "outputs": [],
   "source": [
    "# def identity(x):\n",
    "#     return x\n",
    "\n",
    "# pd.crosstab(df['region'], df['end_date'], values = df['deaths_per_mil'], aggfunc = identity)"
   ]
  },
  {
   "cell_type": "code",
   "execution_count": 71,
   "metadata": {},
   "outputs": [],
   "source": [
    "def show(state):\n",
    "    return df[df.index == state]"
   ]
  },
  {
   "cell_type": "code",
   "execution_count": 72,
   "metadata": {},
   "outputs": [
    {
     "data": {
      "text/html": [
       "<div>\n",
       "<style scoped>\n",
       "    .dataframe tbody tr th:only-of-type {\n",
       "        vertical-align: middle;\n",
       "    }\n",
       "\n",
       "    .dataframe tbody tr th {\n",
       "        vertical-align: top;\n",
       "    }\n",
       "\n",
       "    .dataframe thead th {\n",
       "        text-align: right;\n",
       "    }\n",
       "</style>\n",
       "<table border=\"1\" class=\"dataframe\">\n",
       "  <thead>\n",
       "    <tr style=\"text-align: right;\">\n",
       "      <th>end_date</th>\n",
       "      <th>2015-01-10</th>\n",
       "      <th>2015-01-17</th>\n",
       "      <th>2015-01-24</th>\n",
       "      <th>2015-01-31</th>\n",
       "      <th>2015-02-07</th>\n",
       "      <th>2015-02-14</th>\n",
       "      <th>2015-02-21</th>\n",
       "      <th>2015-02-28</th>\n",
       "      <th>2015-03-07</th>\n",
       "      <th>2015-03-14</th>\n",
       "      <th>...</th>\n",
       "      <th>2020-03-07</th>\n",
       "      <th>2020-03-14</th>\n",
       "      <th>2020-03-21</th>\n",
       "      <th>2020-03-28</th>\n",
       "      <th>2020-04-04</th>\n",
       "      <th>2020-04-11</th>\n",
       "      <th>2020-04-18</th>\n",
       "      <th>2020-04-25</th>\n",
       "      <th>2020-05-02</th>\n",
       "      <th>2020-05-09</th>\n",
       "    </tr>\n",
       "    <tr>\n",
       "      <th>region_code</th>\n",
       "      <th></th>\n",
       "      <th></th>\n",
       "      <th></th>\n",
       "      <th></th>\n",
       "      <th></th>\n",
       "      <th></th>\n",
       "      <th></th>\n",
       "      <th></th>\n",
       "      <th></th>\n",
       "      <th></th>\n",
       "      <th></th>\n",
       "      <th></th>\n",
       "      <th></th>\n",
       "      <th></th>\n",
       "      <th></th>\n",
       "      <th></th>\n",
       "      <th></th>\n",
       "      <th></th>\n",
       "      <th></th>\n",
       "      <th></th>\n",
       "      <th></th>\n",
       "    </tr>\n",
       "  </thead>\n",
       "  <tbody>\n",
       "    <tr>\n",
       "      <th>AK</th>\n",
       "      <td>114.825</td>\n",
       "      <td>109.358</td>\n",
       "      <td>120.293</td>\n",
       "      <td>117.559</td>\n",
       "      <td>124.394</td>\n",
       "      <td>114.825</td>\n",
       "      <td>106.624</td>\n",
       "      <td>124.394</td>\n",
       "      <td>105.257</td>\n",
       "      <td>114.825</td>\n",
       "      <td>...</td>\n",
       "      <td>112.092</td>\n",
       "      <td>121.660</td>\n",
       "      <td>86.119</td>\n",
       "      <td>116.192</td>\n",
       "      <td>128.495</td>\n",
       "      <td>103.890</td>\n",
       "      <td>95.688</td>\n",
       "      <td>76.550</td>\n",
       "      <td>77.917</td>\n",
       "      <td>66.982</td>\n",
       "    </tr>\n",
       "    <tr>\n",
       "      <th>AL</th>\n",
       "      <td>238.416</td>\n",
       "      <td>239.028</td>\n",
       "      <td>218.633</td>\n",
       "      <td>221.693</td>\n",
       "      <td>230.462</td>\n",
       "      <td>224.752</td>\n",
       "      <td>221.897</td>\n",
       "      <td>229.443</td>\n",
       "      <td>249.634</td>\n",
       "      <td>231.482</td>\n",
       "      <td>...</td>\n",
       "      <td>220.061</td>\n",
       "      <td>218.429</td>\n",
       "      <td>217.002</td>\n",
       "      <td>214.758</td>\n",
       "      <td>232.298</td>\n",
       "      <td>221.897</td>\n",
       "      <td>217.614</td>\n",
       "      <td>204.765</td>\n",
       "      <td>189.061</td>\n",
       "      <td>141.541</td>\n",
       "    </tr>\n",
       "    <tr>\n",
       "      <th>AR</th>\n",
       "      <td>249.517</td>\n",
       "      <td>227.979</td>\n",
       "      <td>230.298</td>\n",
       "      <td>226.653</td>\n",
       "      <td>242.227</td>\n",
       "      <td>223.340</td>\n",
       "      <td>210.748</td>\n",
       "      <td>236.263</td>\n",
       "      <td>229.304</td>\n",
       "      <td>212.736</td>\n",
       "      <td>...</td>\n",
       "      <td>229.967</td>\n",
       "      <td>206.440</td>\n",
       "      <td>212.073</td>\n",
       "      <td>210.085</td>\n",
       "      <td>202.795</td>\n",
       "      <td>205.115</td>\n",
       "      <td>207.766</td>\n",
       "      <td>195.505</td>\n",
       "      <td>189.209</td>\n",
       "      <td>173.635</td>\n",
       "    </tr>\n",
       "    <tr>\n",
       "      <th>AZ</th>\n",
       "      <td>153.186</td>\n",
       "      <td>159.781</td>\n",
       "      <td>145.081</td>\n",
       "      <td>172.008</td>\n",
       "      <td>153.049</td>\n",
       "      <td>146.454</td>\n",
       "      <td>148.927</td>\n",
       "      <td>141.234</td>\n",
       "      <td>150.301</td>\n",
       "      <td>157.308</td>\n",
       "      <td>...</td>\n",
       "      <td>183.549</td>\n",
       "      <td>175.993</td>\n",
       "      <td>170.772</td>\n",
       "      <td>174.207</td>\n",
       "      <td>179.702</td>\n",
       "      <td>186.434</td>\n",
       "      <td>174.069</td>\n",
       "      <td>181.351</td>\n",
       "      <td>176.542</td>\n",
       "      <td>146.592</td>\n",
       "    </tr>\n",
       "    <tr>\n",
       "      <th>CA</th>\n",
       "      <td>145.879</td>\n",
       "      <td>147.271</td>\n",
       "      <td>140.665</td>\n",
       "      <td>143.247</td>\n",
       "      <td>138.691</td>\n",
       "      <td>140.184</td>\n",
       "      <td>137.198</td>\n",
       "      <td>131.099</td>\n",
       "      <td>136.641</td>\n",
       "      <td>133.123</td>\n",
       "      <td>...</td>\n",
       "      <td>143.525</td>\n",
       "      <td>136.742</td>\n",
       "      <td>142.285</td>\n",
       "      <td>142.083</td>\n",
       "      <td>149.042</td>\n",
       "      <td>148.941</td>\n",
       "      <td>149.599</td>\n",
       "      <td>137.350</td>\n",
       "      <td>124.746</td>\n",
       "      <td>109.839</td>\n",
       "    </tr>\n",
       "  </tbody>\n",
       "</table>\n",
       "<p>5 rows × 279 columns</p>\n",
       "</div>"
      ],
      "text/plain": [
       "end_date     2015-01-10  2015-01-17  2015-01-24  2015-01-31  2015-02-07  \\\n",
       "region_code                                                               \n",
       "AK              114.825     109.358     120.293     117.559     124.394   \n",
       "AL              238.416     239.028     218.633     221.693     230.462   \n",
       "AR              249.517     227.979     230.298     226.653     242.227   \n",
       "AZ              153.186     159.781     145.081     172.008     153.049   \n",
       "CA              145.879     147.271     140.665     143.247     138.691   \n",
       "\n",
       "end_date     2015-02-14  2015-02-21  2015-02-28  2015-03-07  2015-03-14  ...  \\\n",
       "region_code                                                              ...   \n",
       "AK              114.825     106.624     124.394     105.257     114.825  ...   \n",
       "AL              224.752     221.897     229.443     249.634     231.482  ...   \n",
       "AR              223.340     210.748     236.263     229.304     212.736  ...   \n",
       "AZ              146.454     148.927     141.234     150.301     157.308  ...   \n",
       "CA              140.184     137.198     131.099     136.641     133.123  ...   \n",
       "\n",
       "end_date     2020-03-07  2020-03-14  2020-03-21  2020-03-28  2020-04-04  \\\n",
       "region_code                                                               \n",
       "AK              112.092     121.660      86.119     116.192     128.495   \n",
       "AL              220.061     218.429     217.002     214.758     232.298   \n",
       "AR              229.967     206.440     212.073     210.085     202.795   \n",
       "AZ              183.549     175.993     170.772     174.207     179.702   \n",
       "CA              143.525     136.742     142.285     142.083     149.042   \n",
       "\n",
       "end_date     2020-04-11  2020-04-18  2020-04-25  2020-05-02  2020-05-09  \n",
       "region_code                                                              \n",
       "AK              103.890      95.688      76.550      77.917      66.982  \n",
       "AL              221.897     217.614     204.765     189.061     141.541  \n",
       "AR              205.115     207.766     195.505     189.209     173.635  \n",
       "AZ              186.434     174.069     181.351     176.542     146.592  \n",
       "CA              148.941     149.599     137.350     124.746     109.839  \n",
       "\n",
       "[5 rows x 279 columns]"
      ]
     },
     "execution_count": 72,
     "metadata": {},
     "output_type": "execute_result"
    }
   ],
   "source": [
    "df.head()"
   ]
  },
  {
   "cell_type": "code",
   "execution_count": 174,
   "metadata": {},
   "outputs": [],
   "source": [
    "# We know 2020's data will be aberrant (or believe it will be), so will train and validate our model on all data before then\n",
    "# This model will presumably predict 2020 quite poorly; the degree by which it does is our parameter of interest.\n",
    "\n",
    "test = df.T[df.columns.year == 2020].T\n",
    "train = df.T[df.columns.year != 2020].T\n",
    "\n",
    "us_train = us_tot[us_tot['start_date'].dt.year != 2020]\n",
    "us_test = us_tot[us_tot['start_date'].dt.year == 2020]"
   ]
  },
  {
   "cell_type": "markdown",
   "metadata": {},
   "source": [
    "# Using US totals to get parameters for a SARIMA model\n",
    "We'll fit one model for each state to capture whatever trends were distinct between them, but will use the same parameters that best fits the numbers from the US as a whole."
   ]
  },
  {
   "cell_type": "code",
   "execution_count": 218,
   "metadata": {},
   "outputs": [
    {
     "data": {
      "image/png": "[encoded data removed]",
      "text/plain": [
       "<Figure size 720x288 with 1 Axes>"
      ]
     },
     "metadata": {
      "needs_background": "light"
     },
     "output_type": "display_data"
    }
   ],
   "source": [
    "\n",
    "start_year = us_train['start_date'][0].year\n",
    "end_year = us_train['end_date'][us_train.shape[0]-1].year\n",
    "\n",
    "plt.figure(figsize=(10,4))\n",
    "plt.plot(us_train.set_index('end_date')['deaths_per_mil'])\n",
    "plt.title('US, pre-2020', fontsize=20)\n",
    "plt.ylabel('Deaths per million', fontsize=16)\n",
    "for year in range(start_date.year,end_date.year):\n",
    "    plt.axvline(pd.to_datetime(str(year)+'-01-01'), color='k', linestyle='--', alpha=0.2)"
   ]
  },
  {
   "cell_type": "code",
   "execution_count": 158,
   "metadata": {},
   "outputs": [
    {
     "data": {
      "text/plain": [
       "Text(0, 0.5, 'Deaths per million')"
      ]
     },
     "execution_count": 158,
     "metadata": {},
     "output_type": "execute_result"
    },
    {
     "data": {
      "image/png": "[encoded data removed]",
      "text/plain": [
       "<Figure size 720x288 with 1 Axes>"
      ]
     },
     "metadata": {
      "needs_background": "light"
     },
     "output_type": "display_data"
    }
   ],
   "source": [
    "# the drop in recent data suggests that the data is incomplete\n",
    "\n",
    "plt.figure(figsize=(10,4))\n",
    "plt.plot(us_test.set_index('end_date')['deaths_per_mil'])\n",
    "plt.title('US, 2020', fontsize=20)\n",
    "plt.ylabel('Deaths per million', fontsize=16)\n"
   ]
  },
  {
   "cell_type": "code",
   "execution_count": 144,
   "metadata": {},
   "outputs": [
    {
     "data": {
      "text/plain": [
       "Test Statistic   -4.728621\n",
       "p-value           0.000074\n",
       "dtype: float64"
      ]
     },
     "execution_count": 144,
     "metadata": {},
     "output_type": "execute_result"
    }
   ],
   "source": [
    "interpret_dftest(adfuller(us_train['deaths_per_mil']))"
   ]
  },
  {
   "cell_type": "code",
   "execution_count": 145,
   "metadata": {},
   "outputs": [
    {
     "data": {
      "image/png": "[encoded data removed]",
      "text/plain": [
       "<Figure size 432x288 with 1 Axes>"
      ]
     },
     "metadata": {
      "needs_background": "light"
     },
     "output_type": "display_data"
    }
   ],
   "source": [
    "plot_acf(us_train['deaths_per_mil'], lags = 60);"
   ]
  },
  {
   "cell_type": "code",
   "execution_count": 146,
   "metadata": {},
   "outputs": [
    {
     "data": {
      "image/png": "[encoded data removed]",
      "text/plain": [
       "<Figure size 432x288 with 1 Axes>"
      ]
     },
     "metadata": {
      "needs_background": "light"
     },
     "output_type": "display_data"
    }
   ],
   "source": [
    "plot_pacf(us_train['deaths_per_mil'], lags = 60);"
   ]
  },
  {
   "cell_type": "code",
   "execution_count": 231,
   "metadata": {},
   "outputs": [],
   "source": [
    "y_train, y_test = train_test_split(us_train['deaths_per_mil'],\n",
    "                                  test_size = 0.1,\n",
    "                                  shuffle = False)"
   ]
  },
  {
   "cell_type": "code",
   "execution_count": null,
   "metadata": {
    "scrolled": true
   },
   "outputs": [
    {
     "name": "stdout",
     "output_type": "stream",
     "text": [
      "Attempting to fit SARIMA((0, 0, 0) by (0, 0, 0, 52)) model.\n",
      "The AIC for this model is: 3050.3731243444468\n",
      "Attempting to fit SARIMA((0, 0, 0) by (0, 0, 1, 52)) model.\n",
      "The AIC for this model is: 2859.06875256094\n",
      "Attempting to fit SARIMA((0, 0, 0) by (0, 0, 2, 52)) model.\n",
      "The AIC for this model is: 2706.236185550115\n",
      "Attempting to fit SARIMA((0, 0, 0) by (0, 0, 3, 52)) model.\n",
      "The AIC for this model is: 2582.8466483294105\n",
      "Attempting to fit SARIMA((0, 0, 0) by (0, 1, 0, 52)) model.\n",
      "The AIC for this model is: 1210.2788398020925\n",
      "Attempting to fit SARIMA((0, 0, 0) by (0, 1, 1, 52)) model.\n",
      "The AIC for this model is: 1198.8233760812527\n",
      "Attempting to fit SARIMA((0, 0, 0) by (0, 1, 2, 52)) model.\n",
      "The AIC for this model is: 1178.791664275157\n",
      "Attempting to fit SARIMA((0, 0, 0) by (0, 1, 3, 52)) model.\n"
     ]
    },
    {
     "name": "stderr",
     "output_type": "stream",
     "text": [
      "C:\\Users\\lafka\\anaconda3\\lib\\site-packages\\statsmodels\\base\\model.py:568: ConvergenceWarning: Maximum Likelihood optimization failed to converge. Check mle_retvals\n",
      "  \"Check mle_retvals\", ConvergenceWarning)\n"
     ]
    },
    {
     "name": "stdout",
     "output_type": "stream",
     "text": [
      "The AIC for this model is: 1175.1082626947405\n",
      "Attempting to fit SARIMA((0, 0, 0) by (1, 0, 0, 52)) model.\n",
      "The AIC for this model is: 1888.7294446037827\n",
      "Attempting to fit SARIMA((0, 0, 0) by (1, 0, 1, 52)) model.\n",
      "The AIC for this model is: 1877.6770050567434\n",
      "Attempting to fit SARIMA((0, 0, 0) by (1, 0, 2, 52)) model.\n",
      "The AIC for this model is: 1863.5044990689871\n",
      "Attempting to fit SARIMA((0, 0, 0) by (1, 0, 3, 52)) model.\n",
      "The AIC for this model is: 1854.1513981323926\n",
      "Attempting to fit SARIMA((0, 0, 0) by (1, 1, 0, 52)) model.\n",
      "The AIC for this model is: 1206.1644729493053\n",
      "Attempting to fit SARIMA((0, 0, 0) by (1, 1, 1, 52)) model.\n",
      "The AIC for this model is: 1196.699280879963\n",
      "Attempting to fit SARIMA((0, 0, 0) by (1, 1, 2, 52)) model.\n",
      "The AIC for this model is: 1177.5402589349633\n",
      "Attempting to fit SARIMA((0, 0, 0) by (1, 1, 3, 52)) model.\n"
     ]
    },
    {
     "name": "stderr",
     "output_type": "stream",
     "text": [
      "C:\\Users\\lafka\\anaconda3\\lib\\site-packages\\statsmodels\\base\\model.py:568: ConvergenceWarning: Maximum Likelihood optimization failed to converge. Check mle_retvals\n",
      "  \"Check mle_retvals\", ConvergenceWarning)\n"
     ]
    },
    {
     "name": "stdout",
     "output_type": "stream",
     "text": [
      "The AIC for this model is: 1175.077260977699\n",
      "Attempting to fit SARIMA((0, 0, 0) by (2, 0, 0, 52)) model.\n",
      "The AIC for this model is: 1884.8804366149502\n",
      "Attempting to fit SARIMA((0, 0, 0) by (2, 0, 1, 52)) model.\n",
      "The AIC for this model is: 1885.0259436705446\n",
      "Attempting to fit SARIMA((0, 0, 0) by (2, 0, 2, 52)) model.\n"
     ]
    },
    {
     "name": "stderr",
     "output_type": "stream",
     "text": [
      "C:\\Users\\lafka\\anaconda3\\lib\\site-packages\\statsmodels\\base\\model.py:568: ConvergenceWarning: Maximum Likelihood optimization failed to converge. Check mle_retvals\n",
      "  \"Check mle_retvals\", ConvergenceWarning)\n"
     ]
    },
    {
     "name": "stdout",
     "output_type": "stream",
     "text": [
      "The AIC for this model is: 1879.6634666121736\n",
      "Attempting to fit SARIMA((0, 0, 0) by (2, 0, 3, 52)) model.\n",
      "The AIC for this model is: 1865.6604125782262\n",
      "Attempting to fit SARIMA((0, 0, 0) by (2, 1, 0, 52)) model.\n",
      "The AIC for this model is: 1173.961277118627\n",
      "Attempting to fit SARIMA((0, 0, 0) by (2, 1, 1, 52)) model.\n",
      "The AIC for this model is: 1170.693712314908\n",
      "Attempting to fit SARIMA((0, 0, 0) by (2, 1, 2, 52)) model.\n"
     ]
    },
    {
     "name": "stderr",
     "output_type": "stream",
     "text": [
      "C:\\Users\\lafka\\anaconda3\\lib\\site-packages\\statsmodels\\base\\model.py:568: ConvergenceWarning: Maximum Likelihood optimization failed to converge. Check mle_retvals\n",
      "  \"Check mle_retvals\", ConvergenceWarning)\n"
     ]
    },
    {
     "name": "stdout",
     "output_type": "stream",
     "text": [
      "The AIC for this model is: 1171.5995811098444\n",
      "Attempting to fit SARIMA((0, 0, 0) by (2, 1, 3, 52)) model.\n",
      "The AIC for this model is: 1173.4638196311566\n",
      "Attempting to fit SARIMA((0, 0, 0) by (3, 0, 0, 52)) model.\n",
      "The AIC for this model is: 1853.905854733413\n",
      "Attempting to fit SARIMA((0, 0, 0) by (3, 0, 1, 52)) model.\n",
      "The AIC for this model is: 1849.9346705852072\n",
      "Attempting to fit SARIMA((0, 0, 0) by (3, 0, 2, 52)) model.\n",
      "The AIC for this model is: 1850.5980167567664\n",
      "Attempting to fit SARIMA((0, 0, 0) by (3, 0, 3, 52)) model.\n"
     ]
    },
    {
     "name": "stderr",
     "output_type": "stream",
     "text": [
      "C:\\Users\\lafka\\anaconda3\\lib\\site-packages\\statsmodels\\base\\model.py:568: ConvergenceWarning: Maximum Likelihood optimization failed to converge. Check mle_retvals\n",
      "  \"Check mle_retvals\", ConvergenceWarning)\n"
     ]
    },
    {
     "name": "stdout",
     "output_type": "stream",
     "text": [
      "The AIC for this model is: 1886.5043421456407\n",
      "Attempting to fit SARIMA((0, 0, 0) by (3, 1, 0, 52)) model.\n",
      "The AIC for this model is: 1169.463273381944\n",
      "Attempting to fit SARIMA((0, 0, 0) by (3, 1, 1, 52)) model.\n",
      "The AIC for this model is: 1171.4642445378674\n",
      "Attempting to fit SARIMA((0, 0, 0) by (3, 1, 2, 52)) model.\n",
      "The AIC for this model is: 1173.463609380833\n",
      "Attempting to fit SARIMA((0, 0, 0) by (3, 1, 3, 52)) model.\n",
      "The AIC for this model is: 1175.4632979035616\n",
      "Attempting to fit SARIMA((0, 1, 0) by (0, 0, 0, 52)) model.\n",
      "The AIC for this model is: 1137.1682855023041\n",
      "Attempting to fit SARIMA((0, 1, 0) by (0, 0, 1, 52)) model.\n",
      "The AIC for this model is: 1110.3784117087055\n",
      "Attempting to fit SARIMA((0, 1, 0) by (0, 0, 2, 52)) model.\n",
      "The AIC for this model is: 1106.5766760603774\n",
      "Attempting to fit SARIMA((0, 1, 0) by (0, 0, 3, 52)) model.\n",
      "The AIC for this model is: 1077.4624043842605\n",
      "Attempting to fit SARIMA((0, 1, 0) by (0, 1, 0, 52)) model.\n",
      "The AIC for this model is: 916.2300910607296\n",
      "Attempting to fit SARIMA((0, 1, 0) by (0, 1, 1, 52)) model.\n",
      "The AIC for this model is: 847.1381943208603\n",
      "Attempting to fit SARIMA((0, 1, 0) by (0, 1, 2, 52)) model.\n",
      "The AIC for this model is: 845.6800504017881\n",
      "Attempting to fit SARIMA((0, 1, 0) by (0, 1, 3, 52)) model.\n",
      "The AIC for this model is: 840.2742042277692\n",
      "Attempting to fit SARIMA((0, 1, 0) by (1, 0, 0, 52)) model.\n",
      "The AIC for this model is: 1100.9982651759815\n",
      "Attempting to fit SARIMA((0, 1, 0) by (1, 0, 1, 52)) model.\n",
      "The AIC for this model is: 1076.4681833077752\n",
      "Attempting to fit SARIMA((0, 1, 0) by (1, 0, 2, 52)) model.\n",
      "The AIC for this model is: 1076.1317402179507\n",
      "Attempting to fit SARIMA((0, 1, 0) by (1, 0, 3, 52)) model.\n"
     ]
    },
    {
     "name": "stderr",
     "output_type": "stream",
     "text": [
      "C:\\Users\\lafka\\anaconda3\\lib\\site-packages\\statsmodels\\base\\model.py:568: ConvergenceWarning: Maximum Likelihood optimization failed to converge. Check mle_retvals\n",
      "  \"Check mle_retvals\", ConvergenceWarning)\n"
     ]
    },
    {
     "name": "stdout",
     "output_type": "stream",
     "text": [
      "The AIC for this model is: 1070.70657816951\n",
      "Attempting to fit SARIMA((0, 1, 0) by (1, 1, 0, 52)) model.\n",
      "The AIC for this model is: 876.0677512471673\n",
      "Attempting to fit SARIMA((0, 1, 0) by (1, 1, 1, 52)) model.\n",
      "The AIC for this model is: 846.985535695575\n",
      "Attempting to fit SARIMA((0, 1, 0) by (1, 1, 2, 52)) model.\n",
      "The AIC for this model is: 850.4005260958945\n",
      "Attempting to fit SARIMA((0, 1, 0) by (1, 1, 3, 52)) model.\n"
     ]
    },
    {
     "name": "stderr",
     "output_type": "stream",
     "text": [
      "C:\\Users\\lafka\\anaconda3\\lib\\site-packages\\statsmodels\\base\\model.py:568: ConvergenceWarning: Maximum Likelihood optimization failed to converge. Check mle_retvals\n",
      "  \"Check mle_retvals\", ConvergenceWarning)\n"
     ]
    },
    {
     "name": "stdout",
     "output_type": "stream",
     "text": [
      "The AIC for this model is: 840.4392909690955\n",
      "Attempting to fit SARIMA((0, 1, 0) by (2, 0, 0, 52)) model.\n",
      "The AIC for this model is: 1092.1542898602534\n",
      "Attempting to fit SARIMA((0, 1, 0) by (2, 0, 1, 52)) model.\n",
      "The AIC for this model is: 1076.99735778197\n",
      "Attempting to fit SARIMA((0, 1, 0) by (2, 0, 2, 52)) model.\n",
      "The AIC for this model is: 1079.496595802837\n",
      "Attempting to fit SARIMA((0, 1, 0) by (2, 0, 3, 52)) model.\n"
     ]
    },
    {
     "name": "stderr",
     "output_type": "stream",
     "text": [
      "C:\\Users\\lafka\\anaconda3\\lib\\site-packages\\statsmodels\\base\\model.py:568: ConvergenceWarning: Maximum Likelihood optimization failed to converge. Check mle_retvals\n",
      "  \"Check mle_retvals\", ConvergenceWarning)\n"
     ]
    },
    {
     "name": "stdout",
     "output_type": "stream",
     "text": [
      "The AIC for this model is: 1071.5669411778529\n",
      "Attempting to fit SARIMA((0, 1, 0) by (2, 1, 0, 52)) model.\n",
      "The AIC for this model is: 838.8123656824907\n",
      "Attempting to fit SARIMA((0, 1, 0) by (2, 1, 1, 52)) model.\n"
     ]
    },
    {
     "name": "stderr",
     "output_type": "stream",
     "text": [
      "C:\\Users\\lafka\\anaconda3\\lib\\site-packages\\statsmodels\\base\\model.py:568: ConvergenceWarning: Maximum Likelihood optimization failed to converge. Check mle_retvals\n",
      "  \"Check mle_retvals\", ConvergenceWarning)\n"
     ]
    },
    {
     "name": "stdout",
     "output_type": "stream",
     "text": [
      "The AIC for this model is: 838.3339196471561\n",
      "Attempting to fit SARIMA((0, 1, 0) by (2, 1, 2, 52)) model.\n",
      "The AIC for this model is: 840.3285761036427\n",
      "Attempting to fit SARIMA((0, 1, 0) by (2, 1, 3, 52)) model.\n"
     ]
    },
    {
     "name": "stderr",
     "output_type": "stream",
     "text": [
      "C:\\Users\\lafka\\anaconda3\\lib\\site-packages\\statsmodels\\base\\model.py:568: ConvergenceWarning: Maximum Likelihood optimization failed to converge. Check mle_retvals\n",
      "  \"Check mle_retvals\", ConvergenceWarning)\n"
     ]
    },
    {
     "name": "stdout",
     "output_type": "stream",
     "text": [
      "The AIC for this model is: 842.3285607485063\n",
      "Attempting to fit SARIMA((0, 1, 0) by (3, 0, 0, 52)) model.\n",
      "The AIC for this model is: 1068.6334483548285\n",
      "Attempting to fit SARIMA((0, 1, 0) by (3, 0, 1, 52)) model.\n",
      "The AIC for this model is: 1069.517716721949\n",
      "Attempting to fit SARIMA((0, 1, 0) by (3, 0, 2, 52)) model.\n",
      "The AIC for this model is: 1071.5177112139588\n",
      "Attempting to fit SARIMA((0, 1, 0) by (3, 0, 3, 52)) model.\n",
      "The AIC for this model is: 1073.5177108926118\n",
      "Attempting to fit SARIMA((0, 1, 0) by (3, 1, 0, 52)) model.\n",
      "The AIC for this model is: 838.3286030944861\n",
      "Attempting to fit SARIMA((0, 1, 0) by (3, 1, 1, 52)) model.\n",
      "The AIC for this model is: 840.3286012789616\n",
      "Attempting to fit SARIMA((0, 1, 0) by (3, 1, 2, 52)) model.\n",
      "The AIC for this model is: 842.3285745808288\n",
      "Attempting to fit SARIMA((0, 1, 0) by (3, 1, 3, 52)) model.\n",
      "The AIC for this model is: 844.3285573312761\n",
      "Attempting to fit SARIMA((0, 0, 1) by (0, 0, 0, 52)) model.\n",
      "The AIC for this model is: 2735.195966962988\n",
      "Attempting to fit SARIMA((0, 0, 1) by (0, 0, 1, 52)) model.\n",
      "The AIC for this model is: 2544.06732305645\n",
      "Attempting to fit SARIMA((0, 0, 1) by (0, 0, 2, 52)) model.\n",
      "The AIC for this model is: 2394.2023121227116\n",
      "Attempting to fit SARIMA((0, 0, 1) by (0, 0, 3, 52)) model.\n"
     ]
    },
    {
     "name": "stderr",
     "output_type": "stream",
     "text": [
      "C:\\Users\\lafka\\anaconda3\\lib\\site-packages\\statsmodels\\base\\model.py:568: ConvergenceWarning: Maximum Likelihood optimization failed to converge. Check mle_retvals\n",
      "  \"Check mle_retvals\", ConvergenceWarning)\n"
     ]
    },
    {
     "name": "stdout",
     "output_type": "stream",
     "text": [
      "The AIC for this model is: 2280.6094284790106\n",
      "Attempting to fit SARIMA((0, 0, 1) by (0, 1, 0, 52)) model.\n",
      "The AIC for this model is: 1074.8380198698987\n",
      "Attempting to fit SARIMA((0, 0, 1) by (0, 1, 1, 52)) model.\n",
      "The AIC for this model is: 1054.4524452131498\n",
      "Attempting to fit SARIMA((0, 0, 1) by (0, 1, 2, 52)) model.\n",
      "The AIC for this model is: 1047.6601104513188\n",
      "Attempting to fit SARIMA((0, 0, 1) by (0, 1, 3, 52)) model.\n"
     ]
    },
    {
     "name": "stderr",
     "output_type": "stream",
     "text": [
      "C:\\Users\\lafka\\anaconda3\\lib\\site-packages\\statsmodels\\base\\model.py:568: ConvergenceWarning: Maximum Likelihood optimization failed to converge. Check mle_retvals\n",
      "  \"Check mle_retvals\", ConvergenceWarning)\n"
     ]
    },
    {
     "name": "stdout",
     "output_type": "stream",
     "text": [
      "The AIC for this model is: 1039.1153720365878\n",
      "Attempting to fit SARIMA((0, 0, 1) by (1, 0, 0, 52)) model.\n",
      "The AIC for this model is: 1780.614772961703\n",
      "Attempting to fit SARIMA((0, 0, 1) by (1, 0, 1, 52)) model.\n",
      "The AIC for this model is: 1774.7869025798213\n",
      "Attempting to fit SARIMA((0, 0, 1) by (1, 0, 2, 52)) model.\n",
      "The AIC for this model is: 2548.168376477175\n",
      "Attempting to fit SARIMA((0, 0, 1) by (1, 0, 3, 52)) model.\n",
      "The AIC for this model is: 2398.2902070555633\n",
      "Attempting to fit SARIMA((0, 0, 1) by (1, 1, 0, 52)) model.\n",
      "The AIC for this model is: 1065.200281568648\n",
      "Attempting to fit SARIMA((0, 0, 1) by (1, 1, 1, 52)) model.\n",
      "The AIC for this model is: 1053.381131259454\n",
      "Attempting to fit SARIMA((0, 0, 1) by (1, 1, 2, 52)) model.\n",
      "The AIC for this model is: 1042.9920014324753\n",
      "Attempting to fit SARIMA((0, 0, 1) by (1, 1, 3, 52)) model.\n"
     ]
    },
    {
     "name": "stderr",
     "output_type": "stream",
     "text": [
      "C:\\Users\\lafka\\anaconda3\\lib\\site-packages\\statsmodels\\base\\model.py:568: ConvergenceWarning: Maximum Likelihood optimization failed to converge. Check mle_retvals\n",
      "  \"Check mle_retvals\", ConvergenceWarning)\n"
     ]
    },
    {
     "name": "stdout",
     "output_type": "stream",
     "text": [
      "The AIC for this model is: 1041.0237048139488\n",
      "Attempting to fit SARIMA((0, 0, 1) by (2, 0, 0, 52)) model.\n",
      "The AIC for this model is: 1776.5864566858013\n",
      "Attempting to fit SARIMA((0, 0, 1) by (2, 0, 1, 52)) model.\n"
     ]
    },
    {
     "name": "stderr",
     "output_type": "stream",
     "text": [
      "C:\\Users\\lafka\\anaconda3\\lib\\site-packages\\statsmodels\\base\\model.py:568: ConvergenceWarning: Maximum Likelihood optimization failed to converge. Check mle_retvals\n",
      "  \"Check mle_retvals\", ConvergenceWarning)\n"
     ]
    },
    {
     "name": "stdout",
     "output_type": "stream",
     "text": [
      "The AIC for this model is: 1788.6438399597512\n",
      "Attempting to fit SARIMA((0, 0, 1) by (2, 0, 2, 52)) model.\n",
      "The AIC for this model is: 1778.4693122391373\n",
      "Attempting to fit SARIMA((0, 0, 1) by (2, 0, 3, 52)) model.\n",
      "The AIC for this model is: 1782.9387334261478\n",
      "Attempting to fit SARIMA((0, 0, 1) by (2, 1, 0, 52)) model.\n",
      "The AIC for this model is: 1039.6036571856312\n",
      "Attempting to fit SARIMA((0, 0, 1) by (2, 1, 1, 52)) model.\n"
     ]
    },
    {
     "name": "stderr",
     "output_type": "stream",
     "text": [
      "C:\\Users\\lafka\\anaconda3\\lib\\site-packages\\statsmodels\\base\\model.py:568: ConvergenceWarning: Maximum Likelihood optimization failed to converge. Check mle_retvals\n",
      "  \"Check mle_retvals\", ConvergenceWarning)\n"
     ]
    },
    {
     "name": "stdout",
     "output_type": "stream",
     "text": [
      "The AIC for this model is: 1038.4427211500833\n",
      "Attempting to fit SARIMA((0, 0, 1) by (2, 1, 2, 52)) model.\n",
      "The AIC for this model is: 1039.9899920560292\n",
      "Attempting to fit SARIMA((0, 0, 1) by (2, 1, 3, 52)) model.\n",
      "The AIC for this model is: 1041.9855311148558\n",
      "Attempting to fit SARIMA((0, 0, 1) by (3, 0, 0, 52)) model.\n",
      "The AIC for this model is: 1773.3672305604716\n",
      "Attempting to fit SARIMA((0, 0, 1) by (3, 0, 1, 52)) model.\n",
      "The AIC for this model is: 1786.6193779897835\n",
      "Attempting to fit SARIMA((0, 0, 1) by (3, 0, 2, 52)) model.\n",
      "The AIC for this model is: 1806.0888064230667\n",
      "Attempting to fit SARIMA((0, 0, 1) by (3, 0, 3, 52)) model.\n"
     ]
    },
    {
     "name": "stderr",
     "output_type": "stream",
     "text": [
      "C:\\Users\\lafka\\anaconda3\\lib\\site-packages\\statsmodels\\base\\model.py:568: ConvergenceWarning: Maximum Likelihood optimization failed to converge. Check mle_retvals\n",
      "  \"Check mle_retvals\", ConvergenceWarning)\n"
     ]
    },
    {
     "name": "stdout",
     "output_type": "stream",
     "text": [
      "The AIC for this model is: 1778.616967934237\n",
      "Attempting to fit SARIMA((0, 0, 1) by (3, 1, 0, 52)) model.\n",
      "The AIC for this model is: 1037.986221348203\n",
      "Attempting to fit SARIMA((0, 0, 1) by (3, 1, 1, 52)) model.\n",
      "The AIC for this model is: 1039.9860603837903\n",
      "Attempting to fit SARIMA((0, 0, 1) by (3, 1, 2, 52)) model.\n",
      "The AIC for this model is: 1041.9862362799145\n",
      "Attempting to fit SARIMA((0, 0, 1) by (3, 1, 3, 52)) model.\n",
      "The AIC for this model is: 1043.9865890699382\n",
      "Attempting to fit SARIMA((0, 1, 1) by (0, 0, 0, 52)) model.\n",
      "The AIC for this model is: 1134.9297497567536\n",
      "Attempting to fit SARIMA((0, 1, 1) by (0, 0, 1, 52)) model.\n",
      "The AIC for this model is: 1111.7157581679767\n",
      "Attempting to fit SARIMA((0, 1, 1) by (0, 0, 2, 52)) model.\n",
      "The AIC for this model is: 1107.8589109043555\n",
      "Attempting to fit SARIMA((0, 1, 1) by (0, 0, 3, 52)) model.\n"
     ]
    },
    {
     "name": "stderr",
     "output_type": "stream",
     "text": [
      "C:\\Users\\lafka\\anaconda3\\lib\\site-packages\\statsmodels\\base\\model.py:568: ConvergenceWarning: Maximum Likelihood optimization failed to converge. Check mle_retvals\n",
      "  \"Check mle_retvals\", ConvergenceWarning)\n"
     ]
    },
    {
     "name": "stdout",
     "output_type": "stream",
     "text": [
      "The AIC for this model is: 1079.3459825438867\n",
      "Attempting to fit SARIMA((0, 1, 1) by (0, 1, 0, 52)) model.\n",
      "The AIC for this model is: 917.9611874444879\n",
      "Attempting to fit SARIMA((0, 1, 1) by (0, 1, 1, 52)) model.\n",
      "The AIC for this model is: 848.579173594343\n",
      "Attempting to fit SARIMA((0, 1, 1) by (0, 1, 2, 52)) model.\n",
      "The AIC for this model is: 846.8013518095881\n",
      "Attempting to fit SARIMA((0, 1, 1) by (0, 1, 3, 52)) model.\n",
      "The AIC for this model is: 840.9480974875779\n",
      "Attempting to fit SARIMA((0, 1, 1) by (1, 0, 0, 52)) model.\n",
      "The AIC for this model is: 1102.7757920397653\n",
      "Attempting to fit SARIMA((0, 1, 1) by (1, 0, 1, 52)) model.\n",
      "The AIC for this model is: 1078.4169439824022\n",
      "Attempting to fit SARIMA((0, 1, 1) by (1, 0, 2, 52)) model.\n",
      "The AIC for this model is: 1078.0782607390197\n",
      "Attempting to fit SARIMA((0, 1, 1) by (1, 0, 3, 52)) model.\n"
     ]
    },
    {
     "name": "stderr",
     "output_type": "stream",
     "text": [
      "C:\\Users\\lafka\\anaconda3\\lib\\site-packages\\statsmodels\\base\\model.py:568: ConvergenceWarning: Maximum Likelihood optimization failed to converge. Check mle_retvals\n",
      "  \"Check mle_retvals\", ConvergenceWarning)\n"
     ]
    },
    {
     "name": "stdout",
     "output_type": "stream",
     "text": [
      "The AIC for this model is: 1072.7066457361384\n",
      "Attempting to fit SARIMA((0, 1, 1) by (1, 1, 0, 52)) model.\n",
      "The AIC for this model is: 877.9564790626973\n",
      "Attempting to fit SARIMA((0, 1, 1) by (1, 1, 1, 52)) model.\n",
      "The AIC for this model is: 848.2911439536601\n",
      "Attempting to fit SARIMA((0, 1, 1) by (1, 1, 2, 52)) model.\n",
      "The AIC for this model is: 851.6847613108195\n",
      "Attempting to fit SARIMA((0, 1, 1) by (1, 1, 3, 52)) model.\n"
     ]
    },
    {
     "name": "stderr",
     "output_type": "stream",
     "text": [
      "C:\\Users\\lafka\\anaconda3\\lib\\site-packages\\statsmodels\\base\\model.py:568: ConvergenceWarning: Maximum Likelihood optimization failed to converge. Check mle_retvals\n",
      "  \"Check mle_retvals\", ConvergenceWarning)\n"
     ]
    },
    {
     "name": "stdout",
     "output_type": "stream",
     "text": [
      "The AIC for this model is: 840.1928576449822\n",
      "Attempting to fit SARIMA((0, 1, 1) by (2, 0, 0, 52)) model.\n",
      "The AIC for this model is: 1093.9277356813232\n",
      "Attempting to fit SARIMA((0, 1, 1) by (2, 0, 1, 52)) model.\n",
      "The AIC for this model is: 1078.9129026954333\n",
      "Attempting to fit SARIMA((0, 1, 1) by (2, 0, 2, 52)) model.\n",
      "The AIC for this model is: 1081.481373371903\n",
      "Attempting to fit SARIMA((0, 1, 1) by (2, 0, 3, 52)) model.\n",
      "The AIC for this model is: 1073.5292899859962\n",
      "Attempting to fit SARIMA((0, 1, 1) by (2, 1, 0, 52)) model.\n",
      "The AIC for this model is: 838.1059947296633\n",
      "Attempting to fit SARIMA((0, 1, 1) by (2, 1, 1, 52)) model.\n",
      "The AIC for this model is: 838.1032952448732\n",
      "Attempting to fit SARIMA((0, 1, 1) by (2, 1, 2, 52)) model.\n",
      "The AIC for this model is: 840.1032972175501\n",
      "Attempting to fit SARIMA((0, 1, 1) by (2, 1, 3, 52)) model.\n"
     ]
    },
    {
     "name": "stderr",
     "output_type": "stream",
     "text": [
      "C:\\Users\\lafka\\anaconda3\\lib\\site-packages\\statsmodels\\base\\model.py:568: ConvergenceWarning: Maximum Likelihood optimization failed to converge. Check mle_retvals\n",
      "  \"Check mle_retvals\", ConvergenceWarning)\n"
     ]
    },
    {
     "name": "stdout",
     "output_type": "stream",
     "text": [
      "The AIC for this model is: 842.1468566306055\n",
      "Attempting to fit SARIMA((0, 1, 1) by (3, 0, 0, 52)) model.\n",
      "The AIC for this model is: 1070.5838725918911\n",
      "Attempting to fit SARIMA((0, 1, 1) by (3, 0, 1, 52)) model.\n",
      "The AIC for this model is: 1071.4900036815334\n",
      "Attempting to fit SARIMA((0, 1, 1) by (3, 0, 2, 52)) model.\n",
      "The AIC for this model is: 1073.490002639803\n",
      "Attempting to fit SARIMA((0, 1, 1) by (3, 0, 3, 52)) model.\n",
      "The AIC for this model is: 1075.4900050003469\n",
      "Attempting to fit SARIMA((0, 1, 1) by (3, 1, 0, 52)) model.\n",
      "The AIC for this model is: 838.1033189089521\n",
      "Attempting to fit SARIMA((0, 1, 1) by (3, 1, 1, 52)) model.\n",
      "The AIC for this model is: 840.1033205346861\n",
      "Attempting to fit SARIMA((0, 1, 1) by (3, 1, 2, 52)) model.\n",
      "The AIC for this model is: 842.1032912743336\n",
      "Attempting to fit SARIMA((0, 1, 1) by (3, 1, 3, 52)) model.\n",
      "The AIC for this model is: 844.1032725794191\n",
      "Attempting to fit SARIMA((0, 0, 2) by (0, 0, 0, 52)) model.\n",
      "The AIC for this model is: 2573.096038215338\n",
      "Attempting to fit SARIMA((0, 0, 2) by (0, 0, 1, 52)) model.\n"
     ]
    },
    {
     "name": "stderr",
     "output_type": "stream",
     "text": [
      "C:\\Users\\lafka\\anaconda3\\lib\\site-packages\\statsmodels\\base\\model.py:568: ConvergenceWarning: Maximum Likelihood optimization failed to converge. Check mle_retvals\n",
      "  \"Check mle_retvals\", ConvergenceWarning)\n"
     ]
    },
    {
     "name": "stdout",
     "output_type": "stream",
     "text": [
      "The AIC for this model is: 2286.741521848816\n",
      "Attempting to fit SARIMA((0, 0, 2) by (0, 0, 2, 52)) model.\n"
     ]
    },
    {
     "name": "stderr",
     "output_type": "stream",
     "text": [
      "C:\\Users\\lafka\\anaconda3\\lib\\site-packages\\statsmodels\\base\\model.py:568: ConvergenceWarning: Maximum Likelihood optimization failed to converge. Check mle_retvals\n",
      "  \"Check mle_retvals\", ConvergenceWarning)\n"
     ]
    },
    {
     "name": "stdout",
     "output_type": "stream",
     "text": [
      "The AIC for this model is: 2199.9484521722975\n",
      "Attempting to fit SARIMA((0, 0, 2) by (0, 0, 3, 52)) model.\n"
     ]
    },
    {
     "name": "stderr",
     "output_type": "stream",
     "text": [
      "C:\\Users\\lafka\\anaconda3\\lib\\site-packages\\statsmodels\\base\\model.py:568: ConvergenceWarning: Maximum Likelihood optimization failed to converge. Check mle_retvals\n",
      "  \"Check mle_retvals\", ConvergenceWarning)\n"
     ]
    },
    {
     "name": "stdout",
     "output_type": "stream",
     "text": [
      "The AIC for this model is: 2163.615406214638\n",
      "Attempting to fit SARIMA((0, 0, 2) by (0, 1, 0, 52)) model.\n",
      "The AIC for this model is: 1082.269330628228\n",
      "Attempting to fit SARIMA((0, 0, 2) by (0, 1, 1, 52)) model.\n"
     ]
    },
    {
     "name": "stderr",
     "output_type": "stream",
     "text": [
      "C:\\Users\\lafka\\anaconda3\\lib\\site-packages\\statsmodels\\base\\model.py:568: ConvergenceWarning: Maximum Likelihood optimization failed to converge. Check mle_retvals\n",
      "  \"Check mle_retvals\", ConvergenceWarning)\n"
     ]
    },
    {
     "name": "stdout",
     "output_type": "stream",
     "text": [
      "The AIC for this model is: 968.4163995021447\n",
      "Attempting to fit SARIMA((0, 0, 2) by (0, 1, 2, 52)) model.\n"
     ]
    },
    {
     "name": "stderr",
     "output_type": "stream",
     "text": [
      "C:\\Users\\lafka\\anaconda3\\lib\\site-packages\\statsmodels\\base\\model.py:568: ConvergenceWarning: Maximum Likelihood optimization failed to converge. Check mle_retvals\n",
      "  \"Check mle_retvals\", ConvergenceWarning)\n"
     ]
    },
    {
     "name": "stdout",
     "output_type": "stream",
     "text": [
      "The AIC for this model is: 967.6625776904727\n",
      "Attempting to fit SARIMA((0, 0, 2) by (0, 1, 3, 52)) model.\n"
     ]
    },
    {
     "name": "stderr",
     "output_type": "stream",
     "text": [
      "C:\\Users\\lafka\\anaconda3\\lib\\site-packages\\statsmodels\\base\\model.py:568: ConvergenceWarning: Maximum Likelihood optimization failed to converge. Check mle_retvals\n",
      "  \"Check mle_retvals\", ConvergenceWarning)\n"
     ]
    },
    {
     "name": "stdout",
     "output_type": "stream",
     "text": [
      "The AIC for this model is: 1060.38084086266\n",
      "Attempting to fit SARIMA((0, 0, 2) by (1, 0, 0, 52)) model.\n",
      "The AIC for this model is: 1912.1781307080082\n",
      "Attempting to fit SARIMA((0, 0, 2) by (1, 0, 1, 52)) model.\n",
      "The AIC for this model is: 2327.9621257873287\n",
      "Attempting to fit SARIMA((0, 0, 2) by (1, 0, 2, 52)) model.\n",
      "The AIC for this model is: 2290.7684140368497\n",
      "Attempting to fit SARIMA((0, 0, 2) by (1, 0, 3, 52)) model.\n"
     ]
    },
    {
     "name": "stderr",
     "output_type": "stream",
     "text": [
      "C:\\Users\\lafka\\anaconda3\\lib\\site-packages\\statsmodels\\base\\model.py:568: ConvergenceWarning: Maximum Likelihood optimization failed to converge. Check mle_retvals\n",
      "  \"Check mle_retvals\", ConvergenceWarning)\n"
     ]
    },
    {
     "name": "stdout",
     "output_type": "stream",
     "text": [
      "The AIC for this model is: 2175.757539171481\n",
      "Attempting to fit SARIMA((0, 0, 2) by (1, 1, 0, 52)) model.\n",
      "The AIC for this model is: 980.1325145943035\n",
      "Attempting to fit SARIMA((0, 0, 2) by (1, 1, 1, 52)) model.\n"
     ]
    },
    {
     "name": "stderr",
     "output_type": "stream",
     "text": [
      "C:\\Users\\lafka\\anaconda3\\lib\\site-packages\\statsmodels\\base\\model.py:568: ConvergenceWarning: Maximum Likelihood optimization failed to converge. Check mle_retvals\n",
      "  \"Check mle_retvals\", ConvergenceWarning)\n"
     ]
    },
    {
     "name": "stdout",
     "output_type": "stream",
     "text": [
      "The AIC for this model is: 1076.141531115775\n",
      "Attempting to fit SARIMA((0, 0, 2) by (1, 1, 2, 52)) model.\n"
     ]
    },
    {
     "name": "stderr",
     "output_type": "stream",
     "text": [
      "C:\\Users\\lafka\\anaconda3\\lib\\site-packages\\statsmodels\\base\\model.py:568: ConvergenceWarning: Maximum Likelihood optimization failed to converge. Check mle_retvals\n",
      "  \"Check mle_retvals\", ConvergenceWarning)\n"
     ]
    },
    {
     "name": "stdout",
     "output_type": "stream",
     "text": [
      "The AIC for this model is: 978.0855027240372\n",
      "Attempting to fit SARIMA((0, 0, 2) by (1, 1, 3, 52)) model.\n"
     ]
    },
    {
     "name": "stderr",
     "output_type": "stream",
     "text": [
      "C:\\Users\\lafka\\anaconda3\\lib\\site-packages\\statsmodels\\base\\model.py:568: ConvergenceWarning: Maximum Likelihood optimization failed to converge. Check mle_retvals\n",
      "  \"Check mle_retvals\", ConvergenceWarning)\n"
     ]
    },
    {
     "name": "stdout",
     "output_type": "stream",
     "text": [
      "The AIC for this model is: 1061.0276746930926\n",
      "Attempting to fit SARIMA((0, 0, 2) by (2, 0, 0, 52)) model.\n",
      "Attempting to fit SARIMA((0, 0, 2) by (2, 0, 1, 52)) model.\n",
      "The AIC for this model is: 1784.7277192420513\n",
      "Attempting to fit SARIMA((0, 0, 2) by (2, 0, 2, 52)) model.\n",
      "The AIC for this model is: 2436.992662950887\n",
      "Attempting to fit SARIMA((0, 0, 2) by (2, 0, 3, 52)) model.\n",
      "Attempting to fit SARIMA((0, 0, 2) by (2, 1, 0, 52)) model.\n",
      "The AIC for this model is: 1022.829027708841\n",
      "Attempting to fit SARIMA((0, 0, 2) by (2, 1, 1, 52)) model.\n"
     ]
    },
    {
     "name": "stderr",
     "output_type": "stream",
     "text": [
      "C:\\Users\\lafka\\anaconda3\\lib\\site-packages\\statsmodels\\base\\model.py:568: ConvergenceWarning: Maximum Likelihood optimization failed to converge. Check mle_retvals\n",
      "  \"Check mle_retvals\", ConvergenceWarning)\n"
     ]
    },
    {
     "name": "stdout",
     "output_type": "stream",
     "text": [
      "The AIC for this model is: 1057.0390560986857\n",
      "Attempting to fit SARIMA((0, 0, 2) by (2, 1, 2, 52)) model.\n"
     ]
    },
    {
     "name": "stderr",
     "output_type": "stream",
     "text": [
      "C:\\Users\\lafka\\anaconda3\\lib\\site-packages\\statsmodels\\base\\model.py:568: ConvergenceWarning: Maximum Likelihood optimization failed to converge. Check mle_retvals\n",
      "  \"Check mle_retvals\", ConvergenceWarning)\n"
     ]
    },
    {
     "name": "stdout",
     "output_type": "stream",
     "text": [
      "The AIC for this model is: 1058.602872555803\n",
      "Attempting to fit SARIMA((0, 0, 2) by (2, 1, 3, 52)) model.\n"
     ]
    },
    {
     "name": "stderr",
     "output_type": "stream",
     "text": [
      "C:\\Users\\lafka\\anaconda3\\lib\\site-packages\\statsmodels\\base\\model.py:568: ConvergenceWarning: Maximum Likelihood optimization failed to converge. Check mle_retvals\n",
      "  \"Check mle_retvals\", ConvergenceWarning)\n"
     ]
    },
    {
     "name": "stdout",
     "output_type": "stream",
     "text": [
      "The AIC for this model is: 1060.4585493156355\n",
      "Attempting to fit SARIMA((0, 0, 2) by (3, 0, 0, 52)) model.\n",
      "Attempting to fit SARIMA((0, 0, 2) by (3, 0, 1, 52)) model.\n",
      "The AIC for this model is: 1861.6642038060086\n",
      "Attempting to fit SARIMA((0, 0, 2) by (3, 0, 2, 52)) model.\n",
      "Attempting to fit SARIMA((0, 0, 2) by (3, 0, 3, 52)) model.\n",
      "Attempting to fit SARIMA((0, 0, 2) by (3, 1, 0, 52)) model.\n"
     ]
    },
    {
     "name": "stderr",
     "output_type": "stream",
     "text": [
      "C:\\Users\\lafka\\anaconda3\\lib\\site-packages\\statsmodels\\base\\model.py:568: ConvergenceWarning: Maximum Likelihood optimization failed to converge. Check mle_retvals\n",
      "  \"Check mle_retvals\", ConvergenceWarning)\n"
     ]
    },
    {
     "name": "stdout",
     "output_type": "stream",
     "text": [
      "The AIC for this model is: 1056.4639685978605\n",
      "Attempting to fit SARIMA((0, 0, 2) by (3, 1, 1, 52)) model.\n"
     ]
    },
    {
     "name": "stderr",
     "output_type": "stream",
     "text": [
      "C:\\Users\\lafka\\anaconda3\\lib\\site-packages\\statsmodels\\base\\model.py:568: ConvergenceWarning: Maximum Likelihood optimization failed to converge. Check mle_retvals\n",
      "  \"Check mle_retvals\", ConvergenceWarning)\n"
     ]
    },
    {
     "name": "stdout",
     "output_type": "stream",
     "text": [
      "The AIC for this model is: 964.6069904947954\n",
      "Attempting to fit SARIMA((0, 0, 2) by (3, 1, 2, 52)) model.\n"
     ]
    },
    {
     "name": "stderr",
     "output_type": "stream",
     "text": [
      "C:\\Users\\lafka\\anaconda3\\lib\\site-packages\\statsmodels\\base\\model.py:568: ConvergenceWarning: Maximum Likelihood optimization failed to converge. Check mle_retvals\n",
      "  \"Check mle_retvals\", ConvergenceWarning)\n"
     ]
    },
    {
     "name": "stdout",
     "output_type": "stream",
     "text": [
      "The AIC for this model is: 1060.4514252089261\n",
      "Attempting to fit SARIMA((0, 0, 2) by (3, 1, 3, 52)) model.\n"
     ]
    },
    {
     "name": "stderr",
     "output_type": "stream",
     "text": [
      "C:\\Users\\lafka\\anaconda3\\lib\\site-packages\\statsmodels\\base\\model.py:568: ConvergenceWarning: Maximum Likelihood optimization failed to converge. Check mle_retvals\n",
      "  \"Check mle_retvals\", ConvergenceWarning)\n"
     ]
    },
    {
     "name": "stdout",
     "output_type": "stream",
     "text": [
      "The AIC for this model is: 968.8708953692787\n",
      "Attempting to fit SARIMA((0, 1, 2) by (0, 0, 0, 52)) model.\n",
      "The AIC for this model is: 1131.202852995118\n",
      "Attempting to fit SARIMA((0, 1, 2) by (0, 0, 1, 52)) model.\n",
      "The AIC for this model is: 1106.5834541168538\n",
      "Attempting to fit SARIMA((0, 1, 2) by (0, 0, 2, 52)) model.\n",
      "The AIC for this model is: 1102.552757363046\n",
      "Attempting to fit SARIMA((0, 1, 2) by (0, 0, 3, 52)) model.\n"
     ]
    },
    {
     "name": "stderr",
     "output_type": "stream",
     "text": [
      "C:\\Users\\lafka\\anaconda3\\lib\\site-packages\\statsmodels\\base\\model.py:568: ConvergenceWarning: Maximum Likelihood optimization failed to converge. Check mle_retvals\n",
      "  \"Check mle_retvals\", ConvergenceWarning)\n"
     ]
    },
    {
     "name": "stdout",
     "output_type": "stream",
     "text": [
      "The AIC for this model is: 1076.6359762363863\n",
      "Attempting to fit SARIMA((0, 1, 2) by (0, 1, 0, 52)) model.\n",
      "The AIC for this model is: 912.3621276324113\n",
      "Attempting to fit SARIMA((0, 1, 2) by (0, 1, 1, 52)) model.\n",
      "The AIC for this model is: 846.4748039565579\n",
      "Attempting to fit SARIMA((0, 1, 2) by (0, 1, 2, 52)) model.\n",
      "The AIC for this model is: 846.1418723470108\n",
      "Attempting to fit SARIMA((0, 1, 2) by (0, 1, 3, 52)) model.\n",
      "The AIC for this model is: 840.3231224333421\n",
      "Attempting to fit SARIMA((0, 1, 2) by (1, 0, 0, 52)) model.\n",
      "The AIC for this model is: 1097.1615835713935\n",
      "Attempting to fit SARIMA((0, 1, 2) by (1, 0, 1, 52)) model.\n",
      "The AIC for this model is: 1074.6869643367354\n",
      "Attempting to fit SARIMA((0, 1, 2) by (1, 0, 2, 52)) model.\n",
      "The AIC for this model is: 1075.3957991672721\n",
      "Attempting to fit SARIMA((0, 1, 2) by (1, 0, 3, 52)) model.\n"
     ]
    },
    {
     "name": "stderr",
     "output_type": "stream",
     "text": [
      "C:\\Users\\lafka\\anaconda3\\lib\\site-packages\\statsmodels\\base\\model.py:568: ConvergenceWarning: Maximum Likelihood optimization failed to converge. Check mle_retvals\n",
      "  \"Check mle_retvals\", ConvergenceWarning)\n"
     ]
    },
    {
     "name": "stdout",
     "output_type": "stream",
     "text": [
      "The AIC for this model is: 1070.43902739815\n",
      "Attempting to fit SARIMA((0, 1, 2) by (1, 1, 0, 52)) model.\n",
      "The AIC for this model is: 874.3299616097949\n",
      "Attempting to fit SARIMA((0, 1, 2) by (1, 1, 1, 52)) model.\n",
      "The AIC for this model is: 847.0312543070797\n",
      "Attempting to fit SARIMA((0, 1, 2) by (1, 1, 2, 52)) model.\n",
      "The AIC for this model is: 849.4989734996311\n",
      "Attempting to fit SARIMA((0, 1, 2) by (1, 1, 3, 52)) model.\n"
     ]
    },
    {
     "name": "stderr",
     "output_type": "stream",
     "text": [
      "C:\\Users\\lafka\\anaconda3\\lib\\site-packages\\statsmodels\\base\\model.py:568: ConvergenceWarning: Maximum Likelihood optimization failed to converge. Check mle_retvals\n",
      "  \"Check mle_retvals\", ConvergenceWarning)\n"
     ]
    },
    {
     "name": "stdout",
     "output_type": "stream",
     "text": [
      "The AIC for this model is: 840.6636101707434\n",
      "Attempting to fit SARIMA((0, 1, 2) by (2, 0, 0, 52)) model.\n",
      "The AIC for this model is: 1089.074318972307\n",
      "Attempting to fit SARIMA((0, 1, 2) by (2, 0, 1, 52)) model.\n",
      "The AIC for this model is: 1075.80489251571\n",
      "Attempting to fit SARIMA((0, 1, 2) by (2, 0, 2, 52)) model.\n",
      "The AIC for this model is: 1077.6518863518872\n",
      "Attempting to fit SARIMA((0, 1, 2) by (2, 0, 3, 52)) model.\n"
     ]
    },
    {
     "name": "stderr",
     "output_type": "stream",
     "text": [
      "C:\\Users\\lafka\\anaconda3\\lib\\site-packages\\statsmodels\\base\\model.py:568: ConvergenceWarning: Maximum Likelihood optimization failed to converge. Check mle_retvals\n",
      "  \"Check mle_retvals\", ConvergenceWarning)\n"
     ]
    },
    {
     "name": "stdout",
     "output_type": "stream",
     "text": [
      "The AIC for this model is: 1072.0609107012228\n",
      "Attempting to fit SARIMA((0, 1, 2) by (2, 1, 0, 52)) model.\n",
      "The AIC for this model is: 838.7266964762952\n",
      "Attempting to fit SARIMA((0, 1, 2) by (2, 1, 1, 52)) model.\n"
     ]
    },
    {
     "name": "stderr",
     "output_type": "stream",
     "text": [
      "C:\\Users\\lafka\\anaconda3\\lib\\site-packages\\statsmodels\\base\\model.py:568: ConvergenceWarning: Maximum Likelihood optimization failed to converge. Check mle_retvals\n",
      "  \"Check mle_retvals\", ConvergenceWarning)\n"
     ]
    },
    {
     "name": "stdout",
     "output_type": "stream",
     "text": [
      "The AIC for this model is: 838.5088759983041\n",
      "Attempting to fit SARIMA((0, 1, 2) by (2, 1, 2, 52)) model.\n",
      "The AIC for this model is: 840.5084263960291\n",
      "Attempting to fit SARIMA((0, 1, 2) by (2, 1, 3, 52)) model.\n"
     ]
    },
    {
     "name": "stderr",
     "output_type": "stream",
     "text": [
      "C:\\Users\\lafka\\anaconda3\\lib\\site-packages\\statsmodels\\base\\model.py:568: ConvergenceWarning: Maximum Likelihood optimization failed to converge. Check mle_retvals\n",
      "  \"Check mle_retvals\", ConvergenceWarning)\n"
     ]
    },
    {
     "name": "stdout",
     "output_type": "stream",
     "text": [
      "The AIC for this model is: 842.5660700634212\n",
      "Attempting to fit SARIMA((0, 1, 2) by (3, 0, 0, 52)) model.\n",
      "The AIC for this model is: 1069.1771129462004\n",
      "Attempting to fit SARIMA((0, 1, 2) by (3, 0, 1, 52)) model.\n"
     ]
    },
    {
     "name": "stderr",
     "output_type": "stream",
     "text": [
      "C:\\Users\\lafka\\anaconda3\\lib\\site-packages\\statsmodels\\base\\model.py:568: ConvergenceWarning: Maximum Likelihood optimization failed to converge. Check mle_retvals\n",
      "  \"Check mle_retvals\", ConvergenceWarning)\n"
     ]
    },
    {
     "name": "stdout",
     "output_type": "stream",
     "text": [
      "The AIC for this model is: 1069.8866922700113\n",
      "Attempting to fit SARIMA((0, 1, 2) by (3, 0, 2, 52)) model.\n",
      "The AIC for this model is: 1071.8823742587201\n",
      "Attempting to fit SARIMA((0, 1, 2) by (3, 0, 3, 52)) model.\n",
      "The AIC for this model is: 1073.8823740765756\n",
      "Attempting to fit SARIMA((0, 1, 2) by (3, 1, 0, 52)) model.\n",
      "The AIC for this model is: 838.5084531757975\n",
      "Attempting to fit SARIMA((0, 1, 2) by (3, 1, 1, 52)) model.\n",
      "The AIC for this model is: 840.508455283155\n",
      "Attempting to fit SARIMA((0, 1, 2) by (3, 1, 2, 52)) model.\n",
      "The AIC for this model is: 842.5084228121204\n",
      "Attempting to fit SARIMA((0, 1, 2) by (3, 1, 3, 52)) model.\n",
      "The AIC for this model is: 844.5084051663814\n",
      "Attempting to fit SARIMA((0, 0, 3) by (0, 0, 0, 52)) model.\n",
      "The AIC for this model is: 2214.267774871051\n",
      "Attempting to fit SARIMA((0, 0, 3) by (0, 0, 1, 52)) model.\n"
     ]
    },
    {
     "name": "stderr",
     "output_type": "stream",
     "text": [
      "C:\\Users\\lafka\\anaconda3\\lib\\site-packages\\statsmodels\\base\\model.py:568: ConvergenceWarning: Maximum Likelihood optimization failed to converge. Check mle_retvals\n",
      "  \"Check mle_retvals\", ConvergenceWarning)\n"
     ]
    },
    {
     "name": "stdout",
     "output_type": "stream",
     "text": [
      "The AIC for this model is: 2063.3015745857547\n",
      "Attempting to fit SARIMA((0, 0, 3) by (0, 0, 2, 52)) model.\n"
     ]
    },
    {
     "name": "stderr",
     "output_type": "stream",
     "text": [
      "C:\\Users\\lafka\\anaconda3\\lib\\site-packages\\statsmodels\\base\\model.py:568: ConvergenceWarning: Maximum Likelihood optimization failed to converge. Check mle_retvals\n",
      "  \"Check mle_retvals\", ConvergenceWarning)\n"
     ]
    },
    {
     "name": "stdout",
     "output_type": "stream",
     "text": [
      "The AIC for this model is: 1981.4414134496405\n",
      "Attempting to fit SARIMA((0, 0, 3) by (0, 0, 3, 52)) model.\n"
     ]
    },
    {
     "name": "stderr",
     "output_type": "stream",
     "text": [
      "C:\\Users\\lafka\\anaconda3\\lib\\site-packages\\statsmodels\\base\\model.py:568: ConvergenceWarning: Maximum Likelihood optimization failed to converge. Check mle_retvals\n",
      "  \"Check mle_retvals\", ConvergenceWarning)\n"
     ]
    },
    {
     "name": "stdout",
     "output_type": "stream",
     "text": [
      "The AIC for this model is: 1897.6840915482137\n",
      "Attempting to fit SARIMA((0, 0, 3) by (0, 1, 0, 52)) model.\n",
      "The AIC for this model is: 952.0126885758447\n",
      "Attempting to fit SARIMA((0, 0, 3) by (0, 1, 1, 52)) model.\n",
      "The AIC for this model is: 919.512095580284\n",
      "Attempting to fit SARIMA((0, 0, 3) by (0, 1, 2, 52)) model.\n",
      "The AIC for this model is: 918.7988741102313\n",
      "Attempting to fit SARIMA((0, 0, 3) by (0, 1, 3, 52)) model.\n"
     ]
    },
    {
     "name": "stderr",
     "output_type": "stream",
     "text": [
      "C:\\Users\\lafka\\anaconda3\\lib\\site-packages\\statsmodels\\base\\model.py:568: ConvergenceWarning: Maximum Likelihood optimization failed to converge. Check mle_retvals\n",
      "  \"Check mle_retvals\", ConvergenceWarning)\n"
     ]
    },
    {
     "name": "stdout",
     "output_type": "stream",
     "text": [
      "The AIC for this model is: 914.7196702955338\n",
      "Attempting to fit SARIMA((0, 0, 3) by (1, 0, 0, 52)) model.\n",
      "The AIC for this model is: 1567.2038417126025\n",
      "Attempting to fit SARIMA((0, 0, 3) by (1, 0, 1, 52)) model.\n",
      "The AIC for this model is: 1575.050453916806\n",
      "Attempting to fit SARIMA((0, 0, 3) by (1, 0, 2, 52)) model.\n"
     ]
    },
    {
     "name": "stderr",
     "output_type": "stream",
     "text": [
      "C:\\Users\\lafka\\anaconda3\\lib\\site-packages\\statsmodels\\base\\model.py:568: ConvergenceWarning: Maximum Likelihood optimization failed to converge. Check mle_retvals\n",
      "  \"Check mle_retvals\", ConvergenceWarning)\n"
     ]
    },
    {
     "name": "stdout",
     "output_type": "stream",
     "text": [
      "The AIC for this model is: 2068.292462320827\n",
      "Attempting to fit SARIMA((0, 0, 3) by (1, 0, 3, 52)) model.\n"
     ]
    },
    {
     "name": "stderr",
     "output_type": "stream",
     "text": [
      "C:\\Users\\lafka\\anaconda3\\lib\\site-packages\\statsmodels\\base\\model.py:568: ConvergenceWarning: Maximum Likelihood optimization failed to converge. Check mle_retvals\n",
      "  \"Check mle_retvals\", ConvergenceWarning)\n"
     ]
    },
    {
     "name": "stdout",
     "output_type": "stream",
     "text": [
      "The AIC for this model is: 2411.137876410534\n",
      "Attempting to fit SARIMA((0, 0, 3) by (1, 1, 0, 52)) model.\n",
      "The AIC for this model is: 933.7569845659558\n",
      "Attempting to fit SARIMA((0, 0, 3) by (1, 1, 1, 52)) model.\n",
      "The AIC for this model is: 919.8430734985432\n",
      "Attempting to fit SARIMA((0, 0, 3) by (1, 1, 2, 52)) model.\n",
      "The AIC for this model is: 916.1696603734381\n",
      "Attempting to fit SARIMA((0, 0, 3) by (1, 1, 3, 52)) model.\n",
      "The AIC for this model is: 916.5177922680982\n",
      "Attempting to fit SARIMA((0, 0, 3) by (2, 0, 0, 52)) model.\n"
     ]
    },
    {
     "name": "stderr",
     "output_type": "stream",
     "text": [
      "C:\\Users\\lafka\\anaconda3\\lib\\site-packages\\statsmodels\\base\\model.py:568: ConvergenceWarning: Maximum Likelihood optimization failed to converge. Check mle_retvals\n",
      "  \"Check mle_retvals\", ConvergenceWarning)\n"
     ]
    },
    {
     "name": "stdout",
     "output_type": "stream",
     "text": [
      "The AIC for this model is: 1561.1281689701661\n",
      "Attempting to fit SARIMA((0, 0, 3) by (2, 0, 1, 52)) model.\n"
     ]
    },
    {
     "name": "stderr",
     "output_type": "stream",
     "text": [
      "C:\\Users\\lafka\\anaconda3\\lib\\site-packages\\statsmodels\\base\\model.py:568: ConvergenceWarning: Maximum Likelihood optimization failed to converge. Check mle_retvals\n",
      "  \"Check mle_retvals\", ConvergenceWarning)\n"
     ]
    },
    {
     "name": "stdout",
     "output_type": "stream",
     "text": [
      "The AIC for this model is: 1575.0204910717703\n",
      "Attempting to fit SARIMA((0, 0, 3) by (2, 0, 2, 52)) model.\n",
      "Attempting to fit SARIMA((0, 0, 3) by (2, 0, 3, 52)) model.\n",
      "Attempting to fit SARIMA((0, 0, 3) by (2, 1, 0, 52)) model.\n",
      "The AIC for this model is: 913.1099715224445\n",
      "Attempting to fit SARIMA((0, 0, 3) by (2, 1, 1, 52)) model.\n",
      "The AIC for this model is: 914.5227257116105\n",
      "Attempting to fit SARIMA((0, 0, 3) by (2, 1, 2, 52)) model.\n",
      "The AIC for this model is: 916.5206523749343\n",
      "Attempting to fit SARIMA((0, 0, 3) by (2, 1, 3, 52)) model.\n",
      "The AIC for this model is: 918.5176613010268\n",
      "Attempting to fit SARIMA((0, 0, 3) by (3, 0, 0, 52)) model.\n",
      "The AIC for this model is: 2379.0307293854794\n",
      "Attempting to fit SARIMA((0, 0, 3) by (3, 0, 1, 52)) model.\n"
     ]
    },
    {
     "name": "stderr",
     "output_type": "stream",
     "text": [
      "C:\\Users\\lafka\\anaconda3\\lib\\site-packages\\statsmodels\\base\\model.py:568: ConvergenceWarning: Maximum Likelihood optimization failed to converge. Check mle_retvals\n",
      "  \"Check mle_retvals\", ConvergenceWarning)\n"
     ]
    },
    {
     "name": "stdout",
     "output_type": "stream",
     "text": [
      "The AIC for this model is: 1557.3747748679057\n",
      "Attempting to fit SARIMA((0, 0, 3) by (3, 0, 2, 52)) model.\n",
      "The AIC for this model is: 1911.7034813760465\n",
      "Attempting to fit SARIMA((0, 0, 3) by (3, 0, 3, 52)) model.\n",
      "The AIC for this model is: 2544.3761650966217\n",
      "Attempting to fit SARIMA((0, 0, 3) by (3, 1, 0, 52)) model.\n",
      "The AIC for this model is: 914.5202195599404\n",
      "Attempting to fit SARIMA((0, 0, 3) by (3, 1, 1, 52)) model.\n",
      "The AIC for this model is: 916.5194336169989\n",
      "Attempting to fit SARIMA((0, 0, 3) by (3, 1, 2, 52)) model.\n",
      "The AIC for this model is: 918.5179930004407\n",
      "Attempting to fit SARIMA((0, 0, 3) by (3, 1, 3, 52)) model.\n",
      "The AIC for this model is: 920.5186476151475\n",
      "Attempting to fit SARIMA((0, 1, 3) by (0, 0, 0, 52)) model.\n",
      "The AIC for this model is: 1133.1831141109678\n",
      "Attempting to fit SARIMA((0, 1, 3) by (0, 0, 1, 52)) model.\n",
      "The AIC for this model is: 1108.5485198033853\n",
      "Attempting to fit SARIMA((0, 1, 3) by (0, 0, 2, 52)) model.\n",
      "The AIC for this model is: 1104.5507094920642\n",
      "Attempting to fit SARIMA((0, 1, 3) by (0, 0, 3, 52)) model.\n"
     ]
    },
    {
     "name": "stderr",
     "output_type": "stream",
     "text": [
      "C:\\Users\\lafka\\anaconda3\\lib\\site-packages\\statsmodels\\base\\model.py:568: ConvergenceWarning: Maximum Likelihood optimization failed to converge. Check mle_retvals\n",
      "  \"Check mle_retvals\", ConvergenceWarning)\n"
     ]
    },
    {
     "name": "stdout",
     "output_type": "stream",
     "text": [
      "The AIC for this model is: 1078.623536506963\n",
      "Attempting to fit SARIMA((0, 1, 3) by (0, 1, 0, 52)) model.\n",
      "The AIC for this model is: 914.2785113684645\n",
      "Attempting to fit SARIMA((0, 1, 3) by (0, 1, 1, 52)) model.\n",
      "The AIC for this model is: 848.1360123218533\n",
      "Attempting to fit SARIMA((0, 1, 3) by (0, 1, 2, 52)) model.\n",
      "The AIC for this model is: 847.6785732576718\n",
      "Attempting to fit SARIMA((0, 1, 3) by (0, 1, 3, 52)) model.\n",
      "The AIC for this model is: 841.9119173417683\n",
      "Attempting to fit SARIMA((0, 1, 3) by (1, 0, 0, 52)) model.\n",
      "The AIC for this model is: 1099.1614211591052\n",
      "Attempting to fit SARIMA((0, 1, 3) by (1, 0, 1, 52)) model.\n",
      "The AIC for this model is: 1076.6280282620987\n",
      "Attempting to fit SARIMA((0, 1, 3) by (1, 0, 2, 52)) model.\n",
      "The AIC for this model is: 1077.2808453475468\n",
      "Attempting to fit SARIMA((0, 1, 3) by (1, 0, 3, 52)) model.\n",
      "The AIC for this model is: 1072.3994953118554\n",
      "Attempting to fit SARIMA((0, 1, 3) by (1, 1, 0, 52)) model.\n",
      "The AIC for this model is: 875.9457538795382\n",
      "Attempting to fit SARIMA((0, 1, 3) by (1, 1, 1, 52)) model.\n",
      "The AIC for this model is: 848.6134553505012\n",
      "Attempting to fit SARIMA((0, 1, 3) by (1, 1, 2, 52)) model.\n",
      "The AIC for this model is: 851.1785859969154\n",
      "Attempting to fit SARIMA((0, 1, 3) by (1, 1, 3, 52)) model.\n"
     ]
    },
    {
     "name": "stderr",
     "output_type": "stream",
     "text": [
      "C:\\Users\\lafka\\anaconda3\\lib\\site-packages\\statsmodels\\base\\model.py:568: ConvergenceWarning: Maximum Likelihood optimization failed to converge. Check mle_retvals\n",
      "  \"Check mle_retvals\", ConvergenceWarning)\n"
     ]
    },
    {
     "name": "stdout",
     "output_type": "stream",
     "text": [
      "The AIC for this model is: 842.093312246601\n",
      "Attempting to fit SARIMA((0, 1, 3) by (2, 0, 0, 52)) model.\n",
      "The AIC for this model is: 1091.017928425319\n",
      "Attempting to fit SARIMA((0, 1, 3) by (2, 0, 1, 52)) model.\n",
      "The AIC for this model is: 1077.7273818398621\n",
      "Attempting to fit SARIMA((0, 1, 3) by (2, 0, 2, 52)) model.\n",
      "The AIC for this model is: 1079.616013207601\n",
      "Attempting to fit SARIMA((0, 1, 3) by (2, 0, 3, 52)) model.\n"
     ]
    },
    {
     "name": "stderr",
     "output_type": "stream",
     "text": [
      "C:\\Users\\lafka\\anaconda3\\lib\\site-packages\\statsmodels\\base\\model.py:568: ConvergenceWarning: Maximum Likelihood optimization failed to converge. Check mle_retvals\n",
      "  \"Check mle_retvals\", ConvergenceWarning)\n"
     ]
    },
    {
     "name": "stdout",
     "output_type": "stream",
     "text": [
      "The AIC for this model is: 1073.9046194162943\n",
      "Attempting to fit SARIMA((0, 1, 3) by (2, 1, 0, 52)) model.\n",
      "The AIC for this model is: 840.0599162648289\n",
      "Attempting to fit SARIMA((0, 1, 3) by (2, 1, 1, 52)) model.\n",
      "The AIC for this model is: 839.9796927136025\n",
      "Attempting to fit SARIMA((0, 1, 3) by (2, 1, 2, 52)) model.\n",
      "The AIC for this model is: 841.9796971298856\n",
      "Attempting to fit SARIMA((0, 1, 3) by (2, 1, 3, 52)) model.\n"
     ]
    },
    {
     "name": "stderr",
     "output_type": "stream",
     "text": [
      "C:\\Users\\lafka\\anaconda3\\lib\\site-packages\\statsmodels\\base\\model.py:568: ConvergenceWarning: Maximum Likelihood optimization failed to converge. Check mle_retvals\n",
      "  \"Check mle_retvals\", ConvergenceWarning)\n"
     ]
    },
    {
     "name": "stdout",
     "output_type": "stream",
     "text": [
      "The AIC for this model is: 844.0723608610851\n",
      "Attempting to fit SARIMA((0, 1, 3) by (3, 0, 0, 52)) model.\n",
      "The AIC for this model is: 1071.1235099823084\n",
      "Attempting to fit SARIMA((0, 1, 3) by (3, 0, 1, 52)) model.\n",
      "The AIC for this model is: 1071.8493216817374\n",
      "Attempting to fit SARIMA((0, 1, 3) by (3, 0, 2, 52)) model.\n",
      "The AIC for this model is: 1073.8452954648064\n",
      "Attempting to fit SARIMA((0, 1, 3) by (3, 0, 3, 52)) model.\n",
      "The AIC for this model is: 1075.8452964464225\n",
      "Attempting to fit SARIMA((0, 1, 3) by (3, 1, 0, 52)) model.\n",
      "The AIC for this model is: 839.979722364233\n",
      "Attempting to fit SARIMA((0, 1, 3) by (3, 1, 1, 52)) model.\n",
      "The AIC for this model is: 841.9797247107999\n",
      "Attempting to fit SARIMA((0, 1, 3) by (3, 1, 2, 52)) model.\n",
      "The AIC for this model is: 843.979693205098\n",
      "Attempting to fit SARIMA((0, 1, 3) by (3, 1, 3, 52)) model.\n",
      "The AIC for this model is: 845.9796744216069\n",
      "Attempting to fit SARIMA((1, 0, 0) by (0, 0, 0, 52)) model.\n",
      "The AIC for this model is: 1152.309298637768\n",
      "Attempting to fit SARIMA((1, 0, 0) by (0, 0, 1, 52)) model.\n",
      "The AIC for this model is: 1125.5569357079803\n",
      "Attempting to fit SARIMA((1, 0, 0) by (0, 0, 2, 52)) model.\n",
      "The AIC for this model is: 1121.7754659564534\n",
      "Attempting to fit SARIMA((1, 0, 0) by (0, 0, 3, 52)) model.\n",
      "The AIC for this model is: 1092.5436607903882\n",
      "Attempting to fit SARIMA((1, 0, 0) by (0, 1, 0, 52)) model.\n",
      "The AIC for this model is: 917.9772793724951\n",
      "Attempting to fit SARIMA((1, 0, 0) by (0, 1, 1, 52)) model.\n",
      "The AIC for this model is: 849.2053517073803\n",
      "Attempting to fit SARIMA((1, 0, 0) by (0, 1, 2, 52)) model.\n",
      "The AIC for this model is: 848.3910192774131\n",
      "Attempting to fit SARIMA((1, 0, 0) by (0, 1, 3, 52)) model.\n",
      "The AIC for this model is: 843.0788083541926\n",
      "Attempting to fit SARIMA((1, 0, 0) by (1, 0, 0, 52)) model.\n",
      "The AIC for this model is: 1116.2001877604364\n",
      "Attempting to fit SARIMA((1, 0, 0) by (1, 0, 1, 52)) model.\n",
      "The AIC for this model is: 1090.418466172528\n",
      "Attempting to fit SARIMA((1, 0, 0) by (1, 0, 2, 52)) model.\n",
      "The AIC for this model is: 1089.2750275262192\n",
      "Attempting to fit SARIMA((1, 0, 0) by (1, 0, 3, 52)) model.\n"
     ]
    },
    {
     "name": "stderr",
     "output_type": "stream",
     "text": [
      "C:\\Users\\lafka\\anaconda3\\lib\\site-packages\\statsmodels\\base\\model.py:568: ConvergenceWarning: Maximum Likelihood optimization failed to converge. Check mle_retvals\n",
      "  \"Check mle_retvals\", ConvergenceWarning)\n"
     ]
    },
    {
     "name": "stdout",
     "output_type": "stream",
     "text": [
      "The AIC for this model is: 1084.417358408234\n",
      "Attempting to fit SARIMA((1, 0, 0) by (1, 1, 0, 52)) model.\n",
      "The AIC for this model is: 878.3555435796266\n",
      "Attempting to fit SARIMA((1, 0, 0) by (1, 1, 1, 52)) model.\n",
      "The AIC for this model is: 849.3963073937679\n",
      "Attempting to fit SARIMA((1, 0, 0) by (1, 1, 2, 52)) model.\n",
      "The AIC for this model is: 852.1674328496823\n",
      "Attempting to fit SARIMA((1, 0, 0) by (1, 1, 3, 52)) model.\n"
     ]
    },
    {
     "name": "stderr",
     "output_type": "stream",
     "text": [
      "C:\\Users\\lafka\\anaconda3\\lib\\site-packages\\statsmodels\\base\\model.py:568: ConvergenceWarning: Maximum Likelihood optimization failed to converge. Check mle_retvals\n",
      "  \"Check mle_retvals\", ConvergenceWarning)\n"
     ]
    },
    {
     "name": "stdout",
     "output_type": "stream",
     "text": [
      "The AIC for this model is: 843.7942384992916\n",
      "Attempting to fit SARIMA((1, 0, 0) by (2, 0, 0, 52)) model.\n",
      "The AIC for this model is: 1107.3188115748148\n",
      "Attempting to fit SARIMA((1, 0, 0) by (2, 0, 1, 52)) model.\n",
      "The AIC for this model is: 1090.661904210316\n",
      "Attempting to fit SARIMA((1, 0, 0) by (2, 0, 2, 52)) model.\n",
      "The AIC for this model is: 1093.2195894824972\n",
      "Attempting to fit SARIMA((1, 0, 0) by (2, 0, 3, 52)) model.\n"
     ]
    },
    {
     "name": "stderr",
     "output_type": "stream",
     "text": [
      "C:\\Users\\lafka\\anaconda3\\lib\\site-packages\\statsmodels\\base\\model.py:568: ConvergenceWarning: Maximum Likelihood optimization failed to converge. Check mle_retvals\n",
      "  \"Check mle_retvals\", ConvergenceWarning)\n"
     ]
    },
    {
     "name": "stdout",
     "output_type": "stream",
     "text": [
      "The AIC for this model is: 1084.041504385636\n",
      "Attempting to fit SARIMA((1, 0, 0) by (2, 1, 0, 52)) model.\n",
      "The AIC for this model is: 841.4104102515626\n",
      "Attempting to fit SARIMA((1, 0, 0) by (2, 1, 1, 52)) model.\n",
      "The AIC for this model is: 841.7457315866544\n",
      "Attempting to fit SARIMA((1, 0, 0) by (2, 1, 2, 52)) model.\n"
     ]
    },
    {
     "name": "stderr",
     "output_type": "stream",
     "text": [
      "C:\\Users\\lafka\\anaconda3\\lib\\site-packages\\statsmodels\\base\\model.py:568: ConvergenceWarning: Maximum Likelihood optimization failed to converge. Check mle_retvals\n",
      "  \"Check mle_retvals\", ConvergenceWarning)\n"
     ]
    },
    {
     "name": "stdout",
     "output_type": "stream",
     "text": [
      "The AIC for this model is: 843.6716739738664\n",
      "Attempting to fit SARIMA((1, 0, 0) by (2, 1, 3, 52)) model.\n"
     ]
    },
    {
     "name": "stderr",
     "output_type": "stream",
     "text": [
      "C:\\Users\\lafka\\anaconda3\\lib\\site-packages\\statsmodels\\base\\model.py:568: ConvergenceWarning: Maximum Likelihood optimization failed to converge. Check mle_retvals\n",
      "  \"Check mle_retvals\", ConvergenceWarning)\n"
     ]
    },
    {
     "name": "stdout",
     "output_type": "stream",
     "text": [
      "The AIC for this model is: 845.7956569879216\n",
      "Attempting to fit SARIMA((1, 0, 0) by (3, 0, 0, 52)) model.\n",
      "The AIC for this model is: 1082.981725936695\n",
      "Attempting to fit SARIMA((1, 0, 0) by (3, 0, 1, 52)) model.\n",
      "The AIC for this model is: 1082.3327737672744\n",
      "Attempting to fit SARIMA((1, 0, 0) by (3, 0, 2, 52)) model.\n",
      "The AIC for this model is: 1084.6096974693592\n",
      "Attempting to fit SARIMA((1, 0, 0) by (3, 0, 3, 52)) model.\n"
     ]
    },
    {
     "name": "stderr",
     "output_type": "stream",
     "text": [
      "C:\\Users\\lafka\\anaconda3\\lib\\site-packages\\statsmodels\\base\\model.py:568: ConvergenceWarning: Maximum Likelihood optimization failed to converge. Check mle_retvals\n",
      "  \"Check mle_retvals\", ConvergenceWarning)\n"
     ]
    },
    {
     "name": "stdout",
     "output_type": "stream",
     "text": [
      "The AIC for this model is: 1086.8351786986177\n",
      "Attempting to fit SARIMA((1, 0, 0) by (3, 1, 0, 52)) model.\n",
      "The AIC for this model is: 841.6817904081577\n",
      "Attempting to fit SARIMA((1, 0, 0) by (3, 1, 1, 52)) model.\n"
     ]
    },
    {
     "name": "stderr",
     "output_type": "stream",
     "text": [
      "C:\\Users\\lafka\\anaconda3\\lib\\site-packages\\statsmodels\\base\\model.py:568: ConvergenceWarning: Maximum Likelihood optimization failed to converge. Check mle_retvals\n",
      "  \"Check mle_retvals\", ConvergenceWarning)\n"
     ]
    },
    {
     "name": "stdout",
     "output_type": "stream",
     "text": [
      "The AIC for this model is: 843.6456587431562\n",
      "Attempting to fit SARIMA((1, 0, 0) by (3, 1, 2, 52)) model.\n"
     ]
    },
    {
     "name": "stderr",
     "output_type": "stream",
     "text": [
      "C:\\Users\\lafka\\anaconda3\\lib\\site-packages\\statsmodels\\base\\model.py:568: ConvergenceWarning: Maximum Likelihood optimization failed to converge. Check mle_retvals\n",
      "  \"Check mle_retvals\", ConvergenceWarning)\n"
     ]
    },
    {
     "name": "stdout",
     "output_type": "stream",
     "text": [
      "The AIC for this model is: 845.6783033696443\n",
      "Attempting to fit SARIMA((1, 0, 0) by (3, 1, 3, 52)) model.\n"
     ]
    },
    {
     "name": "stderr",
     "output_type": "stream",
     "text": [
      "C:\\Users\\lafka\\anaconda3\\lib\\site-packages\\statsmodels\\base\\model.py:568: ConvergenceWarning: Maximum Likelihood optimization failed to converge. Check mle_retvals\n",
      "  \"Check mle_retvals\", ConvergenceWarning)\n"
     ]
    },
    {
     "name": "stdout",
     "output_type": "stream",
     "text": [
      "The AIC for this model is: 847.7016770297583\n",
      "Attempting to fit SARIMA((1, 1, 0) by (0, 0, 0, 52)) model.\n",
      "The AIC for this model is: 1133.5403817581177\n",
      "Attempting to fit SARIMA((1, 1, 0) by (0, 0, 1, 52)) model.\n",
      "The AIC for this model is: 1111.457458696159\n",
      "Attempting to fit SARIMA((1, 1, 0) by (0, 0, 2, 52)) model.\n",
      "The AIC for this model is: 1107.5815324090356\n",
      "Attempting to fit SARIMA((1, 1, 0) by (0, 0, 3, 52)) model.\n"
     ]
    },
    {
     "name": "stderr",
     "output_type": "stream",
     "text": [
      "C:\\Users\\lafka\\anaconda3\\lib\\site-packages\\statsmodels\\base\\model.py:568: ConvergenceWarning: Maximum Likelihood optimization failed to converge. Check mle_retvals\n",
      "  \"Check mle_retvals\", ConvergenceWarning)\n"
     ]
    },
    {
     "name": "stdout",
     "output_type": "stream",
     "text": [
      "The AIC for this model is: 1079.309660019344\n",
      "Attempting to fit SARIMA((1, 1, 0) by (0, 1, 0, 52)) model.\n",
      "The AIC for this model is: 917.8636984929607\n",
      "Attempting to fit SARIMA((1, 1, 0) by (0, 1, 1, 52)) model.\n",
      "The AIC for this model is: 848.4151285904952\n",
      "Attempting to fit SARIMA((1, 1, 0) by (0, 1, 2, 52)) model.\n",
      "The AIC for this model is: 846.5898120322857\n",
      "Attempting to fit SARIMA((1, 1, 0) by (0, 1, 3, 52)) model.\n",
      "The AIC for this model is: 840.6362844339446\n",
      "Attempting to fit SARIMA((1, 1, 0) by (1, 0, 0, 52)) model.\n",
      "The AIC for this model is: 1102.6884676296258\n",
      "Attempting to fit SARIMA((1, 1, 0) by (1, 0, 1, 52)) model.\n",
      "The AIC for this model is: 1078.404132238542\n",
      "Attempting to fit SARIMA((1, 1, 0) by (1, 0, 2, 52)) model.\n",
      "The AIC for this model is: 1078.0635252085326\n",
      "Attempting to fit SARIMA((1, 1, 0) by (1, 0, 3, 52)) model.\n"
     ]
    },
    {
     "name": "stderr",
     "output_type": "stream",
     "text": [
      "C:\\Users\\lafka\\anaconda3\\lib\\site-packages\\statsmodels\\base\\model.py:568: ConvergenceWarning: Maximum Likelihood optimization failed to converge. Check mle_retvals\n",
      "  \"Check mle_retvals\", ConvergenceWarning)\n"
     ]
    },
    {
     "name": "stdout",
     "output_type": "stream",
     "text": [
      "The AIC for this model is: 1072.7066926609618\n",
      "Attempting to fit SARIMA((1, 1, 0) by (1, 1, 0, 52)) model.\n",
      "The AIC for this model is: 877.9182306320002\n",
      "Attempting to fit SARIMA((1, 1, 0) by (1, 1, 1, 52)) model.\n",
      "The AIC for this model is: 848.1070606728833\n",
      "Attempting to fit SARIMA((1, 1, 0) by (1, 1, 2, 52)) model.\n",
      "The AIC for this model is: 851.4723773206855\n",
      "Attempting to fit SARIMA((1, 1, 0) by (1, 1, 3, 52)) model.\n"
     ]
    },
    {
     "name": "stderr",
     "output_type": "stream",
     "text": [
      "C:\\Users\\lafka\\anaconda3\\lib\\site-packages\\statsmodels\\base\\model.py:568: ConvergenceWarning: Maximum Likelihood optimization failed to converge. Check mle_retvals\n",
      "  \"Check mle_retvals\", ConvergenceWarning)\n"
     ]
    },
    {
     "name": "stdout",
     "output_type": "stream",
     "text": [
      "The AIC for this model is: 839.7714187335433\n",
      "Attempting to fit SARIMA((1, 1, 0) by (2, 0, 0, 52)) model.\n",
      "The AIC for this model is: 1093.8443594175951\n",
      "Attempting to fit SARIMA((1, 1, 0) by (2, 0, 1, 52)) model.\n",
      "The AIC for this model is: 1078.9210670290777\n",
      "Attempting to fit SARIMA((1, 1, 0) by (2, 0, 2, 52)) model.\n",
      "The AIC for this model is: 1081.503149504064\n",
      "Attempting to fit SARIMA((1, 1, 0) by (2, 0, 3, 52)) model.\n",
      "The AIC for this model is: 1073.5197419788544\n",
      "Attempting to fit SARIMA((1, 1, 0) by (2, 1, 0, 52)) model.\n",
      "The AIC for this model is: 837.6329368744586\n",
      "Attempting to fit SARIMA((1, 1, 0) by (2, 1, 1, 52)) model.\n",
      "The AIC for this model is: 837.685034953694\n",
      "Attempting to fit SARIMA((1, 1, 0) by (2, 1, 2, 52)) model.\n",
      "The AIC for this model is: 839.685035917625\n",
      "Attempting to fit SARIMA((1, 1, 0) by (2, 1, 3, 52)) model.\n"
     ]
    },
    {
     "name": "stderr",
     "output_type": "stream",
     "text": [
      "C:\\Users\\lafka\\anaconda3\\lib\\site-packages\\statsmodels\\base\\model.py:568: ConvergenceWarning: Maximum Likelihood optimization failed to converge. Check mle_retvals\n",
      "  \"Check mle_retvals\", ConvergenceWarning)\n"
     ]
    },
    {
     "name": "stdout",
     "output_type": "stream",
     "text": [
      "The AIC for this model is: 841.7381225058646\n",
      "Attempting to fit SARIMA((1, 1, 0) by (3, 0, 0, 52)) model.\n",
      "The AIC for this model is: 1070.5699823037257\n",
      "Attempting to fit SARIMA((1, 1, 0) by (3, 0, 1, 52)) model.\n",
      "The AIC for this model is: 1071.4820822666215\n",
      "Attempting to fit SARIMA((1, 1, 0) by (3, 0, 2, 52)) model.\n",
      "The AIC for this model is: 1073.4820782070456\n",
      "Attempting to fit SARIMA((1, 1, 0) by (3, 0, 3, 52)) model.\n",
      "The AIC for this model is: 1075.4820779958848\n",
      "Attempting to fit SARIMA((1, 1, 0) by (3, 1, 0, 52)) model.\n",
      "The AIC for this model is: 837.6850589435386\n",
      "Attempting to fit SARIMA((1, 1, 0) by (3, 1, 1, 52)) model.\n",
      "The AIC for this model is: 839.6850610623791\n",
      "Attempting to fit SARIMA((1, 1, 0) by (3, 1, 2, 52)) model.\n",
      "The AIC for this model is: 841.6850308594773\n",
      "Attempting to fit SARIMA((1, 1, 0) by (3, 1, 3, 52)) model.\n",
      "The AIC for this model is: 843.6850114624559\n",
      "Attempting to fit SARIMA((1, 0, 1) by (0, 0, 0, 52)) model.\n",
      "The AIC for this model is: 1150.0676062442108\n",
      "Attempting to fit SARIMA((1, 0, 1) by (0, 0, 1, 52)) model.\n",
      "The AIC for this model is: 1126.8909047887228\n",
      "Attempting to fit SARIMA((1, 0, 1) by (0, 0, 2, 52)) model.\n",
      "The AIC for this model is: 1123.052190638551\n",
      "Attempting to fit SARIMA((1, 0, 1) by (0, 0, 3, 52)) model.\n"
     ]
    },
    {
     "name": "stderr",
     "output_type": "stream",
     "text": [
      "C:\\Users\\lafka\\anaconda3\\lib\\site-packages\\statsmodels\\base\\model.py:568: ConvergenceWarning: Maximum Likelihood optimization failed to converge. Check mle_retvals\n",
      "  \"Check mle_retvals\", ConvergenceWarning)\n"
     ]
    },
    {
     "name": "stdout",
     "output_type": "stream",
     "text": [
      "The AIC for this model is: 1094.5504380227965\n",
      "Attempting to fit SARIMA((1, 0, 1) by (0, 1, 0, 52)) model.\n",
      "The AIC for this model is: 919.9724873326338\n",
      "Attempting to fit SARIMA((1, 0, 1) by (0, 1, 1, 52)) model.\n",
      "The AIC for this model is: 851.0679257050017\n",
      "Attempting to fit SARIMA((1, 0, 1) by (0, 1, 2, 52)) model.\n",
      "The AIC for this model is: 850.066692674985\n",
      "Attempting to fit SARIMA((1, 0, 1) by (0, 1, 3, 52)) model.\n",
      "The AIC for this model is: 844.4158993026111\n",
      "Attempting to fit SARIMA((1, 0, 1) by (1, 0, 0, 52)) model.\n",
      "The AIC for this model is: 1117.974269095955\n",
      "Attempting to fit SARIMA((1, 0, 1) by (1, 0, 1, 52)) model.\n",
      "The AIC for this model is: 1093.0128556092964\n",
      "Attempting to fit SARIMA((1, 0, 1) by (1, 0, 2, 52)) model.\n",
      "The AIC for this model is: 1092.2356279061828\n",
      "Attempting to fit SARIMA((1, 0, 1) by (1, 0, 3, 52)) model.\n"
     ]
    },
    {
     "name": "stderr",
     "output_type": "stream",
     "text": [
      "C:\\Users\\lafka\\anaconda3\\lib\\site-packages\\statsmodels\\base\\model.py:568: ConvergenceWarning: Maximum Likelihood optimization failed to converge. Check mle_retvals\n",
      "  \"Check mle_retvals\", ConvergenceWarning)\n"
     ]
    },
    {
     "name": "stdout",
     "output_type": "stream",
     "text": [
      "The AIC for this model is: 1086.008748543074\n",
      "Attempting to fit SARIMA((1, 0, 1) by (1, 1, 0, 52)) model.\n",
      "The AIC for this model is: 880.3477009790804\n",
      "Attempting to fit SARIMA((1, 0, 1) by (1, 1, 1, 52)) model.\n",
      "The AIC for this model is: 851.1716993585799\n",
      "Attempting to fit SARIMA((1, 0, 1) by (1, 1, 2, 52)) model.\n",
      "The AIC for this model is: 853.9524361449704\n",
      "Attempting to fit SARIMA((1, 0, 1) by (1, 1, 3, 52)) model.\n"
     ]
    },
    {
     "name": "stderr",
     "output_type": "stream",
     "text": [
      "C:\\Users\\lafka\\anaconda3\\lib\\site-packages\\statsmodels\\base\\model.py:568: ConvergenceWarning: Maximum Likelihood optimization failed to converge. Check mle_retvals\n",
      "  \"Check mle_retvals\", ConvergenceWarning)\n"
     ]
    },
    {
     "name": "stdout",
     "output_type": "stream",
     "text": [
      "The AIC for this model is: 844.593192234634\n",
      "Attempting to fit SARIMA((1, 0, 1) by (2, 0, 0, 52)) model.\n",
      "The AIC for this model is: 1109.0874852736538\n",
      "Attempting to fit SARIMA((1, 0, 1) by (2, 0, 1, 52)) model.\n",
      "The AIC for this model is: 1093.2861552427883\n",
      "Attempting to fit SARIMA((1, 0, 1) by (2, 0, 2, 52)) model.\n",
      "The AIC for this model is: 1095.8610570371723\n",
      "Attempting to fit SARIMA((1, 0, 1) by (2, 0, 3, 52)) model.\n"
     ]
    },
    {
     "name": "stderr",
     "output_type": "stream",
     "text": [
      "C:\\Users\\lafka\\anaconda3\\lib\\site-packages\\statsmodels\\base\\model.py:568: ConvergenceWarning: Maximum Likelihood optimization failed to converge. Check mle_retvals\n",
      "  \"Check mle_retvals\", ConvergenceWarning)\n"
     ]
    },
    {
     "name": "stdout",
     "output_type": "stream",
     "text": [
      "The AIC for this model is: 1086.5931583255087\n",
      "Attempting to fit SARIMA((1, 0, 1) by (2, 1, 0, 52)) model.\n",
      "The AIC for this model is: 841.9402425583753\n",
      "Attempting to fit SARIMA((1, 0, 1) by (2, 1, 1, 52)) model.\n",
      "The AIC for this model is: 842.498367505744\n",
      "Attempting to fit SARIMA((1, 0, 1) by (2, 1, 2, 52)) model.\n"
     ]
    },
    {
     "name": "stderr",
     "output_type": "stream",
     "text": [
      "C:\\Users\\lafka\\anaconda3\\lib\\site-packages\\statsmodels\\base\\model.py:568: ConvergenceWarning: Maximum Likelihood optimization failed to converge. Check mle_retvals\n",
      "  \"Check mle_retvals\", ConvergenceWarning)\n"
     ]
    },
    {
     "name": "stdout",
     "output_type": "stream",
     "text": [
      "The AIC for this model is: 844.3616624600327\n",
      "Attempting to fit SARIMA((1, 0, 1) by (2, 1, 3, 52)) model.\n"
     ]
    },
    {
     "name": "stderr",
     "output_type": "stream",
     "text": [
      "C:\\Users\\lafka\\anaconda3\\lib\\site-packages\\statsmodels\\base\\model.py:568: ConvergenceWarning: Maximum Likelihood optimization failed to converge. Check mle_retvals\n",
      "  \"Check mle_retvals\", ConvergenceWarning)\n"
     ]
    },
    {
     "name": "stdout",
     "output_type": "stream",
     "text": [
      "The AIC for this model is: 846.4530283233512\n",
      "Attempting to fit SARIMA((1, 0, 1) by (3, 0, 0, 52)) model.\n",
      "The AIC for this model is: 1084.924928569787\n",
      "Attempting to fit SARIMA((1, 0, 1) by (3, 0, 1, 52)) model.\n",
      "The AIC for this model is: 1085.2453839593331\n",
      "Attempting to fit SARIMA((1, 0, 1) by (3, 0, 2, 52)) model.\n"
     ]
    },
    {
     "name": "stderr",
     "output_type": "stream",
     "text": [
      "C:\\Users\\lafka\\anaconda3\\lib\\site-packages\\statsmodels\\base\\model.py:568: ConvergenceWarning: Maximum Likelihood optimization failed to converge. Check mle_retvals\n",
      "  \"Check mle_retvals\", ConvergenceWarning)\n"
     ]
    },
    {
     "name": "stdout",
     "output_type": "stream",
     "text": [
      "The AIC for this model is: 1087.0329534436364\n",
      "Attempting to fit SARIMA((1, 0, 1) by (3, 0, 3, 52)) model.\n"
     ]
    },
    {
     "name": "stderr",
     "output_type": "stream",
     "text": [
      "C:\\Users\\lafka\\anaconda3\\lib\\site-packages\\statsmodels\\base\\model.py:568: ConvergenceWarning: Maximum Likelihood optimization failed to converge. Check mle_retvals\n",
      "  \"Check mle_retvals\", ConvergenceWarning)\n"
     ]
    },
    {
     "name": "stdout",
     "output_type": "stream",
     "text": [
      "The AIC for this model is: 1089.3249094114076\n",
      "Attempting to fit SARIMA((1, 0, 1) by (3, 1, 0, 52)) model.\n",
      "The AIC for this model is: 842.4108339970853\n",
      "Attempting to fit SARIMA((1, 0, 1) by (3, 1, 1, 52)) model.\n"
     ]
    },
    {
     "name": "stderr",
     "output_type": "stream",
     "text": [
      "C:\\Users\\lafka\\anaconda3\\lib\\site-packages\\statsmodels\\base\\model.py:568: ConvergenceWarning: Maximum Likelihood optimization failed to converge. Check mle_retvals\n",
      "  \"Check mle_retvals\", ConvergenceWarning)\n"
     ]
    },
    {
     "name": "stdout",
     "output_type": "stream",
     "text": [
      "The AIC for this model is: 844.3603326542147\n",
      "Attempting to fit SARIMA((1, 0, 1) by (3, 1, 2, 52)) model.\n"
     ]
    },
    {
     "name": "stderr",
     "output_type": "stream",
     "text": [
      "C:\\Users\\lafka\\anaconda3\\lib\\site-packages\\statsmodels\\base\\model.py:568: ConvergenceWarning: Maximum Likelihood optimization failed to converge. Check mle_retvals\n",
      "  \"Check mle_retvals\", ConvergenceWarning)\n"
     ]
    },
    {
     "name": "stdout",
     "output_type": "stream",
     "text": [
      "The AIC for this model is: 846.3711977229119\n",
      "Attempting to fit SARIMA((1, 0, 1) by (3, 1, 3, 52)) model.\n"
     ]
    },
    {
     "name": "stderr",
     "output_type": "stream",
     "text": [
      "C:\\Users\\lafka\\anaconda3\\lib\\site-packages\\statsmodels\\base\\model.py:568: ConvergenceWarning: Maximum Likelihood optimization failed to converge. Check mle_retvals\n",
      "  \"Check mle_retvals\", ConvergenceWarning)\n"
     ]
    },
    {
     "name": "stdout",
     "output_type": "stream",
     "text": [
      "The AIC for this model is: 848.4615462344914\n",
      "Attempting to fit SARIMA((1, 1, 1) by (0, 0, 0, 52)) model.\n",
      "The AIC for this model is: 1126.3056608392785\n",
      "Attempting to fit SARIMA((1, 1, 1) by (0, 0, 1, 52)) model.\n",
      "The AIC for this model is: 1107.1647445404878\n",
      "Attempting to fit SARIMA((1, 1, 1) by (0, 0, 2, 52)) model.\n",
      "The AIC for this model is: 1103.6765943052658\n",
      "Attempting to fit SARIMA((1, 1, 1) by (0, 0, 3, 52)) model.\n"
     ]
    },
    {
     "name": "stderr",
     "output_type": "stream",
     "text": [
      "C:\\Users\\lafka\\anaconda3\\lib\\site-packages\\statsmodels\\base\\model.py:568: ConvergenceWarning: Maximum Likelihood optimization failed to converge. Check mle_retvals\n",
      "  \"Check mle_retvals\", ConvergenceWarning)\n"
     ]
    },
    {
     "name": "stdout",
     "output_type": "stream",
     "text": [
      "The AIC for this model is: 1078.804223217474\n",
      "Attempting to fit SARIMA((1, 1, 1) by (0, 1, 0, 52)) model.\n",
      "The AIC for this model is: 918.1329715344175\n",
      "Attempting to fit SARIMA((1, 1, 1) by (0, 1, 1, 52)) model.\n",
      "The AIC for this model is: 848.3578702146917\n",
      "Attempting to fit SARIMA((1, 1, 1) by (0, 1, 2, 52)) model.\n",
      "The AIC for this model is: 846.653431993997\n",
      "Attempting to fit SARIMA((1, 1, 1) by (0, 1, 3, 52)) model.\n",
      "The AIC for this model is: 840.8639468103324\n",
      "Attempting to fit SARIMA((1, 1, 1) by (1, 0, 0, 52)) model.\n",
      "The AIC for this model is: 1100.19789321628\n",
      "Attempting to fit SARIMA((1, 1, 1) by (1, 0, 1, 52)) model.\n",
      "The AIC for this model is: 1078.3203850034704\n",
      "Attempting to fit SARIMA((1, 1, 1) by (1, 0, 2, 52)) model.\n",
      "The AIC for this model is: 1078.2859255101048\n",
      "Attempting to fit SARIMA((1, 1, 1) by (1, 0, 3, 52)) model.\n"
     ]
    },
    {
     "name": "stderr",
     "output_type": "stream",
     "text": [
      "C:\\Users\\lafka\\anaconda3\\lib\\site-packages\\statsmodels\\base\\model.py:568: ConvergenceWarning: Maximum Likelihood optimization failed to converge. Check mle_retvals\n",
      "  \"Check mle_retvals\", ConvergenceWarning)\n"
     ]
    },
    {
     "name": "stdout",
     "output_type": "stream",
     "text": [
      "The AIC for this model is: 1073.5076932805252\n",
      "Attempting to fit SARIMA((1, 1, 1) by (1, 1, 0, 52)) model.\n",
      "The AIC for this model is: 877.7746817597096\n",
      "Attempting to fit SARIMA((1, 1, 1) by (1, 1, 1, 52)) model.\n",
      "The AIC for this model is: 848.0763629277058\n",
      "Attempting to fit SARIMA((1, 1, 1) by (1, 1, 2, 52)) model.\n",
      "The AIC for this model is: 851.4484921965794\n",
      "Attempting to fit SARIMA((1, 1, 1) by (1, 1, 3, 52)) model.\n"
     ]
    },
    {
     "name": "stderr",
     "output_type": "stream",
     "text": [
      "C:\\Users\\lafka\\anaconda3\\lib\\site-packages\\statsmodels\\base\\model.py:568: ConvergenceWarning: Maximum Likelihood optimization failed to converge. Check mle_retvals\n",
      "  \"Check mle_retvals\", ConvergenceWarning)\n"
     ]
    },
    {
     "name": "stdout",
     "output_type": "stream",
     "text": [
      "The AIC for this model is: 840.4391415951318\n",
      "Attempting to fit SARIMA((1, 1, 1) by (2, 0, 0, 52)) model.\n",
      "The AIC for this model is: 1092.4345227379758\n",
      "Attempting to fit SARIMA((1, 1, 1) by (2, 0, 1, 52)) model.\n",
      "The AIC for this model is: 1078.9539432161357\n",
      "Attempting to fit SARIMA((1, 1, 1) by (2, 0, 2, 52)) model.\n"
     ]
    },
    {
     "name": "stderr",
     "output_type": "stream",
     "text": [
      "C:\\Users\\lafka\\anaconda3\\lib\\site-packages\\statsmodels\\base\\model.py:568: ConvergenceWarning: Maximum Likelihood optimization failed to converge. Check mle_retvals\n",
      "  \"Check mle_retvals\", ConvergenceWarning)\n"
     ]
    },
    {
     "name": "stdout",
     "output_type": "stream",
     "text": [
      "The AIC for this model is: 1081.5514480544568\n",
      "Attempting to fit SARIMA((1, 1, 1) by (2, 0, 3, 52)) model.\n"
     ]
    },
    {
     "name": "stderr",
     "output_type": "stream",
     "text": [
      "C:\\Users\\lafka\\anaconda3\\lib\\site-packages\\statsmodels\\base\\model.py:568: ConvergenceWarning: Maximum Likelihood optimization failed to converge. Check mle_retvals\n",
      "  \"Check mle_retvals\", ConvergenceWarning)\n"
     ]
    },
    {
     "name": "stdout",
     "output_type": "stream",
     "text": [
      "The AIC for this model is: 1074.8702075537005\n",
      "Attempting to fit SARIMA((1, 1, 1) by (2, 1, 0, 52)) model.\n",
      "The AIC for this model is: 838.3254870279895\n",
      "Attempting to fit SARIMA((1, 1, 1) by (2, 1, 1, 52)) model.\n",
      "The AIC for this model is: 838.355876210941\n",
      "Attempting to fit SARIMA((1, 1, 1) by (2, 1, 2, 52)) model.\n",
      "The AIC for this model is: 840.355878568337\n",
      "Attempting to fit SARIMA((1, 1, 1) by (2, 1, 3, 52)) model.\n"
     ]
    },
    {
     "name": "stderr",
     "output_type": "stream",
     "text": [
      "C:\\Users\\lafka\\anaconda3\\lib\\site-packages\\statsmodels\\base\\model.py:568: ConvergenceWarning: Maximum Likelihood optimization failed to converge. Check mle_retvals\n",
      "  \"Check mle_retvals\", ConvergenceWarning)\n"
     ]
    },
    {
     "name": "stdout",
     "output_type": "stream",
     "text": [
      "The AIC for this model is: 842.4184623457757\n",
      "Attempting to fit SARIMA((1, 1, 1) by (3, 0, 0, 52)) model.\n",
      "The AIC for this model is: 1071.945336040511\n",
      "Attempting to fit SARIMA((1, 1, 1) by (3, 0, 1, 52)) model.\n",
      "The AIC for this model is: 1072.739520393912\n",
      "Attempting to fit SARIMA((1, 1, 1) by (3, 0, 2, 52)) model.\n",
      "The AIC for this model is: 1074.7391284673304\n",
      "Attempting to fit SARIMA((1, 1, 1) by (3, 0, 3, 52)) model.\n",
      "The AIC for this model is: 1076.7391289436518\n",
      "Attempting to fit SARIMA((1, 1, 1) by (3, 1, 0, 52)) model.\n",
      "The AIC for this model is: 838.3559021041551\n",
      "Attempting to fit SARIMA((1, 1, 1) by (3, 1, 1, 52)) model.\n",
      "The AIC for this model is: 840.3559024794656\n",
      "Attempting to fit SARIMA((1, 1, 1) by (3, 1, 2, 52)) model.\n",
      "The AIC for this model is: 842.3558720468438\n",
      "Attempting to fit SARIMA((1, 1, 1) by (3, 1, 3, 52)) model.\n",
      "The AIC for this model is: 844.3558534792569\n",
      "Attempting to fit SARIMA((1, 0, 2) by (0, 0, 0, 52)) model.\n",
      "The AIC for this model is: 1146.3404529650406\n",
      "Attempting to fit SARIMA((1, 0, 2) by (0, 0, 1, 52)) model.\n",
      "The AIC for this model is: 1121.7589371725355\n",
      "Attempting to fit SARIMA((1, 0, 2) by (0, 0, 2, 52)) model.\n",
      "The AIC for this model is: 1117.746922679662\n",
      "Attempting to fit SARIMA((1, 0, 2) by (0, 0, 3, 52)) model.\n"
     ]
    },
    {
     "name": "stderr",
     "output_type": "stream",
     "text": [
      "C:\\Users\\lafka\\anaconda3\\lib\\site-packages\\statsmodels\\base\\model.py:568: ConvergenceWarning: Maximum Likelihood optimization failed to converge. Check mle_retvals\n",
      "  \"Check mle_retvals\", ConvergenceWarning)\n"
     ]
    },
    {
     "name": "stdout",
     "output_type": "stream",
     "text": [
      "The AIC for this model is: 1091.7191779493373\n",
      "Attempting to fit SARIMA((1, 0, 2) by (0, 1, 0, 52)) model.\n",
      "The AIC for this model is: 910.9276387775222\n",
      "Attempting to fit SARIMA((1, 0, 2) by (0, 1, 1, 52)) model.\n",
      "The AIC for this model is: 847.2061138013669\n",
      "Attempting to fit SARIMA((1, 0, 2) by (0, 1, 2, 52)) model.\n",
      "The AIC for this model is: 847.7584956341902\n",
      "Attempting to fit SARIMA((1, 0, 2) by (0, 1, 3, 52)) model.\n"
     ]
    },
    {
     "name": "stderr",
     "output_type": "stream",
     "text": [
      "C:\\Users\\lafka\\anaconda3\\lib\\site-packages\\statsmodels\\base\\model.py:568: ConvergenceWarning: Maximum Likelihood optimization failed to converge. Check mle_retvals\n",
      "  \"Check mle_retvals\", ConvergenceWarning)\n"
     ]
    },
    {
     "name": "stdout",
     "output_type": "stream",
     "text": [
      "The AIC for this model is: 842.3530820672433\n",
      "Attempting to fit SARIMA((1, 0, 2) by (1, 0, 0, 52)) model.\n",
      "The AIC for this model is: 1112.3571127848797\n",
      "Attempting to fit SARIMA((1, 0, 2) by (1, 0, 1, 52)) model.\n",
      "The AIC for this model is: 1089.8167138385475\n",
      "Attempting to fit SARIMA((1, 0, 2) by (1, 0, 2, 52)) model.\n",
      "The AIC for this model is: 1090.435457649607\n",
      "Attempting to fit SARIMA((1, 0, 2) by (1, 0, 3, 52)) model.\n"
     ]
    },
    {
     "name": "stderr",
     "output_type": "stream",
     "text": [
      "C:\\Users\\lafka\\anaconda3\\lib\\site-packages\\statsmodels\\base\\model.py:568: ConvergenceWarning: Maximum Likelihood optimization failed to converge. Check mle_retvals\n",
      "  \"Check mle_retvals\", ConvergenceWarning)\n"
     ]
    },
    {
     "name": "stdout",
     "output_type": "stream",
     "text": [
      "The AIC for this model is: 1083.5580774548064\n",
      "Attempting to fit SARIMA((1, 0, 2) by (1, 1, 0, 52)) model.\n",
      "The AIC for this model is: 874.344605484526\n",
      "Attempting to fit SARIMA((1, 0, 2) by (1, 1, 1, 52)) model.\n",
      "The AIC for this model is: 848.2679547187322\n",
      "Attempting to fit SARIMA((1, 0, 2) by (1, 1, 2, 52)) model.\n",
      "The AIC for this model is: 849.8844648689392\n",
      "Attempting to fit SARIMA((1, 0, 2) by (1, 1, 3, 52)) model.\n"
     ]
    },
    {
     "name": "stderr",
     "output_type": "stream",
     "text": [
      "C:\\Users\\lafka\\anaconda3\\lib\\site-packages\\statsmodels\\base\\model.py:568: ConvergenceWarning: Maximum Likelihood optimization failed to converge. Check mle_retvals\n",
      "  \"Check mle_retvals\", ConvergenceWarning)\n"
     ]
    },
    {
     "name": "stdout",
     "output_type": "stream",
     "text": [
      "The AIC for this model is: 843.58255467034\n",
      "Attempting to fit SARIMA((1, 0, 2) by (2, 0, 0, 52)) model.\n",
      "The AIC for this model is: 1104.2333347531485\n",
      "Attempting to fit SARIMA((1, 0, 2) by (2, 0, 1, 52)) model.\n"
     ]
    },
    {
     "name": "stderr",
     "output_type": "stream",
     "text": [
      "C:\\Users\\lafka\\anaconda3\\lib\\site-packages\\statsmodels\\base\\model.py:568: ConvergenceWarning: Maximum Likelihood optimization failed to converge. Check mle_retvals\n",
      "  \"Check mle_retvals\", ConvergenceWarning)\n"
     ]
    },
    {
     "name": "stdout",
     "output_type": "stream",
     "text": [
      "The AIC for this model is: 1090.8522527463629\n",
      "Attempting to fit SARIMA((1, 0, 2) by (2, 0, 2, 52)) model.\n"
     ]
    },
    {
     "name": "stderr",
     "output_type": "stream",
     "text": [
      "C:\\Users\\lafka\\anaconda3\\lib\\site-packages\\statsmodels\\base\\model.py:568: ConvergenceWarning: Maximum Likelihood optimization failed to converge. Check mle_retvals\n",
      "  \"Check mle_retvals\", ConvergenceWarning)\n"
     ]
    },
    {
     "name": "stdout",
     "output_type": "stream",
     "text": [
      "The AIC for this model is: 1092.800182297213\n",
      "Attempting to fit SARIMA((1, 0, 2) by (2, 0, 3, 52)) model.\n"
     ]
    },
    {
     "name": "stderr",
     "output_type": "stream",
     "text": [
      "C:\\Users\\lafka\\anaconda3\\lib\\site-packages\\statsmodels\\base\\model.py:568: ConvergenceWarning: Maximum Likelihood optimization failed to converge. Check mle_retvals\n",
      "  \"Check mle_retvals\", ConvergenceWarning)\n"
     ]
    },
    {
     "name": "stdout",
     "output_type": "stream",
     "text": [
      "The AIC for this model is: 1085.774603559827\n",
      "Attempting to fit SARIMA((1, 0, 2) by (2, 1, 0, 52)) model.\n",
      "The AIC for this model is: 841.1573256382858\n",
      "Attempting to fit SARIMA((1, 0, 2) by (2, 1, 1, 52)) model.\n",
      "The AIC for this model is: 841.506461039907\n",
      "Attempting to fit SARIMA((1, 0, 2) by (2, 1, 2, 52)) model.\n"
     ]
    },
    {
     "name": "stderr",
     "output_type": "stream",
     "text": [
      "C:\\Users\\lafka\\anaconda3\\lib\\site-packages\\statsmodels\\base\\model.py:568: ConvergenceWarning: Maximum Likelihood optimization failed to converge. Check mle_retvals\n",
      "  \"Check mle_retvals\", ConvergenceWarning)\n"
     ]
    },
    {
     "name": "stdout",
     "output_type": "stream",
     "text": [
      "The AIC for this model is: 843.4865260208906\n",
      "Attempting to fit SARIMA((1, 0, 2) by (2, 1, 3, 52)) model.\n"
     ]
    },
    {
     "name": "stderr",
     "output_type": "stream",
     "text": [
      "C:\\Users\\lafka\\anaconda3\\lib\\site-packages\\statsmodels\\base\\model.py:568: ConvergenceWarning: Maximum Likelihood optimization failed to converge. Check mle_retvals\n",
      "  \"Check mle_retvals\", ConvergenceWarning)\n"
     ]
    },
    {
     "name": "stdout",
     "output_type": "stream",
     "text": [
      "The AIC for this model is: 845.5606026510143\n",
      "Attempting to fit SARIMA((1, 0, 2) by (3, 0, 0, 52)) model.\n",
      "The AIC for this model is: 1083.518410278125\n",
      "Attempting to fit SARIMA((1, 0, 2) by (3, 0, 1, 52)) model.\n"
     ]
    },
    {
     "name": "stderr",
     "output_type": "stream",
     "text": [
      "C:\\Users\\lafka\\anaconda3\\lib\\site-packages\\statsmodels\\base\\model.py:568: ConvergenceWarning: Maximum Likelihood optimization failed to converge. Check mle_retvals\n",
      "  \"Check mle_retvals\", ConvergenceWarning)\n"
     ]
    },
    {
     "name": "stdout",
     "output_type": "stream",
     "text": [
      "The AIC for this model is: 1084.2010725422701\n",
      "Attempting to fit SARIMA((1, 0, 2) by (3, 0, 2, 52)) model.\n"
     ]
    },
    {
     "name": "stderr",
     "output_type": "stream",
     "text": [
      "C:\\Users\\lafka\\anaconda3\\lib\\site-packages\\statsmodels\\base\\model.py:568: ConvergenceWarning: Maximum Likelihood optimization failed to converge. Check mle_retvals\n",
      "  \"Check mle_retvals\", ConvergenceWarning)\n"
     ]
    },
    {
     "name": "stdout",
     "output_type": "stream",
     "text": [
      "The AIC for this model is: 1084.1209205817672\n",
      "Attempting to fit SARIMA((1, 0, 2) by (3, 0, 3, 52)) model.\n",
      "The AIC for this model is: 1088.5282886042537\n",
      "Attempting to fit SARIMA((1, 0, 2) by (3, 1, 0, 52)) model.\n",
      "The AIC for this model is: 841.4759314687963\n",
      "Attempting to fit SARIMA((1, 0, 2) by (3, 1, 1, 52)) model.\n"
     ]
    },
    {
     "name": "stderr",
     "output_type": "stream",
     "text": [
      "C:\\Users\\lafka\\anaconda3\\lib\\site-packages\\statsmodels\\base\\model.py:568: ConvergenceWarning: Maximum Likelihood optimization failed to converge. Check mle_retvals\n",
      "  \"Check mle_retvals\", ConvergenceWarning)\n"
     ]
    },
    {
     "name": "stdout",
     "output_type": "stream",
     "text": [
      "The AIC for this model is: 843.4663818968409\n",
      "Attempting to fit SARIMA((1, 0, 2) by (3, 1, 2, 52)) model.\n",
      "The AIC for this model is: 845.5082308829321\n",
      "Attempting to fit SARIMA((1, 0, 2) by (3, 1, 3, 52)) model.\n"
     ]
    },
    {
     "name": "stderr",
     "output_type": "stream",
     "text": [
      "C:\\Users\\lafka\\anaconda3\\lib\\site-packages\\statsmodels\\base\\model.py:568: ConvergenceWarning: Maximum Likelihood optimization failed to converge. Check mle_retvals\n",
      "  \"Check mle_retvals\", ConvergenceWarning)\n"
     ]
    },
    {
     "name": "stdout",
     "output_type": "stream",
     "text": [
      "The AIC for this model is: 847.4929460841067\n",
      "Attempting to fit SARIMA((1, 1, 2) by (0, 0, 0, 52)) model.\n",
      "The AIC for this model is: 1127.658515600202\n",
      "Attempting to fit SARIMA((1, 1, 2) by (0, 0, 1, 52)) model.\n",
      "The AIC for this model is: 1106.5791748635725\n",
      "Attempting to fit SARIMA((1, 1, 2) by (0, 0, 2, 52)) model.\n",
      "The AIC for this model is: 1103.0799871132576\n",
      "Attempting to fit SARIMA((1, 1, 2) by (0, 0, 3, 52)) model.\n"
     ]
    },
    {
     "name": "stderr",
     "output_type": "stream",
     "text": [
      "C:\\Users\\lafka\\anaconda3\\lib\\site-packages\\statsmodels\\base\\model.py:568: ConvergenceWarning: Maximum Likelihood optimization failed to converge. Check mle_retvals\n",
      "  \"Check mle_retvals\", ConvergenceWarning)\n"
     ]
    },
    {
     "name": "stdout",
     "output_type": "stream",
     "text": [
      "The AIC for this model is: 1078.2841325038344\n",
      "Attempting to fit SARIMA((1, 1, 2) by (0, 1, 0, 52)) model.\n",
      "The AIC for this model is: 914.3117909525295\n",
      "Attempting to fit SARIMA((1, 1, 2) by (0, 1, 1, 52)) model.\n",
      "The AIC for this model is: 848.1545705181104\n",
      "Attempting to fit SARIMA((1, 1, 2) by (0, 1, 2, 52)) model.\n",
      "The AIC for this model is: 847.6218992572024\n",
      "Attempting to fit SARIMA((1, 1, 2) by (0, 1, 3, 52)) model.\n"
     ]
    },
    {
     "name": "stderr",
     "output_type": "stream",
     "text": [
      "C:\\Users\\lafka\\anaconda3\\lib\\site-packages\\statsmodels\\base\\model.py:568: ConvergenceWarning: Maximum Likelihood optimization failed to converge. Check mle_retvals\n",
      "  \"Check mle_retvals\", ConvergenceWarning)\n"
     ]
    },
    {
     "name": "stdout",
     "output_type": "stream",
     "text": [
      "The AIC for this model is: 841.9505350929539\n",
      "Attempting to fit SARIMA((1, 1, 2) by (1, 0, 0, 52)) model.\n",
      "The AIC for this model is: 1098.6602830004645\n",
      "Attempting to fit SARIMA((1, 1, 2) by (1, 0, 1, 52)) model.\n",
      "The AIC for this model is: 1076.5563357518927\n",
      "Attempting to fit SARIMA((1, 1, 2) by (1, 0, 2, 52)) model.\n",
      "The AIC for this model is: 1077.151408930365\n",
      "Attempting to fit SARIMA((1, 1, 2) by (1, 0, 3, 52)) model.\n"
     ]
    },
    {
     "name": "stderr",
     "output_type": "stream",
     "text": [
      "C:\\Users\\lafka\\anaconda3\\lib\\site-packages\\statsmodels\\base\\model.py:568: ConvergenceWarning: Maximum Likelihood optimization failed to converge. Check mle_retvals\n",
      "  \"Check mle_retvals\", ConvergenceWarning)\n"
     ]
    },
    {
     "name": "stdout",
     "output_type": "stream",
     "text": [
      "The AIC for this model is: 1072.323077108979\n",
      "Attempting to fit SARIMA((1, 1, 2) by (1, 1, 0, 52)) model.\n",
      "The AIC for this model is: 875.9598439820168\n",
      "Attempting to fit SARIMA((1, 1, 2) by (1, 1, 1, 52)) model.\n",
      "The AIC for this model is: 848.5862178440291\n",
      "Attempting to fit SARIMA((1, 1, 2) by (1, 1, 2, 52)) model.\n",
      "The AIC for this model is: 851.2276382811319\n",
      "Attempting to fit SARIMA((1, 1, 2) by (1, 1, 3, 52)) model.\n"
     ]
    },
    {
     "name": "stderr",
     "output_type": "stream",
     "text": [
      "C:\\Users\\lafka\\anaconda3\\lib\\site-packages\\statsmodels\\base\\model.py:568: ConvergenceWarning: Maximum Likelihood optimization failed to converge. Check mle_retvals\n",
      "  \"Check mle_retvals\", ConvergenceWarning)\n"
     ]
    },
    {
     "name": "stdout",
     "output_type": "stream",
     "text": [
      "The AIC for this model is: 842.1941762210954\n",
      "Attempting to fit SARIMA((1, 1, 2) by (2, 0, 0, 52)) model.\n",
      "The AIC for this model is: 1091.1776776614229\n",
      "Attempting to fit SARIMA((1, 1, 2) by (2, 0, 1, 52)) model.\n",
      "The AIC for this model is: 1077.6551691486911\n",
      "Attempting to fit SARIMA((1, 1, 2) by (2, 0, 2, 52)) model.\n",
      "The AIC for this model is: 1079.928566935103\n",
      "Attempting to fit SARIMA((1, 1, 2) by (2, 0, 3, 52)) model.\n"
     ]
    },
    {
     "name": "stderr",
     "output_type": "stream",
     "text": [
      "C:\\Users\\lafka\\anaconda3\\lib\\site-packages\\statsmodels\\base\\model.py:568: ConvergenceWarning: Maximum Likelihood optimization failed to converge. Check mle_retvals\n",
      "  \"Check mle_retvals\", ConvergenceWarning)\n"
     ]
    },
    {
     "name": "stdout",
     "output_type": "stream",
     "text": [
      "The AIC for this model is: 1073.994690139088\n",
      "Attempting to fit SARIMA((1, 1, 2) by (2, 1, 0, 52)) model.\n",
      "The AIC for this model is: 840.1689002650105\n",
      "Attempting to fit SARIMA((1, 1, 2) by (2, 1, 1, 52)) model.\n",
      "The AIC for this model is: 840.0725129234754\n",
      "Attempting to fit SARIMA((1, 1, 2) by (2, 1, 2, 52)) model.\n",
      "The AIC for this model is: 842.0725177129243\n",
      "Attempting to fit SARIMA((1, 1, 2) by (2, 1, 3, 52)) model.\n"
     ]
    },
    {
     "name": "stderr",
     "output_type": "stream",
     "text": [
      "C:\\Users\\lafka\\anaconda3\\lib\\site-packages\\statsmodels\\base\\model.py:568: ConvergenceWarning: Maximum Likelihood optimization failed to converge. Check mle_retvals\n",
      "  \"Check mle_retvals\", ConvergenceWarning)\n"
     ]
    },
    {
     "name": "stdout",
     "output_type": "stream",
     "text": [
      "The AIC for this model is: 844.160353144173\n",
      "Attempting to fit SARIMA((1, 1, 2) by (3, 0, 0, 52)) model.\n",
      "The AIC for this model is: 1071.2438326982856\n",
      "Attempting to fit SARIMA((1, 1, 2) by (3, 0, 1, 52)) model.\n"
     ]
    },
    {
     "name": "stderr",
     "output_type": "stream",
     "text": [
      "C:\\Users\\lafka\\anaconda3\\lib\\site-packages\\statsmodels\\base\\model.py:568: ConvergenceWarning: Maximum Likelihood optimization failed to converge. Check mle_retvals\n",
      "  \"Check mle_retvals\", ConvergenceWarning)\n"
     ]
    },
    {
     "name": "stdout",
     "output_type": "stream",
     "text": [
      "The AIC for this model is: 1071.7600743801102\n",
      "Attempting to fit SARIMA((1, 1, 2) by (3, 0, 2, 52)) model.\n",
      "The AIC for this model is: 1073.7543826817737\n",
      "Attempting to fit SARIMA((1, 1, 2) by (3, 0, 3, 52)) model.\n",
      "The AIC for this model is: 1075.7543852868089\n",
      "Attempting to fit SARIMA((1, 1, 2) by (3, 1, 0, 52)) model.\n",
      "The AIC for this model is: 840.0725422546227\n",
      "Attempting to fit SARIMA((1, 1, 2) by (3, 1, 1, 52)) model.\n",
      "The AIC for this model is: 842.0725430638627\n",
      "Attempting to fit SARIMA((1, 1, 2) by (3, 1, 2, 52)) model.\n",
      "The AIC for this model is: 844.0725110238462\n",
      "Attempting to fit SARIMA((1, 1, 2) by (3, 1, 3, 52)) model.\n",
      "The AIC for this model is: 846.0724938351943\n",
      "Attempting to fit SARIMA((1, 0, 3) by (0, 0, 0, 52)) model.\n",
      "The AIC for this model is: 1148.3209397874023\n",
      "Attempting to fit SARIMA((1, 0, 3) by (0, 0, 1, 52)) model.\n",
      "The AIC for this model is: 1123.724445092178\n",
      "Attempting to fit SARIMA((1, 0, 3) by (0, 0, 2, 52)) model.\n",
      "The AIC for this model is: 1119.7448046826216\n",
      "Attempting to fit SARIMA((1, 0, 3) by (0, 0, 3, 52)) model.\n"
     ]
    },
    {
     "name": "stderr",
     "output_type": "stream",
     "text": [
      "C:\\Users\\lafka\\anaconda3\\lib\\site-packages\\statsmodels\\base\\model.py:568: ConvergenceWarning: Maximum Likelihood optimization failed to converge. Check mle_retvals\n",
      "  \"Check mle_retvals\", ConvergenceWarning)\n"
     ]
    },
    {
     "name": "stdout",
     "output_type": "stream",
     "text": [
      "The AIC for this model is: 1093.699762856049\n",
      "Attempting to fit SARIMA((1, 0, 3) by (0, 1, 0, 52)) model.\n",
      "The AIC for this model is: 912.6405031435017\n",
      "Attempting to fit SARIMA((1, 0, 3) by (0, 1, 1, 52)) model.\n",
      "The AIC for this model is: 849.2021886138812\n",
      "Attempting to fit SARIMA((1, 0, 3) by (0, 1, 2, 52)) model.\n",
      "The AIC for this model is: 849.7251481562234\n",
      "Attempting to fit SARIMA((1, 0, 3) by (0, 1, 3, 52)) model.\n",
      "The AIC for this model is: 844.3384079704826\n",
      "Attempting to fit SARIMA((1, 0, 3) by (1, 0, 0, 52)) model.\n",
      "The AIC for this model is: 1114.406374194302\n",
      "Attempting to fit SARIMA((1, 0, 3) by (1, 0, 1, 52)) model.\n",
      "The AIC for this model is: 1092.1183686456416\n",
      "Attempting to fit SARIMA((1, 0, 3) by (1, 0, 2, 52)) model.\n",
      "The AIC for this model is: 1092.444954295167\n",
      "Attempting to fit SARIMA((1, 0, 3) by (1, 0, 3, 52)) model.\n"
     ]
    },
    {
     "name": "stderr",
     "output_type": "stream",
     "text": [
      "C:\\Users\\lafka\\anaconda3\\lib\\site-packages\\statsmodels\\base\\model.py:568: ConvergenceWarning: Maximum Likelihood optimization failed to converge. Check mle_retvals\n",
      "  \"Check mle_retvals\", ConvergenceWarning)\n"
     ]
    },
    {
     "name": "stdout",
     "output_type": "stream",
     "text": [
      "The AIC for this model is: 1085.7166679203206\n",
      "Attempting to fit SARIMA((1, 0, 3) by (1, 1, 0, 52)) model.\n",
      "The AIC for this model is: 876.3430424960764\n",
      "Attempting to fit SARIMA((1, 0, 3) by (1, 1, 1, 52)) model.\n",
      "The AIC for this model is: 850.2475201368043\n",
      "Attempting to fit SARIMA((1, 0, 3) by (1, 1, 2, 52)) model.\n"
     ]
    },
    {
     "name": "stderr",
     "output_type": "stream",
     "text": [
      "C:\\Users\\lafka\\anaconda3\\lib\\site-packages\\statsmodels\\base\\model.py:568: ConvergenceWarning: Maximum Likelihood optimization failed to converge. Check mle_retvals\n",
      "  \"Check mle_retvals\", ConvergenceWarning)\n"
     ]
    },
    {
     "name": "stdout",
     "output_type": "stream",
     "text": [
      "The AIC for this model is: 851.8845715359632\n",
      "Attempting to fit SARIMA((1, 0, 3) by (1, 1, 3, 52)) model.\n"
     ]
    },
    {
     "name": "stderr",
     "output_type": "stream",
     "text": [
      "C:\\Users\\lafka\\anaconda3\\lib\\site-packages\\statsmodels\\base\\model.py:568: ConvergenceWarning: Maximum Likelihood optimization failed to converge. Check mle_retvals\n",
      "  \"Check mle_retvals\", ConvergenceWarning)\n"
     ]
    },
    {
     "name": "stdout",
     "output_type": "stream",
     "text": [
      "The AIC for this model is: 845.5611830129774\n",
      "Attempting to fit SARIMA((1, 0, 3) by (2, 0, 0, 52)) model.\n",
      "The AIC for this model is: 1106.190408560167\n",
      "Attempting to fit SARIMA((1, 0, 3) by (2, 0, 1, 52)) model.\n",
      "The AIC for this model is: 1092.9636402856731\n",
      "Attempting to fit SARIMA((1, 0, 3) by (2, 0, 2, 52)) model.\n",
      "The AIC for this model is: 1094.90966009875\n",
      "Attempting to fit SARIMA((1, 0, 3) by (2, 0, 3, 52)) model.\n"
     ]
    },
    {
     "name": "stderr",
     "output_type": "stream",
     "text": [
      "C:\\Users\\lafka\\anaconda3\\lib\\site-packages\\statsmodels\\base\\model.py:568: ConvergenceWarning: Maximum Likelihood optimization failed to converge. Check mle_retvals\n",
      "  \"Check mle_retvals\", ConvergenceWarning)\n"
     ]
    },
    {
     "name": "stdout",
     "output_type": "stream",
     "text": [
      "The AIC for this model is: 1087.925063308608\n",
      "Attempting to fit SARIMA((1, 0, 3) by (2, 1, 0, 52)) model.\n",
      "The AIC for this model is: 843.0920563167933\n",
      "Attempting to fit SARIMA((1, 0, 3) by (2, 1, 1, 52)) model.\n",
      "The AIC for this model is: 843.4730979919447\n",
      "Attempting to fit SARIMA((1, 0, 3) by (2, 1, 2, 52)) model.\n"
     ]
    },
    {
     "name": "stderr",
     "output_type": "stream",
     "text": [
      "C:\\Users\\lafka\\anaconda3\\lib\\site-packages\\statsmodels\\base\\model.py:568: ConvergenceWarning: Maximum Likelihood optimization failed to converge. Check mle_retvals\n",
      "  \"Check mle_retvals\", ConvergenceWarning)\n"
     ]
    },
    {
     "name": "stdout",
     "output_type": "stream",
     "text": [
      "The AIC for this model is: 845.4464497979556\n",
      "Attempting to fit SARIMA((1, 0, 3) by (2, 1, 3, 52)) model.\n"
     ]
    },
    {
     "name": "stderr",
     "output_type": "stream",
     "text": [
      "C:\\Users\\lafka\\anaconda3\\lib\\site-packages\\statsmodels\\base\\model.py:568: ConvergenceWarning: Maximum Likelihood optimization failed to converge. Check mle_retvals\n",
      "  \"Check mle_retvals\", ConvergenceWarning)\n"
     ]
    },
    {
     "name": "stdout",
     "output_type": "stream",
     "text": [
      "The AIC for this model is: 847.5568704469424\n",
      "Attempting to fit SARIMA((1, 0, 3) by (3, 0, 0, 52)) model.\n",
      "The AIC for this model is: 1085.4715699760925\n",
      "Attempting to fit SARIMA((1, 0, 3) by (3, 0, 1, 52)) model.\n",
      "The AIC for this model is: 1086.2759444418944\n",
      "Attempting to fit SARIMA((1, 0, 3) by (3, 0, 2, 52)) model.\n"
     ]
    },
    {
     "name": "stderr",
     "output_type": "stream",
     "text": [
      "C:\\Users\\lafka\\anaconda3\\lib\\site-packages\\statsmodels\\base\\model.py:568: ConvergenceWarning: Maximum Likelihood optimization failed to converge. Check mle_retvals\n",
      "  \"Check mle_retvals\", ConvergenceWarning)\n"
     ]
    },
    {
     "name": "stdout",
     "output_type": "stream",
     "text": [
      "The AIC for this model is: 1089.0706388936787\n",
      "Attempting to fit SARIMA((1, 0, 3) by (3, 0, 3, 52)) model.\n"
     ]
    },
    {
     "name": "stderr",
     "output_type": "stream",
     "text": [
      "C:\\Users\\lafka\\anaconda3\\lib\\site-packages\\statsmodels\\base\\model.py:568: ConvergenceWarning: Maximum Likelihood optimization failed to converge. Check mle_retvals\n",
      "  \"Check mle_retvals\", ConvergenceWarning)\n"
     ]
    },
    {
     "name": "stdout",
     "output_type": "stream",
     "text": [
      "The AIC for this model is: 1090.5565311263144\n",
      "Attempting to fit SARIMA((1, 0, 3) by (3, 1, 0, 52)) model.\n",
      "The AIC for this model is: 843.4383768713742\n",
      "Attempting to fit SARIMA((1, 0, 3) by (3, 1, 1, 52)) model.\n",
      "The AIC for this model is: 845.4671806336594\n",
      "Attempting to fit SARIMA((1, 0, 3) by (3, 1, 2, 52)) model.\n",
      "The AIC for this model is: 847.4763189242067\n",
      "Attempting to fit SARIMA((1, 0, 3) by (3, 1, 3, 52)) model.\n"
     ]
    },
    {
     "name": "stderr",
     "output_type": "stream",
     "text": [
      "C:\\Users\\lafka\\anaconda3\\lib\\site-packages\\statsmodels\\base\\model.py:568: ConvergenceWarning: Maximum Likelihood optimization failed to converge. Check mle_retvals\n",
      "  \"Check mle_retvals\", ConvergenceWarning)\n"
     ]
    },
    {
     "name": "stdout",
     "output_type": "stream",
     "text": [
      "The AIC for this model is: 849.462995236177\n",
      "Attempting to fit SARIMA((1, 1, 3) by (0, 0, 0, 52)) model.\n",
      "The AIC for this model is: 1129.6578781157289\n",
      "Attempting to fit SARIMA((1, 1, 3) by (0, 0, 1, 52)) model.\n",
      "The AIC for this model is: 1108.301029892411\n",
      "Attempting to fit SARIMA((1, 1, 3) by (0, 0, 2, 52)) model.\n",
      "The AIC for this model is: 1104.7187816033334\n",
      "Attempting to fit SARIMA((1, 1, 3) by (0, 0, 3, 52)) model.\n"
     ]
    },
    {
     "name": "stderr",
     "output_type": "stream",
     "text": [
      "C:\\Users\\lafka\\anaconda3\\lib\\site-packages\\statsmodels\\base\\model.py:568: ConvergenceWarning: Maximum Likelihood optimization failed to converge. Check mle_retvals\n",
      "  \"Check mle_retvals\", ConvergenceWarning)\n"
     ]
    },
    {
     "name": "stdout",
     "output_type": "stream",
     "text": [
      "The AIC for this model is: 1080.1205428490434\n",
      "Attempting to fit SARIMA((1, 1, 3) by (0, 1, 0, 52)) model.\n"
     ]
    },
    {
     "name": "stderr",
     "output_type": "stream",
     "text": [
      "C:\\Users\\lafka\\anaconda3\\lib\\site-packages\\statsmodels\\tsa\\statespace\\sarimax.py:963: UserWarning: Non-stationary starting autoregressive parameters found. Using zeros as starting parameters.\n",
      "  warn('Non-stationary starting autoregressive parameters'\n"
     ]
    },
    {
     "name": "stdout",
     "output_type": "stream",
     "text": [
      "The AIC for this model is: 909.1706835887458\n",
      "Attempting to fit SARIMA((1, 1, 3) by (0, 1, 1, 52)) model.\n"
     ]
    },
    {
     "name": "stderr",
     "output_type": "stream",
     "text": [
      "C:\\Users\\lafka\\anaconda3\\lib\\site-packages\\statsmodels\\base\\model.py:568: ConvergenceWarning: Maximum Likelihood optimization failed to converge. Check mle_retvals\n",
      "  \"Check mle_retvals\", ConvergenceWarning)\n"
     ]
    },
    {
     "name": "stdout",
     "output_type": "stream",
     "text": [
      "The AIC for this model is: 843.0672442455499\n",
      "Attempting to fit SARIMA((1, 1, 3) by (0, 1, 2, 52)) model.\n",
      "The AIC for this model is: 849.6212004759906\n",
      "Attempting to fit SARIMA((1, 1, 3) by (0, 1, 3, 52)) model.\n"
     ]
    },
    {
     "name": "stderr",
     "output_type": "stream",
     "text": [
      "C:\\Users\\lafka\\anaconda3\\lib\\site-packages\\statsmodels\\base\\model.py:568: ConvergenceWarning: Maximum Likelihood optimization failed to converge. Check mle_retvals\n",
      "  \"Check mle_retvals\", ConvergenceWarning)\n"
     ]
    },
    {
     "name": "stdout",
     "output_type": "stream",
     "text": [
      "The AIC for this model is: 835.4916315438561\n",
      "Attempting to fit SARIMA((1, 1, 3) by (1, 0, 0, 52)) model.\n",
      "The AIC for this model is: 1100.2105762402346\n",
      "Attempting to fit SARIMA((1, 1, 3) by (1, 0, 1, 52)) model.\n"
     ]
    },
    {
     "name": "stderr",
     "output_type": "stream",
     "text": [
      "C:\\Users\\lafka\\anaconda3\\lib\\site-packages\\statsmodels\\base\\model.py:568: ConvergenceWarning: Maximum Likelihood optimization failed to converge. Check mle_retvals\n",
      "  \"Check mle_retvals\", ConvergenceWarning)\n"
     ]
    },
    {
     "name": "stdout",
     "output_type": "stream",
     "text": [
      "The AIC for this model is: 1075.4806816857727\n",
      "Attempting to fit SARIMA((1, 1, 3) by (1, 0, 2, 52)) model.\n"
     ]
    },
    {
     "name": "stderr",
     "output_type": "stream",
     "text": [
      "C:\\Users\\lafka\\anaconda3\\lib\\site-packages\\statsmodels\\base\\model.py:568: ConvergenceWarning: Maximum Likelihood optimization failed to converge. Check mle_retvals\n",
      "  \"Check mle_retvals\", ConvergenceWarning)\n"
     ]
    },
    {
     "name": "stdout",
     "output_type": "stream",
     "text": [
      "The AIC for this model is: 1076.4902789028533\n",
      "Attempting to fit SARIMA((1, 1, 3) by (1, 0, 3, 52)) model.\n",
      "The AIC for this model is: 1074.345557421569\n",
      "Attempting to fit SARIMA((1, 1, 3) by (1, 1, 0, 52)) model.\n"
     ]
    },
    {
     "name": "stderr",
     "output_type": "stream",
     "text": [
      "C:\\Users\\lafka\\anaconda3\\lib\\site-packages\\statsmodels\\base\\model.py:568: ConvergenceWarning: Maximum Likelihood optimization failed to converge. Check mle_retvals\n",
      "  \"Check mle_retvals\", ConvergenceWarning)\n"
     ]
    },
    {
     "name": "stdout",
     "output_type": "stream",
     "text": [
      "The AIC for this model is: 871.8849641050215\n",
      "Attempting to fit SARIMA((1, 1, 3) by (1, 1, 1, 52)) model.\n",
      "The AIC for this model is: 850.5854093669436\n",
      "Attempting to fit SARIMA((1, 1, 3) by (1, 1, 2, 52)) model.\n"
     ]
    },
    {
     "name": "stderr",
     "output_type": "stream",
     "text": [
      "C:\\Users\\lafka\\anaconda3\\lib\\site-packages\\statsmodels\\base\\model.py:568: ConvergenceWarning: Maximum Likelihood optimization failed to converge. Check mle_retvals\n",
      "  \"Check mle_retvals\", ConvergenceWarning)\n"
     ]
    },
    {
     "name": "stdout",
     "output_type": "stream",
     "text": [
      "The AIC for this model is: 845.4688199665928\n",
      "Attempting to fit SARIMA((1, 1, 3) by (1, 1, 3, 52)) model.\n"
     ]
    },
    {
     "name": "stderr",
     "output_type": "stream",
     "text": [
      "C:\\Users\\lafka\\anaconda3\\lib\\site-packages\\statsmodels\\base\\model.py:568: ConvergenceWarning: Maximum Likelihood optimization failed to converge. Check mle_retvals\n",
      "  \"Check mle_retvals\", ConvergenceWarning)\n"
     ]
    },
    {
     "name": "stdout",
     "output_type": "stream",
     "text": [
      "The AIC for this model is: 834.8559100113689\n",
      "Attempting to fit SARIMA((1, 1, 3) by (2, 0, 0, 52)) model.\n",
      "The AIC for this model is: 1092.661440338064\n",
      "Attempting to fit SARIMA((1, 1, 3) by (2, 0, 1, 52)) model.\n"
     ]
    },
    {
     "name": "stderr",
     "output_type": "stream",
     "text": [
      "C:\\Users\\lafka\\anaconda3\\lib\\site-packages\\statsmodels\\base\\model.py:568: ConvergenceWarning: Maximum Likelihood optimization failed to converge. Check mle_retvals\n",
      "  \"Check mle_retvals\", ConvergenceWarning)\n"
     ]
    },
    {
     "name": "stdout",
     "output_type": "stream",
     "text": [
      "The AIC for this model is: 1079.7038498102002\n",
      "Attempting to fit SARIMA((1, 1, 3) by (2, 0, 2, 52)) model.\n"
     ]
    },
    {
     "name": "stderr",
     "output_type": "stream",
     "text": [
      "C:\\Users\\lafka\\anaconda3\\lib\\site-packages\\statsmodels\\base\\model.py:568: ConvergenceWarning: Maximum Likelihood optimization failed to converge. Check mle_retvals\n",
      "  \"Check mle_retvals\", ConvergenceWarning)\n"
     ]
    },
    {
     "name": "stdout",
     "output_type": "stream",
     "text": [
      "The AIC for this model is: 1081.584738205698\n",
      "Attempting to fit SARIMA((1, 1, 3) by (2, 0, 3, 52)) model.\n"
     ]
    },
    {
     "name": "stderr",
     "output_type": "stream",
     "text": [
      "C:\\Users\\lafka\\anaconda3\\lib\\site-packages\\statsmodels\\base\\model.py:568: ConvergenceWarning: Maximum Likelihood optimization failed to converge. Check mle_retvals\n",
      "  \"Check mle_retvals\", ConvergenceWarning)\n"
     ]
    },
    {
     "name": "stdout",
     "output_type": "stream",
     "text": [
      "The AIC for this model is: 1075.883438211733\n",
      "Attempting to fit SARIMA((1, 1, 3) by (2, 1, 0, 52)) model.\n"
     ]
    },
    {
     "name": "stderr",
     "output_type": "stream",
     "text": [
      "C:\\Users\\lafka\\anaconda3\\lib\\site-packages\\statsmodels\\base\\model.py:568: ConvergenceWarning: Maximum Likelihood optimization failed to converge. Check mle_retvals\n",
      "  \"Check mle_retvals\", ConvergenceWarning)\n"
     ]
    },
    {
     "name": "stdout",
     "output_type": "stream",
     "text": [
      "The AIC for this model is: 831.9644478135222\n",
      "Attempting to fit SARIMA((1, 1, 3) by (2, 1, 1, 52)) model.\n"
     ]
    },
    {
     "name": "stderr",
     "output_type": "stream",
     "text": [
      "C:\\Users\\lafka\\anaconda3\\lib\\site-packages\\statsmodels\\base\\model.py:568: ConvergenceWarning: Maximum Likelihood optimization failed to converge. Check mle_retvals\n",
      "  \"Check mle_retvals\", ConvergenceWarning)\n"
     ]
    },
    {
     "name": "stdout",
     "output_type": "stream",
     "text": [
      "The AIC for this model is: 832.498603040137\n",
      "Attempting to fit SARIMA((1, 1, 3) by (2, 1, 2, 52)) model.\n"
     ]
    },
    {
     "name": "stderr",
     "output_type": "stream",
     "text": [
      "C:\\Users\\lafka\\anaconda3\\lib\\site-packages\\statsmodels\\base\\model.py:568: ConvergenceWarning: Maximum Likelihood optimization failed to converge. Check mle_retvals\n",
      "  \"Check mle_retvals\", ConvergenceWarning)\n"
     ]
    },
    {
     "name": "stdout",
     "output_type": "stream",
     "text": [
      "The AIC for this model is: 834.388448272452\n",
      "Attempting to fit SARIMA((1, 1, 3) by (2, 1, 3, 52)) model.\n"
     ]
    },
    {
     "name": "stderr",
     "output_type": "stream",
     "text": [
      "C:\\Users\\lafka\\anaconda3\\lib\\site-packages\\statsmodels\\base\\model.py:568: ConvergenceWarning: Maximum Likelihood optimization failed to converge. Check mle_retvals\n",
      "  \"Check mle_retvals\", ConvergenceWarning)\n"
     ]
    },
    {
     "name": "stdout",
     "output_type": "stream",
     "text": [
      "The AIC for this model is: 836.4193998931335\n",
      "Attempting to fit SARIMA((1, 1, 3) by (3, 0, 0, 52)) model.\n",
      "The AIC for this model is: 1073.0786055291273\n",
      "Attempting to fit SARIMA((1, 1, 3) by (3, 0, 1, 52)) model.\n",
      "The AIC for this model is: 1073.8002754506008\n",
      "Attempting to fit SARIMA((1, 1, 3) by (3, 0, 2, 52)) model.\n",
      "The AIC for this model is: 1075.7940252796102\n",
      "Attempting to fit SARIMA((1, 1, 3) by (3, 0, 3, 52)) model.\n",
      "The AIC for this model is: 1077.7940273558638\n",
      "Attempting to fit SARIMA((1, 1, 3) by (3, 1, 0, 52)) model.\n"
     ]
    },
    {
     "name": "stderr",
     "output_type": "stream",
     "text": [
      "C:\\Users\\lafka\\anaconda3\\lib\\site-packages\\statsmodels\\base\\model.py:568: ConvergenceWarning: Maximum Likelihood optimization failed to converge. Check mle_retvals\n",
      "  \"Check mle_retvals\", ConvergenceWarning)\n"
     ]
    },
    {
     "name": "stdout",
     "output_type": "stream",
     "text": [
      "The AIC for this model is: 832.3726688851675\n",
      "Attempting to fit SARIMA((1, 1, 3) by (3, 1, 1, 52)) model.\n"
     ]
    },
    {
     "name": "stderr",
     "output_type": "stream",
     "text": [
      "C:\\Users\\lafka\\anaconda3\\lib\\site-packages\\statsmodels\\base\\model.py:568: ConvergenceWarning: Maximum Likelihood optimization failed to converge. Check mle_retvals\n",
      "  \"Check mle_retvals\", ConvergenceWarning)\n"
     ]
    },
    {
     "name": "stdout",
     "output_type": "stream",
     "text": [
      "The AIC for this model is: 834.3730007208143\n",
      "Attempting to fit SARIMA((1, 1, 3) by (3, 1, 2, 52)) model.\n"
     ]
    },
    {
     "name": "stderr",
     "output_type": "stream",
     "text": [
      "C:\\Users\\lafka\\anaconda3\\lib\\site-packages\\statsmodels\\base\\model.py:568: ConvergenceWarning: Maximum Likelihood optimization failed to converge. Check mle_retvals\n",
      "  \"Check mle_retvals\", ConvergenceWarning)\n"
     ]
    },
    {
     "name": "stdout",
     "output_type": "stream",
     "text": [
      "The AIC for this model is: 836.373604137149\n",
      "Attempting to fit SARIMA((1, 1, 3) by (3, 1, 3, 52)) model.\n"
     ]
    },
    {
     "name": "stderr",
     "output_type": "stream",
     "text": [
      "C:\\Users\\lafka\\anaconda3\\lib\\site-packages\\statsmodels\\base\\model.py:568: ConvergenceWarning: Maximum Likelihood optimization failed to converge. Check mle_retvals\n",
      "  \"Check mle_retvals\", ConvergenceWarning)\n"
     ]
    },
    {
     "name": "stdout",
     "output_type": "stream",
     "text": [
      "The AIC for this model is: 838.3753377138453\n",
      "Attempting to fit SARIMA((2, 0, 0) by (0, 0, 0, 52)) model.\n",
      "The AIC for this model is: 1148.6770682368585\n",
      "Attempting to fit SARIMA((2, 0, 0) by (0, 0, 1, 52)) model.\n",
      "The AIC for this model is: 1126.631230946573\n",
      "Attempting to fit SARIMA((2, 0, 0) by (0, 0, 2, 52)) model.\n",
      "The AIC for this model is: 1122.772622297619\n",
      "Attempting to fit SARIMA((2, 0, 0) by (0, 0, 3, 52)) model.\n"
     ]
    },
    {
     "name": "stderr",
     "output_type": "stream",
     "text": [
      "C:\\Users\\lafka\\anaconda3\\lib\\site-packages\\statsmodels\\base\\model.py:568: ConvergenceWarning: Maximum Likelihood optimization failed to converge. Check mle_retvals\n",
      "  \"Check mle_retvals\", ConvergenceWarning)\n"
     ]
    },
    {
     "name": "stdout",
     "output_type": "stream",
     "text": [
      "The AIC for this model is: 1094.4359683058317\n",
      "Attempting to fit SARIMA((2, 0, 0) by (0, 1, 0, 52)) model.\n",
      "The AIC for this model is: 919.9699642564617\n",
      "Attempting to fit SARIMA((2, 0, 0) by (0, 1, 1, 52)) model.\n",
      "The AIC for this model is: 851.0143765232942\n",
      "Attempting to fit SARIMA((2, 0, 0) by (0, 1, 2, 52)) model.\n",
      "The AIC for this model is: 849.9580487484832\n",
      "Attempting to fit SARIMA((2, 0, 0) by (0, 1, 3, 52)) model.\n",
      "The AIC for this model is: 844.2049314917526\n",
      "Attempting to fit SARIMA((2, 0, 0) by (1, 0, 0, 52)) model.\n",
      "The AIC for this model is: 1117.8855499712088\n",
      "Attempting to fit SARIMA((2, 0, 0) by (1, 0, 1, 52)) model.\n",
      "The AIC for this model is: 1092.7329734088728\n",
      "Attempting to fit SARIMA((2, 0, 0) by (1, 0, 2, 52)) model.\n",
      "The AIC for this model is: 1092.1533002054975\n",
      "Attempting to fit SARIMA((2, 0, 0) by (1, 0, 3, 52)) model.\n"
     ]
    },
    {
     "name": "stderr",
     "output_type": "stream",
     "text": [
      "C:\\Users\\lafka\\anaconda3\\lib\\site-packages\\statsmodels\\base\\model.py:568: ConvergenceWarning: Maximum Likelihood optimization failed to converge. Check mle_retvals\n",
      "  \"Check mle_retvals\", ConvergenceWarning)\n"
     ]
    },
    {
     "name": "stdout",
     "output_type": "stream",
     "text": [
      "The AIC for this model is: 1085.9852230008073\n",
      "Attempting to fit SARIMA((2, 0, 0) by (1, 1, 0, 52)) model.\n",
      "The AIC for this model is: 880.344064656323\n",
      "Attempting to fit SARIMA((2, 0, 0) by (1, 1, 1, 52)) model.\n",
      "The AIC for this model is: 851.0913775645325\n",
      "Attempting to fit SARIMA((2, 0, 0) by (1, 1, 2, 52)) model.\n",
      "The AIC for this model is: 853.867007839058\n",
      "Attempting to fit SARIMA((2, 0, 0) by (1, 1, 3, 52)) model.\n"
     ]
    },
    {
     "name": "stderr",
     "output_type": "stream",
     "text": [
      "C:\\Users\\lafka\\anaconda3\\lib\\site-packages\\statsmodels\\base\\model.py:568: ConvergenceWarning: Maximum Likelihood optimization failed to converge. Check mle_retvals\n",
      "  \"Check mle_retvals\", ConvergenceWarning)\n"
     ]
    },
    {
     "name": "stdout",
     "output_type": "stream",
     "text": [
      "The AIC for this model is: 844.2535356318633\n",
      "Attempting to fit SARIMA((2, 0, 0) by (2, 0, 0, 52)) model.\n",
      "The AIC for this model is: 1109.0021707077537\n",
      "Attempting to fit SARIMA((2, 0, 0) by (2, 0, 1, 52)) model.\n",
      "The AIC for this model is: 1093.1395736260438\n",
      "Attempting to fit SARIMA((2, 0, 0) by (2, 0, 2, 52)) model.\n"
     ]
    },
    {
     "name": "stderr",
     "output_type": "stream",
     "text": [
      "C:\\Users\\lafka\\anaconda3\\lib\\site-packages\\statsmodels\\base\\model.py:568: ConvergenceWarning: Maximum Likelihood optimization failed to converge. Check mle_retvals\n",
      "  \"Check mle_retvals\", ConvergenceWarning)\n"
     ]
    },
    {
     "name": "stdout",
     "output_type": "stream",
     "text": [
      "The AIC for this model is: 1095.9698341186163\n",
      "Attempting to fit SARIMA((2, 0, 0) by (2, 0, 3, 52)) model.\n",
      "The AIC for this model is: 1086.8568738920774\n",
      "Attempting to fit SARIMA((2, 0, 0) by (2, 1, 0, 52)) model.\n",
      "The AIC for this model is: 841.5438042555272\n",
      "Attempting to fit SARIMA((2, 0, 0) by (2, 1, 1, 52)) model.\n",
      "The AIC for this model is: 842.1504209795517\n",
      "Attempting to fit SARIMA((2, 0, 0) by (2, 1, 2, 52)) model.\n"
     ]
    },
    {
     "name": "stderr",
     "output_type": "stream",
     "text": [
      "C:\\Users\\lafka\\anaconda3\\lib\\site-packages\\statsmodels\\base\\model.py:568: ConvergenceWarning: Maximum Likelihood optimization failed to converge. Check mle_retvals\n",
      "  \"Check mle_retvals\", ConvergenceWarning)\n"
     ]
    },
    {
     "name": "stdout",
     "output_type": "stream",
     "text": [
      "The AIC for this model is: 844.0037679790835\n",
      "Attempting to fit SARIMA((2, 0, 0) by (2, 1, 3, 52)) model.\n"
     ]
    },
    {
     "name": "stderr",
     "output_type": "stream",
     "text": [
      "C:\\Users\\lafka\\anaconda3\\lib\\site-packages\\statsmodels\\base\\model.py:568: ConvergenceWarning: Maximum Likelihood optimization failed to converge. Check mle_retvals\n",
      "  \"Check mle_retvals\", ConvergenceWarning)\n"
     ]
    },
    {
     "name": "stdout",
     "output_type": "stream",
     "text": [
      "The AIC for this model is: 846.2420821890234\n",
      "Attempting to fit SARIMA((2, 0, 0) by (3, 0, 0, 52)) model.\n",
      "The AIC for this model is: 1084.9089526309913\n",
      "Attempting to fit SARIMA((2, 0, 0) by (3, 0, 1, 52)) model.\n"
     ]
    },
    {
     "name": "stderr",
     "output_type": "stream",
     "text": [
      "C:\\Users\\lafka\\anaconda3\\lib\\site-packages\\statsmodels\\base\\model.py:568: ConvergenceWarning: Maximum Likelihood optimization failed to converge. Check mle_retvals\n",
      "  \"Check mle_retvals\", ConvergenceWarning)\n"
     ]
    },
    {
     "name": "stdout",
     "output_type": "stream",
     "text": [
      "The AIC for this model is: 1085.107617180869\n",
      "Attempting to fit SARIMA((2, 0, 0) by (3, 0, 2, 52)) model.\n"
     ]
    },
    {
     "name": "stderr",
     "output_type": "stream",
     "text": [
      "C:\\Users\\lafka\\anaconda3\\lib\\site-packages\\statsmodels\\base\\model.py:568: ConvergenceWarning: Maximum Likelihood optimization failed to converge. Check mle_retvals\n",
      "  \"Check mle_retvals\", ConvergenceWarning)\n"
     ]
    },
    {
     "name": "stdout",
     "output_type": "stream",
     "text": [
      "The AIC for this model is: 1086.7857127622121\n",
      "Attempting to fit SARIMA((2, 0, 0) by (3, 0, 3, 52)) model.\n",
      "The AIC for this model is: 1089.4132530773231\n",
      "Attempting to fit SARIMA((2, 0, 0) by (3, 1, 0, 52)) model.\n",
      "The AIC for this model is: 842.0612698898292\n",
      "Attempting to fit SARIMA((2, 0, 0) by (3, 1, 1, 52)) model.\n"
     ]
    },
    {
     "name": "stderr",
     "output_type": "stream",
     "text": [
      "C:\\Users\\lafka\\anaconda3\\lib\\site-packages\\statsmodels\\base\\model.py:568: ConvergenceWarning: Maximum Likelihood optimization failed to converge. Check mle_retvals\n",
      "  \"Check mle_retvals\", ConvergenceWarning)\n"
     ]
    },
    {
     "name": "stdout",
     "output_type": "stream",
     "text": [
      "The AIC for this model is: 844.0020526700098\n",
      "Attempting to fit SARIMA((2, 0, 0) by (3, 1, 2, 52)) model.\n"
     ]
    },
    {
     "name": "stderr",
     "output_type": "stream",
     "text": [
      "C:\\Users\\lafka\\anaconda3\\lib\\site-packages\\statsmodels\\base\\model.py:568: ConvergenceWarning: Maximum Likelihood optimization failed to converge. Check mle_retvals\n",
      "  \"Check mle_retvals\", ConvergenceWarning)\n"
     ]
    },
    {
     "name": "stdout",
     "output_type": "stream",
     "text": [
      "The AIC for this model is: 845.997009171431\n",
      "Attempting to fit SARIMA((2, 0, 0) by (3, 1, 3, 52)) model.\n"
     ]
    },
    {
     "name": "stderr",
     "output_type": "stream",
     "text": [
      "C:\\Users\\lafka\\anaconda3\\lib\\site-packages\\statsmodels\\base\\model.py:568: ConvergenceWarning: Maximum Likelihood optimization failed to converge. Check mle_retvals\n",
      "  \"Check mle_retvals\", ConvergenceWarning)\n"
     ]
    },
    {
     "name": "stdout",
     "output_type": "stream",
     "text": [
      "The AIC for this model is: 848.1146099095872\n",
      "Attempting to fit SARIMA((2, 1, 0) by (0, 0, 0, 52)) model.\n",
      "The AIC for this model is: 1129.2612740919676\n",
      "Attempting to fit SARIMA((2, 1, 0) by (0, 0, 1, 52)) model.\n",
      "The AIC for this model is: 1105.4330256743576\n",
      "Attempting to fit SARIMA((2, 1, 0) by (0, 0, 2, 52)) model.\n",
      "The AIC for this model is: 1101.3191501156975\n",
      "Attempting to fit SARIMA((2, 1, 0) by (0, 0, 3, 52)) model.\n"
     ]
    },
    {
     "name": "stderr",
     "output_type": "stream",
     "text": [
      "C:\\Users\\lafka\\anaconda3\\lib\\site-packages\\statsmodels\\base\\model.py:568: ConvergenceWarning: Maximum Likelihood optimization failed to converge. Check mle_retvals\n",
      "  \"Check mle_retvals\", ConvergenceWarning)\n"
     ]
    },
    {
     "name": "stdout",
     "output_type": "stream",
     "text": [
      "The AIC for this model is: 1076.0546824677442\n",
      "Attempting to fit SARIMA((2, 1, 0) by (0, 1, 0, 52)) model.\n",
      "The AIC for this model is: 913.678814758855\n",
      "Attempting to fit SARIMA((2, 1, 0) by (0, 1, 1, 52)) model.\n",
      "The AIC for this model is: 846.4345278484795\n",
      "Attempting to fit SARIMA((2, 1, 0) by (0, 1, 2, 52)) model.\n",
      "The AIC for this model is: 845.9014370615323\n",
      "Attempting to fit SARIMA((2, 1, 0) by (0, 1, 3, 52)) model.\n",
      "The AIC for this model is: 840.1499668758033\n",
      "Attempting to fit SARIMA((2, 1, 0) by (1, 0, 0, 52)) model.\n",
      "The AIC for this model is: 1096.4096382965836\n",
      "Attempting to fit SARIMA((2, 1, 0) by (1, 0, 1, 52)) model.\n",
      "The AIC for this model is: 1074.195002002505\n",
      "Attempting to fit SARIMA((2, 1, 0) by (1, 0, 2, 52)) model.\n",
      "The AIC for this model is: 1074.8906783575426\n",
      "Attempting to fit SARIMA((2, 1, 0) by (1, 0, 3, 52)) model.\n",
      "The AIC for this model is: 1070.0497953745962\n",
      "Attempting to fit SARIMA((2, 1, 0) by (1, 1, 0, 52)) model.\n",
      "The AIC for this model is: 874.3893992131067\n",
      "Attempting to fit SARIMA((2, 1, 0) by (1, 1, 1, 52)) model.\n",
      "The AIC for this model is: 846.8506203685297\n",
      "Attempting to fit SARIMA((2, 1, 0) by (1, 1, 2, 52)) model.\n",
      "The AIC for this model is: 849.5336441391635\n",
      "Attempting to fit SARIMA((2, 1, 0) by (1, 1, 3, 52)) model.\n"
     ]
    },
    {
     "name": "stderr",
     "output_type": "stream",
     "text": [
      "C:\\Users\\lafka\\anaconda3\\lib\\site-packages\\statsmodels\\base\\model.py:568: ConvergenceWarning: Maximum Likelihood optimization failed to converge. Check mle_retvals\n",
      "  \"Check mle_retvals\", ConvergenceWarning)\n"
     ]
    },
    {
     "name": "stdout",
     "output_type": "stream",
     "text": [
      "The AIC for this model is: 840.3851228739109\n",
      "Attempting to fit SARIMA((2, 1, 0) by (2, 0, 0, 52)) model.\n",
      "The AIC for this model is: 1088.3492281806934\n",
      "Attempting to fit SARIMA((2, 1, 0) by (2, 0, 1, 52)) model.\n",
      "The AIC for this model is: 1075.311637435917\n",
      "Attempting to fit SARIMA((2, 1, 0) by (2, 0, 2, 52)) model.\n"
     ]
    },
    {
     "name": "stderr",
     "output_type": "stream",
     "text": [
      "C:\\Users\\lafka\\anaconda3\\lib\\site-packages\\statsmodels\\base\\model.py:568: ConvergenceWarning: Maximum Likelihood optimization failed to converge. Check mle_retvals\n",
      "  \"Check mle_retvals\", ConvergenceWarning)\n"
     ]
    },
    {
     "name": "stdout",
     "output_type": "stream",
     "text": [
      "The AIC for this model is: 1077.2475120244749\n",
      "Attempting to fit SARIMA((2, 1, 0) by (2, 0, 3, 52)) model.\n"
     ]
    },
    {
     "name": "stderr",
     "output_type": "stream",
     "text": [
      "C:\\Users\\lafka\\anaconda3\\lib\\site-packages\\statsmodels\\base\\model.py:568: ConvergenceWarning: Maximum Likelihood optimization failed to converge. Check mle_retvals\n",
      "  \"Check mle_retvals\", ConvergenceWarning)\n"
     ]
    },
    {
     "name": "stdout",
     "output_type": "stream",
     "text": [
      "The AIC for this model is: 1071.645113725056\n",
      "Attempting to fit SARIMA((2, 1, 0) by (2, 1, 0, 52)) model.\n",
      "The AIC for this model is: 838.3870542239024\n",
      "Attempting to fit SARIMA((2, 1, 0) by (2, 1, 1, 52)) model.\n",
      "The AIC for this model is: 838.2549908456033\n",
      "Attempting to fit SARIMA((2, 1, 0) by (2, 1, 2, 52)) model.\n",
      "The AIC for this model is: 840.2549868168626\n",
      "Attempting to fit SARIMA((2, 1, 0) by (2, 1, 3, 52)) model.\n"
     ]
    },
    {
     "name": "stderr",
     "output_type": "stream",
     "text": [
      "C:\\Users\\lafka\\anaconda3\\lib\\site-packages\\statsmodels\\base\\model.py:568: ConvergenceWarning: Maximum Likelihood optimization failed to converge. Check mle_retvals\n",
      "  \"Check mle_retvals\", ConvergenceWarning)\n"
     ]
    },
    {
     "name": "stdout",
     "output_type": "stream",
     "text": [
      "The AIC for this model is: 842.3389704730318\n",
      "Attempting to fit SARIMA((2, 1, 0) by (3, 0, 0, 52)) model.\n",
      "The AIC for this model is: 1068.7969217252867\n",
      "Attempting to fit SARIMA((2, 1, 0) by (3, 0, 1, 52)) model.\n"
     ]
    },
    {
     "name": "stderr",
     "output_type": "stream",
     "text": [
      "C:\\Users\\lafka\\anaconda3\\lib\\site-packages\\statsmodels\\base\\model.py:568: ConvergenceWarning: Maximum Likelihood optimization failed to converge. Check mle_retvals\n",
      "  \"Check mle_retvals\", ConvergenceWarning)\n"
     ]
    },
    {
     "name": "stdout",
     "output_type": "stream",
     "text": [
      "The AIC for this model is: 1069.5257404504946\n",
      "Attempting to fit SARIMA((2, 1, 0) by (3, 0, 2, 52)) model.\n",
      "The AIC for this model is: 1071.5179186569992\n",
      "Attempting to fit SARIMA((2, 1, 0) by (3, 0, 3, 52)) model.\n",
      "The AIC for this model is: 1073.517924299179\n",
      "Attempting to fit SARIMA((2, 1, 0) by (3, 1, 0, 52)) model.\n",
      "The AIC for this model is: 838.2550123295345\n",
      "Attempting to fit SARIMA((2, 1, 0) by (3, 1, 1, 52)) model.\n",
      "The AIC for this model is: 840.2550148905992\n",
      "Attempting to fit SARIMA((2, 1, 0) by (3, 1, 2, 52)) model.\n",
      "The AIC for this model is: 842.2549822459227\n",
      "Attempting to fit SARIMA((2, 1, 0) by (3, 1, 3, 52)) model.\n",
      "The AIC for this model is: 844.2549638299665\n",
      "Attempting to fit SARIMA((2, 0, 1) by (0, 0, 0, 52)) model.\n",
      "The AIC for this model is: 1150.8851978188395\n",
      "Attempting to fit SARIMA((2, 0, 1) by (0, 0, 1, 52)) model.\n",
      "The AIC for this model is: 1125.1064749203924\n",
      "Attempting to fit SARIMA((2, 0, 1) by (0, 0, 2, 52)) model.\n",
      "The AIC for this model is: 1121.3583702042404\n",
      "Attempting to fit SARIMA((2, 0, 1) by (0, 0, 3, 52)) model.\n"
     ]
    },
    {
     "name": "stderr",
     "output_type": "stream",
     "text": [
      "C:\\Users\\lafka\\anaconda3\\lib\\site-packages\\statsmodels\\base\\model.py:568: ConvergenceWarning: Maximum Likelihood optimization failed to converge. Check mle_retvals\n",
      "  \"Check mle_retvals\", ConvergenceWarning)\n"
     ]
    },
    {
     "name": "stdout",
     "output_type": "stream",
     "text": [
      "The AIC for this model is: 1093.0957664915911\n",
      "Attempting to fit SARIMA((2, 0, 1) by (0, 1, 0, 52)) model.\n",
      "The AIC for this model is: 920.8117027740386\n",
      "Attempting to fit SARIMA((2, 0, 1) by (0, 1, 1, 52)) model.\n",
      "The AIC for this model is: 851.0620281359913\n",
      "Attempting to fit SARIMA((2, 0, 1) by (0, 1, 2, 52)) model.\n",
      "The AIC for this model is: 849.9602342177607\n",
      "Attempting to fit SARIMA((2, 0, 1) by (0, 1, 3, 52)) model.\n",
      "The AIC for this model is: 844.3156281698273\n",
      "Attempting to fit SARIMA((2, 0, 1) by (1, 0, 0, 52)) model.\n",
      "The AIC for this model is: 1115.8708352634496\n",
      "Attempting to fit SARIMA((2, 0, 1) by (1, 0, 1, 52)) model.\n",
      "The AIC for this model is: 1090.6336149818972\n",
      "Attempting to fit SARIMA((2, 0, 1) by (1, 0, 2, 52)) model.\n"
     ]
    },
    {
     "name": "stderr",
     "output_type": "stream",
     "text": [
      "C:\\Users\\lafka\\anaconda3\\lib\\site-packages\\statsmodels\\base\\model.py:568: ConvergenceWarning: Maximum Likelihood optimization failed to converge. Check mle_retvals\n",
      "  \"Check mle_retvals\", ConvergenceWarning)\n"
     ]
    },
    {
     "name": "stdout",
     "output_type": "stream",
     "text": [
      "The AIC for this model is: 1090.2861420163113\n",
      "Attempting to fit SARIMA((2, 0, 1) by (1, 0, 3, 52)) model.\n"
     ]
    },
    {
     "name": "stderr",
     "output_type": "stream",
     "text": [
      "C:\\Users\\lafka\\anaconda3\\lib\\site-packages\\statsmodels\\base\\model.py:568: ConvergenceWarning: Maximum Likelihood optimization failed to converge. Check mle_retvals\n",
      "  \"Check mle_retvals\", ConvergenceWarning)\n"
     ]
    },
    {
     "name": "stdout",
     "output_type": "stream",
     "text": [
      "The AIC for this model is: 1085.1044992275747\n",
      "Attempting to fit SARIMA((2, 0, 1) by (1, 1, 0, 52)) model.\n",
      "The AIC for this model is: 880.6751921017395\n",
      "Attempting to fit SARIMA((2, 0, 1) by (1, 1, 1, 52)) model.\n",
      "The AIC for this model is: 851.0832381436904\n",
      "Attempting to fit SARIMA((2, 0, 1) by (1, 1, 2, 52)) model.\n",
      "The AIC for this model is: 853.9089719818941\n",
      "Attempting to fit SARIMA((2, 0, 1) by (1, 1, 3, 52)) model.\n"
     ]
    },
    {
     "name": "stderr",
     "output_type": "stream",
     "text": [
      "C:\\Users\\lafka\\anaconda3\\lib\\site-packages\\statsmodels\\base\\model.py:568: ConvergenceWarning: Maximum Likelihood optimization failed to converge. Check mle_retvals\n",
      "  \"Check mle_retvals\", ConvergenceWarning)\n"
     ]
    },
    {
     "name": "stdout",
     "output_type": "stream",
     "text": [
      "The AIC for this model is: 844.597266950488\n",
      "Attempting to fit SARIMA((2, 0, 1) by (2, 0, 0, 52)) model.\n"
     ]
    },
    {
     "name": "stderr",
     "output_type": "stream",
     "text": [
      "C:\\Users\\lafka\\anaconda3\\lib\\site-packages\\statsmodels\\base\\model.py:568: ConvergenceWarning: Maximum Likelihood optimization failed to converge. Check mle_retvals\n",
      "  \"Check mle_retvals\", ConvergenceWarning)\n"
     ]
    },
    {
     "name": "stdout",
     "output_type": "stream",
     "text": [
      "The AIC for this model is: 1107.2571041561898\n",
      "Attempting to fit SARIMA((2, 0, 1) by (2, 0, 1, 52)) model.\n",
      "The AIC for this model is: 1093.9288411915413\n",
      "Attempting to fit SARIMA((2, 0, 1) by (2, 0, 2, 52)) model.\n"
     ]
    },
    {
     "name": "stderr",
     "output_type": "stream",
     "text": [
      "C:\\Users\\lafka\\anaconda3\\lib\\site-packages\\statsmodels\\base\\model.py:568: ConvergenceWarning: Maximum Likelihood optimization failed to converge. Check mle_retvals\n",
      "  \"Check mle_retvals\", ConvergenceWarning)\n"
     ]
    },
    {
     "name": "stdout",
     "output_type": "stream",
     "text": [
      "The AIC for this model is: 1096.0519746929795\n",
      "Attempting to fit SARIMA((2, 0, 1) by (2, 0, 3, 52)) model.\n",
      "The AIC for this model is: 1089.0784018889067\n",
      "Attempting to fit SARIMA((2, 0, 1) by (2, 1, 0, 52)) model.\n",
      "The AIC for this model is: 841.8750270390437\n",
      "Attempting to fit SARIMA((2, 0, 1) by (2, 1, 1, 52)) model.\n",
      "The AIC for this model is: 842.5175873685855\n",
      "Attempting to fit SARIMA((2, 0, 1) by (2, 1, 2, 52)) model.\n"
     ]
    }
   ],
   "source": [
    "# Starting AIC, p, and q.\n",
    "best_aic = 99 * (10 ** 16)\n",
    "best_p = 0\n",
    "best_d = 0\n",
    "best_q = 0\n",
    "best_P = 0\n",
    "best_D = 0\n",
    "best_Q = 0\n",
    "\n",
    "# Use nested for loop to iterate over values of p and q.\n",
    "for p in range(4):\n",
    "    for q in range(4):\n",
    "        for d in range(2):\n",
    "            for P in range(4):\n",
    "                for D in range(2):\n",
    "                    for Q in range(4):\n",
    "                        # Insert try and except statements.\n",
    "                        try:\n",
    "\n",
    "                            # Fitting an SARIMA(p, 1, q) model.\n",
    "                            print(f'Attempting to fit SARIMA(({p}, {d}, {q}) by ({P}, {D}, {Q}, 52)) model.')\n",
    "\n",
    "                            my_order = (p,d,q)\n",
    "                            my_seasonal_order = (P,D,Q,52)\n",
    "                            model = SARIMAX(y_train, order=my_order, seasonal_order=my_seasonal_order)\n",
    "                            \n",
    "                            # Fit ARIMA model.\n",
    "                            sarima = model.fit()\n",
    "\n",
    "                            # Print out AIC for ARIMA(p, 1, q) model.\n",
    "                            print(f'The AIC for this model is: {sarima.aic}')\n",
    "\n",
    "                            # Is my current model's AIC better than our best_aic?\n",
    "                            if sarima.aic < best_aic:\n",
    "\n",
    "                                # If so, let's overwrite best_aic, best_p, and best_q.\n",
    "                                best_aic = sarima.aic\n",
    "                                best_p = p\n",
    "                                best_q = q\n",
    "                                best_d = d\n",
    "                                best_P = P\n",
    "                                best_D = D\n",
    "                                best_Q = Q\n",
    "\n",
    "                        except:\n",
    "                            pass\n",
    "print()\n",
    "print()\n",
    "print('MODEL FINISHED!')\n",
    "print(f'Our model that minimizes AIC on the training data is the SARIMA(({p}, {d}, {q}) by ({P}, {D}, {Q}, 52)).')\n",
    "print(f'This model has an AIC of {best_aic}.')"
   ]
  },
  {
   "cell_type": "code",
   "execution_count": null,
   "metadata": {},
   "outputs": [],
   "source": [
    "Attempting to fit SARIMA((2, 1, 0) by (3, 1, 0, 52)) model.\n",
    "The AIC for this model is: 838.2550123295345\n",
    "\n",
    "Attempting to fit SARIMA((2, 1, 0) by (2, 1, 0, 52)) model.\n",
    "The AIC for this model is: 838.3870542239024\n",
    "Attempting to fit SARIMA((2, 1, 0) by (2, 1, 1, 52)) model.\n",
    "The AIC for this model is: 838.2549908456033\n",
    "\n",
    "Attempting to fit SARIMA((1, 1, 3) by (3, 1, 0, 52)) model.\"Check mle_retvals\", ConvergenceWarning)\n",
    "The AIC for this model is: 832.3726688851675\n",
    "\n",
    "Attempting to fit SARIMA((1, 1, 3) by (2, 1, 1, 52)) model.\"Check mle_retvals\", ConvergenceWarning)\n",
    "The AIC for this model is: 832.498603040137\n",
    "\n",
    "Attempting to fit SARIMA((1, 1, 3) by (2, 1, 0, 52)) model.\"Check mle_retvals\", ConvergenceWarning)\n",
    "The AIC for this model is: 831.9644478135222\n",
    "\n",
    "Attempting to fit SARIMA((1, 1, 3) by (1, 1, 3, 52)) model.\"Check mle_retvals\", ConvergenceWarning)\n",
    "The AIC for this model is: 834.8559100113689\n",
    "\n",
    "Attempting to fit SARIMA((1, 1, 3) by (0, 1, 3, 52)) model.\n",
    "ConvergenceWarning: Maximum Likelihood optimization failed to converge.  \"Check mle_retvals\"\n",
    "The AIC for this model is: 835.4916315438561\n",
    "\n",
    "Attempting to fit SARIMA((1, 1, 1) by (2, 1, 0, 52)) model.\n",
    "The AIC for this model is: 838.3254870279895\n",
    "\n",
    "The AIC for this model is: 838.3254870279895\n",
    "Attempting to fit SARIMA((1, 1, 1) by (2, 1, 1, 52)) model.\n",
    "\n",
    "Attempting to fit SARIMA((1, 1, 0) by (3, 1, 0, 52)) model.\n",
    "The AIC for this model is: 837.6850589435386\n",
    "\n",
    "The AIC for this model is: 838.8123656824907\n",
    "Attempting to fit SARIMA((0, 1, 0) by (2, 1, 1, 52)) model.\n",
    "\n",
    "The AIC for this model is: 838.3339196471561\n",
    "Attempting to fit SARIMA((0, 1, 0) by (2, 1, 2, 52)) model.\n",
    "\n",
    "The AIC for this model is: 838.3286030944861\n",
    "Attempting to fit SARIMA((0, 1, 0) by (3, 1, 1, 52)) model.\n",
    "\n",
    "\n",
    "The AIC for this model is: 838.1059947296633\n",
    "Attempting to fit SARIMA((0, 1, 1) by (2, 1, 1, 52)) model.\n",
    "\n",
    "The AIC for this model is: 838.1032952448732\n",
    "Attempting to fit SARIMA((0, 1, 1) by (2, 1, 2, 52)) model.\n",
    "\n",
    "The AIC for this model is: 838.1033189089521\n",
    "Attempting to fit SARIMA((0, 1, 1) by (3, 1, 1, 52)) model.\n",
    "\n",
    "The AIC for this model is: 838.7266964762952\n",
    "Attempting to fit SARIMA((0, 1, 2) by (2, 1, 1, 52)) model.\n",
    "\n",
    "The AIC for this model is: 838.5084531757975\n",
    "Attempting to fit SARIMA((0, 1, 2) by (3, 1, 1, 52)) model.\n",
    "\n",
    "The AIC for this model is: 838.5088759983041\n",
    "Attempting to fit SARIMA((0, 1, 2) by (2, 1, 2, 52)) model.\n",
    "\n",
    "\n",
    "The AIC for this model is: 844.5084051663814\n",
    "Attempting to fit SARIMA((0, 0, 3) by (0, 0, 0, 52)) model.\n",
    "\n",
    "The AIC for this model is: 839.979722364233\n",
    "Attempting to fit SARIMA((0, 1, 3) by (3, 1, 1, 52)) model.\n",
    "\n",
    "The AIC for this model is: 839.9796927136025\n",
    "Attempting to fit SARIMA((0, 1, 3) by (2, 1, 2, 52)) model."
   ]
  },
  {
   "cell_type": "code",
   "execution_count": 260,
   "metadata": {},
   "outputs": [
    {
     "data": {
      "text/html": [
       "<table class=\"simpletable\">\n",
       "<caption>SARIMAX Results</caption>\n",
       "<tr>\n",
       "  <th>Dep. Variable:</th>            <td>deaths_per_mil</td>          <th>  No. Observations:  </th>    <td>234</td>  \n",
       "</tr>\n",
       "<tr>\n",
       "  <th>Model:</th>           <td>SARIMAX(2, 0, 2)x(1, 1, [1], 52)</td> <th>  Log Likelihood     </th> <td>-418.111</td>\n",
       "</tr>\n",
       "<tr>\n",
       "  <th>Date:</th>                    <td>Wed, 03 Jun 2020</td>         <th>  AIC                </th>  <td>850.222</td>\n",
       "</tr>\n",
       "<tr>\n",
       "  <th>Time:</th>                        <td>18:50:10</td>             <th>  BIC                </th>  <td>872.650</td>\n",
       "</tr>\n",
       "<tr>\n",
       "  <th>Sample:</th>                          <td>0</td>                <th>  HQIC               </th>  <td>859.314</td>\n",
       "</tr>\n",
       "<tr>\n",
       "  <th></th>                              <td> - 234</td>              <th>                     </th>     <td> </td>   \n",
       "</tr>\n",
       "<tr>\n",
       "  <th>Covariance Type:</th>                <td>opg</td>               <th>                     </th>     <td> </td>   \n",
       "</tr>\n",
       "</table>\n",
       "<table class=\"simpletable\">\n",
       "<tr>\n",
       "      <td></td>        <th>coef</th>     <th>std err</th>      <th>z</th>      <th>P>|z|</th>  <th>[0.025</th>    <th>0.975]</th>  \n",
       "</tr>\n",
       "<tr>\n",
       "  <th>ar.L1</th>    <td>    0.7809</td> <td>    0.422</td> <td>    1.851</td> <td> 0.064</td> <td>   -0.046</td> <td>    1.608</td>\n",
       "</tr>\n",
       "<tr>\n",
       "  <th>ar.L2</th>    <td>    0.1292</td> <td>    0.403</td> <td>    0.320</td> <td> 0.749</td> <td>   -0.661</td> <td>    0.920</td>\n",
       "</tr>\n",
       "<tr>\n",
       "  <th>ma.L1</th>    <td>    0.1273</td> <td>    0.415</td> <td>    0.306</td> <td> 0.759</td> <td>   -0.687</td> <td>    0.941</td>\n",
       "</tr>\n",
       "<tr>\n",
       "  <th>ma.L2</th>    <td>    0.1683</td> <td>    0.082</td> <td>    2.061</td> <td> 0.039</td> <td>    0.008</td> <td>    0.328</td>\n",
       "</tr>\n",
       "<tr>\n",
       "  <th>ar.S.L52</th> <td>   -0.0956</td> <td>    0.154</td> <td>   -0.622</td> <td> 0.534</td> <td>   -0.397</td> <td>    0.206</td>\n",
       "</tr>\n",
       "<tr>\n",
       "  <th>ma.S.L52</th> <td>   -0.9975</td> <td>   53.351</td> <td>   -0.019</td> <td> 0.985</td> <td> -105.563</td> <td>  103.568</td>\n",
       "</tr>\n",
       "<tr>\n",
       "  <th>sigma2</th>   <td>    3.5808</td> <td>  190.573</td> <td>    0.019</td> <td> 0.985</td> <td> -369.935</td> <td>  377.096</td>\n",
       "</tr>\n",
       "</table>\n",
       "<table class=\"simpletable\">\n",
       "<tr>\n",
       "  <th>Ljung-Box (Q):</th>          <td>38.82</td> <th>  Jarque-Bera (JB):  </th> <td>2.04</td>\n",
       "</tr>\n",
       "<tr>\n",
       "  <th>Prob(Q):</th>                <td>0.52</td>  <th>  Prob(JB):          </th> <td>0.36</td>\n",
       "</tr>\n",
       "<tr>\n",
       "  <th>Heteroskedasticity (H):</th> <td>0.70</td>  <th>  Skew:              </th> <td>0.26</td>\n",
       "</tr>\n",
       "<tr>\n",
       "  <th>Prob(H) (two-sided):</th>    <td>0.17</td>  <th>  Kurtosis:          </th> <td>3.08</td>\n",
       "</tr>\n",
       "</table><br/><br/>Warnings:<br/>[1] Covariance matrix calculated using the outer product of gradients (complex-step)."
      ],
      "text/plain": [
       "<class 'statsmodels.iolib.summary.Summary'>\n",
       "\"\"\"\n",
       "                                      SARIMAX Results                                       \n",
       "============================================================================================\n",
       "Dep. Variable:                       deaths_per_mil   No. Observations:                  234\n",
       "Model:             SARIMAX(2, 0, 2)x(1, 1, [1], 52)   Log Likelihood                -418.111\n",
       "Date:                              Wed, 03 Jun 2020   AIC                            850.222\n",
       "Time:                                      18:50:10   BIC                            872.650\n",
       "Sample:                                           0   HQIC                           859.314\n",
       "                                              - 234                                         \n",
       "Covariance Type:                                opg                                         \n",
       "==============================================================================\n",
       "                 coef    std err          z      P>|z|      [0.025      0.975]\n",
       "------------------------------------------------------------------------------\n",
       "ar.L1          0.7809      0.422      1.851      0.064      -0.046       1.608\n",
       "ar.L2          0.1292      0.403      0.320      0.749      -0.661       0.920\n",
       "ma.L1          0.1273      0.415      0.306      0.759      -0.687       0.941\n",
       "ma.L2          0.1683      0.082      2.061      0.039       0.008       0.328\n",
       "ar.S.L52      -0.0956      0.154     -0.622      0.534      -0.397       0.206\n",
       "ma.S.L52      -0.9975     53.351     -0.019      0.985    -105.563     103.568\n",
       "sigma2         3.5808    190.573      0.019      0.985    -369.935     377.096\n",
       "===================================================================================\n",
       "Ljung-Box (Q):                       38.82   Jarque-Bera (JB):                 2.04\n",
       "Prob(Q):                              0.52   Prob(JB):                         0.36\n",
       "Heteroskedasticity (H):               0.70   Skew:                             0.26\n",
       "Prob(H) (two-sided):                  0.17   Kurtosis:                         3.08\n",
       "===================================================================================\n",
       "\n",
       "Warnings:\n",
       "[1] Covariance matrix calculated using the outer product of gradients (complex-step).\n",
       "\"\"\""
      ]
     },
     "execution_count": 260,
     "metadata": {},
     "output_type": "execute_result"
    }
   ],
   "source": [
    "my_order = (2,0,2)\n",
    "my_seasonal_order = (1, 1, 1, 52)\n",
    "# define model\n",
    "model = SARIMAX(y_train, order=my_order, seasonal_order=my_seasonal_order)\n",
    "\n",
    "sarima = model.fit()\n",
    "\n",
    "sarima.summary()"
   ]
  },
  {
   "cell_type": "code",
   "execution_count": 265,
   "metadata": {},
   "outputs": [
    {
     "name": "stdout",
     "output_type": "stream",
     "text": [
      "0\n"
     ]
    }
   ],
   "source": [
    "for i in range(1):\n",
    "    print(i)"
   ]
  },
  {
   "cell_type": "code",
   "execution_count": 261,
   "metadata": {},
   "outputs": [],
   "source": [
    "\n",
    "#get the predictions and residuals\n",
    "predictions = sarima.forecast(len(y_test))\n",
    "predictions = pd.Series(predictions, index=y_test.index)\n",
    "residuals = y_test - predictions"
   ]
  },
  {
   "cell_type": "code",
   "execution_count": 262,
   "metadata": {},
   "outputs": [
    {
     "data": {
      "text/plain": [
       "[<matplotlib.lines.Line2D at 0x200be4c9088>]"
      ]
     },
     "execution_count": 262,
     "metadata": {},
     "output_type": "execute_result"
    },
    {
     "data": {
      "image/png": "[encoded data removed]",
      "text/plain": [
       "<Figure size 432x288 with 1 Axes>"
      ]
     },
     "metadata": {
      "needs_background": "light"
     },
     "output_type": "display_data"
    }
   ],
   "source": [
    "\n",
    "plt.plot(us_train['deaths_per_mil'])\n",
    "plt.plot(predictions)"
   ]
  },
  {
   "cell_type": "code",
   "execution_count": 222,
   "metadata": {},
   "outputs": [
    {
     "data": {
      "text/plain": [
       "Text(0, 0.5, 'Deaths per million')"
      ]
     },
     "execution_count": 222,
     "metadata": {},
     "output_type": "execute_result"
    },
    {
     "ename": "ValueError",
     "evalue": "view limit minimum -36653.0 is less than 1 and is an invalid Matplotlib date value. This often happens if you pass a non-datetime value to an axis that has datetime units",
     "output_type": "error",
     "traceback": [
      "\u001b[1;31m---------------------------------------------------------------------------\u001b[0m",
      "\u001b[1;31mValueError\u001b[0m                                Traceback (most recent call last)",
      "\u001b[1;32m~\\anaconda3\\lib\\site-packages\\ipykernel\\pylab\\backend_inline.py\u001b[0m in \u001b[0;36mshow\u001b[1;34m(close, block)\u001b[0m\n\u001b[0;32m     41\u001b[0m             display(\n\u001b[0;32m     42\u001b[0m                 \u001b[0mfigure_manager\u001b[0m\u001b[1;33m.\u001b[0m\u001b[0mcanvas\u001b[0m\u001b[1;33m.\u001b[0m\u001b[0mfigure\u001b[0m\u001b[1;33m,\u001b[0m\u001b[1;33m\u001b[0m\u001b[1;33m\u001b[0m\u001b[0m\n\u001b[1;32m---> 43\u001b[1;33m                 \u001b[0mmetadata\u001b[0m\u001b[1;33m=\u001b[0m\u001b[0m_fetch_figure_metadata\u001b[0m\u001b[1;33m(\u001b[0m\u001b[0mfigure_manager\u001b[0m\u001b[1;33m.\u001b[0m\u001b[0mcanvas\u001b[0m\u001b[1;33m.\u001b[0m\u001b[0mfigure\u001b[0m\u001b[1;33m)\u001b[0m\u001b[1;33m\u001b[0m\u001b[1;33m\u001b[0m\u001b[0m\n\u001b[0m\u001b[0;32m     44\u001b[0m             )\n\u001b[0;32m     45\u001b[0m     \u001b[1;32mfinally\u001b[0m\u001b[1;33m:\u001b[0m\u001b[1;33m\u001b[0m\u001b[1;33m\u001b[0m\u001b[0m\n",
      "\u001b[1;32m~\\anaconda3\\lib\\site-packages\\ipykernel\\pylab\\backend_inline.py\u001b[0m in \u001b[0;36m_fetch_figure_metadata\u001b[1;34m(fig)\u001b[0m\n\u001b[0;32m    179\u001b[0m         \u001b[1;31m# the background is transparent\u001b[0m\u001b[1;33m\u001b[0m\u001b[1;33m\u001b[0m\u001b[1;33m\u001b[0m\u001b[0m\n\u001b[0;32m    180\u001b[0m         ticksLight = _is_light([label.get_color()\n\u001b[1;32m--> 181\u001b[1;33m                                 \u001b[1;32mfor\u001b[0m \u001b[0maxes\u001b[0m \u001b[1;32min\u001b[0m \u001b[0mfig\u001b[0m\u001b[1;33m.\u001b[0m\u001b[0maxes\u001b[0m\u001b[1;33m\u001b[0m\u001b[1;33m\u001b[0m\u001b[0m\n\u001b[0m\u001b[0;32m    182\u001b[0m                                 \u001b[1;32mfor\u001b[0m \u001b[0maxis\u001b[0m \u001b[1;32min\u001b[0m \u001b[1;33m(\u001b[0m\u001b[0maxes\u001b[0m\u001b[1;33m.\u001b[0m\u001b[0mxaxis\u001b[0m\u001b[1;33m,\u001b[0m \u001b[0maxes\u001b[0m\u001b[1;33m.\u001b[0m\u001b[0myaxis\u001b[0m\u001b[1;33m)\u001b[0m\u001b[1;33m\u001b[0m\u001b[1;33m\u001b[0m\u001b[0m\n\u001b[0;32m    183\u001b[0m                                 for label in axis.get_ticklabels()])\n",
      "\u001b[1;32m~\\anaconda3\\lib\\site-packages\\ipykernel\\pylab\\backend_inline.py\u001b[0m in \u001b[0;36m<listcomp>\u001b[1;34m(.0)\u001b[0m\n\u001b[0;32m    181\u001b[0m                                 \u001b[1;32mfor\u001b[0m \u001b[0maxes\u001b[0m \u001b[1;32min\u001b[0m \u001b[0mfig\u001b[0m\u001b[1;33m.\u001b[0m\u001b[0maxes\u001b[0m\u001b[1;33m\u001b[0m\u001b[1;33m\u001b[0m\u001b[0m\n\u001b[0;32m    182\u001b[0m                                 \u001b[1;32mfor\u001b[0m \u001b[0maxis\u001b[0m \u001b[1;32min\u001b[0m \u001b[1;33m(\u001b[0m\u001b[0maxes\u001b[0m\u001b[1;33m.\u001b[0m\u001b[0mxaxis\u001b[0m\u001b[1;33m,\u001b[0m \u001b[0maxes\u001b[0m\u001b[1;33m.\u001b[0m\u001b[0myaxis\u001b[0m\u001b[1;33m)\u001b[0m\u001b[1;33m\u001b[0m\u001b[1;33m\u001b[0m\u001b[0m\n\u001b[1;32m--> 183\u001b[1;33m                                 for label in axis.get_ticklabels()])\n\u001b[0m\u001b[0;32m    184\u001b[0m         \u001b[1;32mif\u001b[0m \u001b[0mticksLight\u001b[0m\u001b[1;33m.\u001b[0m\u001b[0msize\u001b[0m \u001b[1;32mand\u001b[0m \u001b[1;33m(\u001b[0m\u001b[0mticksLight\u001b[0m \u001b[1;33m==\u001b[0m \u001b[0mticksLight\u001b[0m\u001b[1;33m[\u001b[0m\u001b[1;36m0\u001b[0m\u001b[1;33m]\u001b[0m\u001b[1;33m)\u001b[0m\u001b[1;33m.\u001b[0m\u001b[0mall\u001b[0m\u001b[1;33m(\u001b[0m\u001b[1;33m)\u001b[0m\u001b[1;33m:\u001b[0m\u001b[1;33m\u001b[0m\u001b[1;33m\u001b[0m\u001b[0m\n\u001b[0;32m    185\u001b[0m             \u001b[1;31m# there are one or more tick labels, all with the same lightness\u001b[0m\u001b[1;33m\u001b[0m\u001b[1;33m\u001b[0m\u001b[1;33m\u001b[0m\u001b[0m\n",
      "\u001b[1;32m~\\AppData\\Roaming\\Python\\Python37\\site-packages\\matplotlib\\axis.py\u001b[0m in \u001b[0;36mget_ticklabels\u001b[1;34m(self, minor, which)\u001b[0m\n\u001b[0;32m   1318\u001b[0m         \u001b[1;32mif\u001b[0m \u001b[0mminor\u001b[0m\u001b[1;33m:\u001b[0m\u001b[1;33m\u001b[0m\u001b[1;33m\u001b[0m\u001b[0m\n\u001b[0;32m   1319\u001b[0m             \u001b[1;32mreturn\u001b[0m \u001b[0mself\u001b[0m\u001b[1;33m.\u001b[0m\u001b[0mget_minorticklabels\u001b[0m\u001b[1;33m(\u001b[0m\u001b[1;33m)\u001b[0m\u001b[1;33m\u001b[0m\u001b[1;33m\u001b[0m\u001b[0m\n\u001b[1;32m-> 1320\u001b[1;33m         \u001b[1;32mreturn\u001b[0m \u001b[0mself\u001b[0m\u001b[1;33m.\u001b[0m\u001b[0mget_majorticklabels\u001b[0m\u001b[1;33m(\u001b[0m\u001b[1;33m)\u001b[0m\u001b[1;33m\u001b[0m\u001b[1;33m\u001b[0m\u001b[0m\n\u001b[0m\u001b[0;32m   1321\u001b[0m \u001b[1;33m\u001b[0m\u001b[0m\n\u001b[0;32m   1322\u001b[0m     \u001b[1;32mdef\u001b[0m \u001b[0mget_majorticklines\u001b[0m\u001b[1;33m(\u001b[0m\u001b[0mself\u001b[0m\u001b[1;33m)\u001b[0m\u001b[1;33m:\u001b[0m\u001b[1;33m\u001b[0m\u001b[1;33m\u001b[0m\u001b[0m\n",
      "\u001b[1;32m~\\AppData\\Roaming\\Python\\Python37\\site-packages\\matplotlib\\axis.py\u001b[0m in \u001b[0;36mget_majorticklabels\u001b[1;34m(self)\u001b[0m\n\u001b[0;32m   1274\u001b[0m     \u001b[1;32mdef\u001b[0m \u001b[0mget_majorticklabels\u001b[0m\u001b[1;33m(\u001b[0m\u001b[0mself\u001b[0m\u001b[1;33m)\u001b[0m\u001b[1;33m:\u001b[0m\u001b[1;33m\u001b[0m\u001b[1;33m\u001b[0m\u001b[0m\n\u001b[0;32m   1275\u001b[0m         \u001b[1;34m'Return a list of Text instances for the major ticklabels.'\u001b[0m\u001b[1;33m\u001b[0m\u001b[1;33m\u001b[0m\u001b[0m\n\u001b[1;32m-> 1276\u001b[1;33m         \u001b[0mticks\u001b[0m \u001b[1;33m=\u001b[0m \u001b[0mself\u001b[0m\u001b[1;33m.\u001b[0m\u001b[0mget_major_ticks\u001b[0m\u001b[1;33m(\u001b[0m\u001b[1;33m)\u001b[0m\u001b[1;33m\u001b[0m\u001b[1;33m\u001b[0m\u001b[0m\n\u001b[0m\u001b[0;32m   1277\u001b[0m         \u001b[0mlabels1\u001b[0m \u001b[1;33m=\u001b[0m \u001b[1;33m[\u001b[0m\u001b[0mtick\u001b[0m\u001b[1;33m.\u001b[0m\u001b[0mlabel1\u001b[0m \u001b[1;32mfor\u001b[0m \u001b[0mtick\u001b[0m \u001b[1;32min\u001b[0m \u001b[0mticks\u001b[0m \u001b[1;32mif\u001b[0m \u001b[0mtick\u001b[0m\u001b[1;33m.\u001b[0m\u001b[0mlabel1\u001b[0m\u001b[1;33m.\u001b[0m\u001b[0mget_visible\u001b[0m\u001b[1;33m(\u001b[0m\u001b[1;33m)\u001b[0m\u001b[1;33m]\u001b[0m\u001b[1;33m\u001b[0m\u001b[1;33m\u001b[0m\u001b[0m\n\u001b[0;32m   1278\u001b[0m         \u001b[0mlabels2\u001b[0m \u001b[1;33m=\u001b[0m \u001b[1;33m[\u001b[0m\u001b[0mtick\u001b[0m\u001b[1;33m.\u001b[0m\u001b[0mlabel2\u001b[0m \u001b[1;32mfor\u001b[0m \u001b[0mtick\u001b[0m \u001b[1;32min\u001b[0m \u001b[0mticks\u001b[0m \u001b[1;32mif\u001b[0m \u001b[0mtick\u001b[0m\u001b[1;33m.\u001b[0m\u001b[0mlabel2\u001b[0m\u001b[1;33m.\u001b[0m\u001b[0mget_visible\u001b[0m\u001b[1;33m(\u001b[0m\u001b[1;33m)\u001b[0m\u001b[1;33m]\u001b[0m\u001b[1;33m\u001b[0m\u001b[1;33m\u001b[0m\u001b[0m\n",
      "\u001b[1;32m~\\AppData\\Roaming\\Python\\Python37\\site-packages\\matplotlib\\axis.py\u001b[0m in \u001b[0;36mget_major_ticks\u001b[1;34m(self, numticks)\u001b[0m\n\u001b[0;32m   1429\u001b[0m         \u001b[1;34m'Get the tick instances; grow as necessary.'\u001b[0m\u001b[1;33m\u001b[0m\u001b[1;33m\u001b[0m\u001b[0m\n\u001b[0;32m   1430\u001b[0m         \u001b[1;32mif\u001b[0m \u001b[0mnumticks\u001b[0m \u001b[1;32mis\u001b[0m \u001b[1;32mNone\u001b[0m\u001b[1;33m:\u001b[0m\u001b[1;33m\u001b[0m\u001b[1;33m\u001b[0m\u001b[0m\n\u001b[1;32m-> 1431\u001b[1;33m             \u001b[0mnumticks\u001b[0m \u001b[1;33m=\u001b[0m \u001b[0mlen\u001b[0m\u001b[1;33m(\u001b[0m\u001b[0mself\u001b[0m\u001b[1;33m.\u001b[0m\u001b[0mget_majorticklocs\u001b[0m\u001b[1;33m(\u001b[0m\u001b[1;33m)\u001b[0m\u001b[1;33m)\u001b[0m\u001b[1;33m\u001b[0m\u001b[1;33m\u001b[0m\u001b[0m\n\u001b[0m\u001b[0;32m   1432\u001b[0m \u001b[1;33m\u001b[0m\u001b[0m\n\u001b[0;32m   1433\u001b[0m         \u001b[1;32mwhile\u001b[0m \u001b[0mlen\u001b[0m\u001b[1;33m(\u001b[0m\u001b[0mself\u001b[0m\u001b[1;33m.\u001b[0m\u001b[0mmajorTicks\u001b[0m\u001b[1;33m)\u001b[0m \u001b[1;33m<\u001b[0m \u001b[0mnumticks\u001b[0m\u001b[1;33m:\u001b[0m\u001b[1;33m\u001b[0m\u001b[1;33m\u001b[0m\u001b[0m\n",
      "\u001b[1;32m~\\AppData\\Roaming\\Python\\Python37\\site-packages\\matplotlib\\axis.py\u001b[0m in \u001b[0;36mget_majorticklocs\u001b[1;34m(self)\u001b[0m\n\u001b[0;32m   1346\u001b[0m     \u001b[1;32mdef\u001b[0m \u001b[0mget_majorticklocs\u001b[0m\u001b[1;33m(\u001b[0m\u001b[0mself\u001b[0m\u001b[1;33m)\u001b[0m\u001b[1;33m:\u001b[0m\u001b[1;33m\u001b[0m\u001b[1;33m\u001b[0m\u001b[0m\n\u001b[0;32m   1347\u001b[0m         \u001b[1;34m\"\"\"Get the array of major tick locations in data coordinates.\"\"\"\u001b[0m\u001b[1;33m\u001b[0m\u001b[1;33m\u001b[0m\u001b[0m\n\u001b[1;32m-> 1348\u001b[1;33m         \u001b[1;32mreturn\u001b[0m \u001b[0mself\u001b[0m\u001b[1;33m.\u001b[0m\u001b[0mmajor\u001b[0m\u001b[1;33m.\u001b[0m\u001b[0mlocator\u001b[0m\u001b[1;33m(\u001b[0m\u001b[1;33m)\u001b[0m\u001b[1;33m\u001b[0m\u001b[1;33m\u001b[0m\u001b[0m\n\u001b[0m\u001b[0;32m   1349\u001b[0m \u001b[1;33m\u001b[0m\u001b[0m\n\u001b[0;32m   1350\u001b[0m     \u001b[1;32mdef\u001b[0m \u001b[0mget_minorticklocs\u001b[0m\u001b[1;33m(\u001b[0m\u001b[0mself\u001b[0m\u001b[1;33m)\u001b[0m\u001b[1;33m:\u001b[0m\u001b[1;33m\u001b[0m\u001b[1;33m\u001b[0m\u001b[0m\n",
      "\u001b[1;32m~\\AppData\\Roaming\\Python\\Python37\\site-packages\\matplotlib\\dates.py\u001b[0m in \u001b[0;36m__call__\u001b[1;34m(self)\u001b[0m\n\u001b[0;32m   1336\u001b[0m     \u001b[1;32mdef\u001b[0m \u001b[0m__call__\u001b[0m\u001b[1;33m(\u001b[0m\u001b[0mself\u001b[0m\u001b[1;33m)\u001b[0m\u001b[1;33m:\u001b[0m\u001b[1;33m\u001b[0m\u001b[1;33m\u001b[0m\u001b[0m\n\u001b[0;32m   1337\u001b[0m         \u001b[1;34m'Return the locations of the ticks'\u001b[0m\u001b[1;33m\u001b[0m\u001b[1;33m\u001b[0m\u001b[0m\n\u001b[1;32m-> 1338\u001b[1;33m         \u001b[0mself\u001b[0m\u001b[1;33m.\u001b[0m\u001b[0mrefresh\u001b[0m\u001b[1;33m(\u001b[0m\u001b[1;33m)\u001b[0m\u001b[1;33m\u001b[0m\u001b[1;33m\u001b[0m\u001b[0m\n\u001b[0m\u001b[0;32m   1339\u001b[0m         \u001b[1;32mreturn\u001b[0m \u001b[0mself\u001b[0m\u001b[1;33m.\u001b[0m\u001b[0m_locator\u001b[0m\u001b[1;33m(\u001b[0m\u001b[1;33m)\u001b[0m\u001b[1;33m\u001b[0m\u001b[1;33m\u001b[0m\u001b[0m\n\u001b[0;32m   1340\u001b[0m \u001b[1;33m\u001b[0m\u001b[0m\n",
      "\u001b[1;32m~\\AppData\\Roaming\\Python\\Python37\\site-packages\\matplotlib\\dates.py\u001b[0m in \u001b[0;36mrefresh\u001b[1;34m(self)\u001b[0m\n\u001b[0;32m   1362\u001b[0m     \u001b[1;32mdef\u001b[0m \u001b[0mrefresh\u001b[0m\u001b[1;33m(\u001b[0m\u001b[0mself\u001b[0m\u001b[1;33m)\u001b[0m\u001b[1;33m:\u001b[0m\u001b[1;33m\u001b[0m\u001b[1;33m\u001b[0m\u001b[0m\n\u001b[0;32m   1363\u001b[0m         \u001b[1;31m# docstring inherited\u001b[0m\u001b[1;33m\u001b[0m\u001b[1;33m\u001b[0m\u001b[1;33m\u001b[0m\u001b[0m\n\u001b[1;32m-> 1364\u001b[1;33m         \u001b[0mdmin\u001b[0m\u001b[1;33m,\u001b[0m \u001b[0mdmax\u001b[0m \u001b[1;33m=\u001b[0m \u001b[0mself\u001b[0m\u001b[1;33m.\u001b[0m\u001b[0mviewlim_to_dt\u001b[0m\u001b[1;33m(\u001b[0m\u001b[1;33m)\u001b[0m\u001b[1;33m\u001b[0m\u001b[1;33m\u001b[0m\u001b[0m\n\u001b[0m\u001b[0;32m   1365\u001b[0m         \u001b[0mself\u001b[0m\u001b[1;33m.\u001b[0m\u001b[0m_locator\u001b[0m \u001b[1;33m=\u001b[0m \u001b[0mself\u001b[0m\u001b[1;33m.\u001b[0m\u001b[0mget_locator\u001b[0m\u001b[1;33m(\u001b[0m\u001b[0mdmin\u001b[0m\u001b[1;33m,\u001b[0m \u001b[0mdmax\u001b[0m\u001b[1;33m)\u001b[0m\u001b[1;33m\u001b[0m\u001b[1;33m\u001b[0m\u001b[0m\n\u001b[0;32m   1366\u001b[0m \u001b[1;33m\u001b[0m\u001b[0m\n",
      "\u001b[1;32m~\\AppData\\Roaming\\Python\\Python37\\site-packages\\matplotlib\\dates.py\u001b[0m in \u001b[0;36mviewlim_to_dt\u001b[1;34m(self)\u001b[0m\n\u001b[0;32m   1096\u001b[0m                              \u001b[1;34m'often happens if you pass a non-datetime '\u001b[0m\u001b[1;33m\u001b[0m\u001b[1;33m\u001b[0m\u001b[0m\n\u001b[0;32m   1097\u001b[0m                              \u001b[1;34m'value to an axis that has datetime units'\u001b[0m\u001b[1;33m\u001b[0m\u001b[1;33m\u001b[0m\u001b[0m\n\u001b[1;32m-> 1098\u001b[1;33m                              .format(vmin))\n\u001b[0m\u001b[0;32m   1099\u001b[0m         \u001b[1;32mreturn\u001b[0m \u001b[0mnum2date\u001b[0m\u001b[1;33m(\u001b[0m\u001b[0mvmin\u001b[0m\u001b[1;33m,\u001b[0m \u001b[0mself\u001b[0m\u001b[1;33m.\u001b[0m\u001b[0mtz\u001b[0m\u001b[1;33m)\u001b[0m\u001b[1;33m,\u001b[0m \u001b[0mnum2date\u001b[0m\u001b[1;33m(\u001b[0m\u001b[0mvmax\u001b[0m\u001b[1;33m,\u001b[0m \u001b[0mself\u001b[0m\u001b[1;33m.\u001b[0m\u001b[0mtz\u001b[0m\u001b[1;33m)\u001b[0m\u001b[1;33m\u001b[0m\u001b[1;33m\u001b[0m\u001b[0m\n\u001b[0;32m   1100\u001b[0m \u001b[1;33m\u001b[0m\u001b[0m\n",
      "\u001b[1;31mValueError\u001b[0m: view limit minimum -36653.0 is less than 1 and is an invalid Matplotlib date value. This often happens if you pass a non-datetime value to an axis that has datetime units"
     ]
    }
   ],
   "source": [
    "# start_year = us_train['start_date'][0].year\n",
    "# end_year = us_train['end_date'][us_train.shape[0]-1].year\n",
    "\n",
    "plt.figure(figsize=(10,4))\n",
    "plt.plot(us_train.set_index('end_date')['deaths_per_mil'])\n",
    "plt.plot(predictions)\n",
    "plt.title('US, pre-2020', fontsize=20)\n",
    "plt.ylabel('Deaths per million', fontsize=16)\n",
    "# for year in range(start_date.year,end_date.year):\n",
    "#     plt.axvline(pd.to_datetime(str(year)+'-01-01'), color='k', linestyle='--', alpha=0.2)"
   ]
  },
  {
   "cell_type": "markdown",
   "metadata": {
    "heading_collapsed": true
   },
   "source": [
    "# ARIMA"
   ]
  },
  {
   "cell_type": "code",
   "execution_count": 134,
   "metadata": {
    "hidden": true
   },
   "outputs": [
    {
     "data": {
      "text/plain": [
       "[<matplotlib.lines.Line2D at 0x20883739a08>]"
      ]
     },
     "execution_count": 134,
     "metadata": {},
     "output_type": "execute_result"
    },
    {
     "data": {
      "image/png": "[encoded data removed]",
      "text/plain": [
       "<Figure size 432x288 with 1 Axes>"
      ]
     },
     "metadata": {
      "needs_background": "light"
     },
     "output_type": "display_data"
    }
   ],
   "source": [
    "plt.plot(df.loc['AK',:])"
   ]
  },
  {
   "cell_type": "code",
   "execution_count": 149,
   "metadata": {
    "hidden": true
   },
   "outputs": [
    {
     "data": {
      "text/plain": [
       "Test Statistic   -3.986587\n",
       "p-value           0.001482\n",
       "dtype: float64"
      ]
     },
     "execution_count": 149,
     "metadata": {},
     "output_type": "execute_result"
    }
   ],
   "source": [
    "interpret_dftest(adfuller(df.loc['VT',:]))"
   ]
  },
  {
   "cell_type": "code",
   "execution_count": 177,
   "metadata": {
    "hidden": true
   },
   "outputs": [
    {
     "data": {
      "text/plain": [
       "Index(['AK', 'AL', 'AR', 'AZ', 'CA', 'CO', 'CT', 'DC', 'DE', 'FL', 'GA', 'HI',\n",
       "       'IA', 'ID', 'IL', 'IN', 'KS', 'KY', 'LA', 'MA', 'MD', 'ME', 'MI', 'MN',\n",
       "       'MO', 'MS', 'MT', 'NC', 'ND', 'NE', 'NH', 'NJ', 'NM', 'NV', 'NY', 'NYC',\n",
       "       'OH', 'OK', 'OR', 'PA', 'RI', 'SC', 'SD', 'TN', 'TX', 'UT', 'VA', 'VT',\n",
       "       'WA', 'WI', 'WV', 'WY'],\n",
       "      dtype='object', name='region_code')"
      ]
     },
     "execution_count": 177,
     "metadata": {},
     "output_type": "execute_result"
    }
   ],
   "source": [
    "train.index"
   ]
  },
  {
   "cell_type": "code",
   "execution_count": 190,
   "metadata": {
    "hidden": true
   },
   "outputs": [],
   "source": [
    "df_dickeys = pd.DataFrame()\n",
    "train_dickeys = pd.DataFrame()\n",
    "test_dickeys = pd.DataFrame()\n",
    "\n",
    "for state in df.index:\n",
    "    df_dickeys[state] = interpret_dftest(adfuller(df.loc[state,:].dropna()))\n",
    "    \n",
    "for state in train.index:\n",
    "    train_dickeys[state] = interpret_dftest(adfuller(train.loc[state,:].dropna()))\n",
    "    \n",
    "for state in test.index:\n",
    "    test_dickeys[state] = interpret_dftest(adfuller(test.loc[state,:].dropna()))\n",
    "    \n",
    "    "
   ]
  },
  {
   "cell_type": "code",
   "execution_count": 207,
   "metadata": {
    "hidden": true
   },
   "outputs": [
    {
     "data": {
      "text/html": [
       "<div>\n",
       "<style scoped>\n",
       "    .dataframe tbody tr th:only-of-type {\n",
       "        vertical-align: middle;\n",
       "    }\n",
       "\n",
       "    .dataframe tbody tr th {\n",
       "        vertical-align: top;\n",
       "    }\n",
       "\n",
       "    .dataframe thead th {\n",
       "        text-align: right;\n",
       "    }\n",
       "</style>\n",
       "<table border=\"1\" class=\"dataframe\">\n",
       "  <thead>\n",
       "    <tr style=\"text-align: right;\">\n",
       "      <th></th>\n",
       "      <th>Test Statistic</th>\n",
       "      <th>p-value</th>\n",
       "    </tr>\n",
       "  </thead>\n",
       "  <tbody>\n",
       "    <tr>\n",
       "      <th>AZ</th>\n",
       "      <td>-3.305209</td>\n",
       "      <td>0.014647</td>\n",
       "    </tr>\n",
       "    <tr>\n",
       "      <th>FL</th>\n",
       "      <td>-2.818836</td>\n",
       "      <td>0.055633</td>\n",
       "    </tr>\n",
       "    <tr>\n",
       "      <th>GA</th>\n",
       "      <td>-3.421682</td>\n",
       "      <td>0.010242</td>\n",
       "    </tr>\n",
       "    <tr>\n",
       "      <th>KS</th>\n",
       "      <td>-3.184181</td>\n",
       "      <td>0.020919</td>\n",
       "    </tr>\n",
       "    <tr>\n",
       "      <th>MN</th>\n",
       "      <td>-3.173855</td>\n",
       "      <td>0.021549</td>\n",
       "    </tr>\n",
       "    <tr>\n",
       "      <th>ND</th>\n",
       "      <td>-3.401563</td>\n",
       "      <td>0.010906</td>\n",
       "    </tr>\n",
       "    <tr>\n",
       "      <th>NM</th>\n",
       "      <td>-3.369659</td>\n",
       "      <td>0.012038</td>\n",
       "    </tr>\n",
       "    <tr>\n",
       "      <th>NV</th>\n",
       "      <td>-3.420847</td>\n",
       "      <td>0.010268</td>\n",
       "    </tr>\n",
       "    <tr>\n",
       "      <th>OH</th>\n",
       "      <td>-3.071547</td>\n",
       "      <td>0.028732</td>\n",
       "    </tr>\n",
       "    <tr>\n",
       "      <th>OK</th>\n",
       "      <td>-3.213938</td>\n",
       "      <td>0.019192</td>\n",
       "    </tr>\n",
       "    <tr>\n",
       "      <th>TN</th>\n",
       "      <td>-2.890752</td>\n",
       "      <td>0.046434</td>\n",
       "    </tr>\n",
       "    <tr>\n",
       "      <th>TX</th>\n",
       "      <td>-3.314551</td>\n",
       "      <td>0.014240</td>\n",
       "    </tr>\n",
       "  </tbody>\n",
       "</table>\n",
       "</div>"
      ],
      "text/plain": [
       "    Test Statistic   p-value\n",
       "AZ       -3.305209  0.014647\n",
       "FL       -2.818836  0.055633\n",
       "GA       -3.421682  0.010242\n",
       "KS       -3.184181  0.020919\n",
       "MN       -3.173855  0.021549\n",
       "ND       -3.401563  0.010906\n",
       "NM       -3.369659  0.012038\n",
       "NV       -3.420847  0.010268\n",
       "OH       -3.071547  0.028732\n",
       "OK       -3.213938  0.019192\n",
       "TN       -2.890752  0.046434\n",
       "TX       -3.314551  0.014240"
      ]
     },
     "execution_count": 207,
     "metadata": {},
     "output_type": "execute_result"
    }
   ],
   "source": [
    "train_dickeys.T[train_dickeys.T['p-value'] > 0.01]\n"
   ]
  },
  {
   "cell_type": "code",
   "execution_count": 197,
   "metadata": {
    "hidden": true
   },
   "outputs": [
    {
     "data": {
      "text/plain": [
       "Test Statistic   -2.818836\n",
       "p-value           0.055633\n",
       "Name: FL, dtype: float64"
      ]
     },
     "execution_count": 197,
     "metadata": {},
     "output_type": "execute_result"
    }
   ],
   "source": [
    "train_dickeys['FL']"
   ]
  },
  {
   "cell_type": "code",
   "execution_count": 198,
   "metadata": {
    "hidden": true
   },
   "outputs": [
    {
     "data": {
      "text/plain": [
       "[<matplotlib.lines.Line2D at 0x208858dc108>]"
      ]
     },
     "execution_count": 198,
     "metadata": {},
     "output_type": "execute_result"
    },
    {
     "data": {
      "image/png": "[encoded data removed]",
      "text/plain": [
       "<Figure size 1440x360 with 1 Axes>"
      ]
     },
     "metadata": {
      "needs_background": "light"
     },
     "output_type": "display_data"
    }
   ],
   "source": [
    "plt.figure(figsize = (20, 5))\n",
    "plt.plot(train.loc['FL',:])"
   ]
  },
  {
   "cell_type": "code",
   "execution_count": null,
   "metadata": {
    "hidden": true
   },
   "outputs": [],
   "source": []
  }
 ],
 "metadata": {
  "kernelspec": {
   "display_name": "Python 3",
   "language": "python",
   "name": "python3"
  },
  "language_info": {
   "codemirror_mode": {
    "name": "ipython",
    "version": 3
   },
   "file_extension": ".py",
   "mimetype": "text/x-python",
   "name": "python",
   "nbconvert_exporter": "python",
   "pygments_lexer": "ipython3",
   "version": "3.7.6"
  },
  "toc": {
   "base_numbering": 1,
   "nav_menu": {},
   "number_sections": true,
   "sideBar": true,
   "skip_h1_title": false,
   "title_cell": "Table of Contents",
   "title_sidebar": "Contents",
   "toc_cell": false,
   "toc_position": {},
   "toc_section_display": true,
   "toc_window_display": false
  }
 },
 "nbformat": 4,
 "nbformat_minor": 4
}
