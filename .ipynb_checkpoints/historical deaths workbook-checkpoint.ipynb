{
 "cells": [
  {
   "cell_type": "markdown",
   "metadata": {},
   "source": [
    "# Imports"
   ]
  },
  {
   "cell_type": "code",
   "execution_count": 6,
   "metadata": {},
   "outputs": [],
   "source": [
    "import numpy as np\n",
    "import pandas as pd\n",
    "import matplotlib.pyplot as plt\n",
    "import seaborn as sb\n",
    "\n",
    "from sklearn.model_selection import train_test_split\n",
    "\n",
    "import statsmodels.api as sm\n",
    "from statsmodels.tsa.arima_model import ARIMA\n",
    "from statsmodels.graphics.tsaplots import plot_acf, plot_pacf\n",
    "from statsmodels.tsa.stattools import adfuller\n",
    "\n",
    "# interpret_dftest written by Joseph Nelson.\n",
    "def interpret_dftest(dftest):\n",
    "    dfoutput = pd.Series(dftest[0:2], index=['Test Statistic','p-value'])\n",
    "    return dfoutput\n",
    "\n",
    "\n"
   ]
  },
  {
   "cell_type": "code",
   "execution_count": 7,
   "metadata": {},
   "outputs": [
    {
     "data": {
      "text/html": [
       "<div>\n",
       "<style scoped>\n",
       "    .dataframe tbody tr th:only-of-type {\n",
       "        vertical-align: middle;\n",
       "    }\n",
       "\n",
       "    .dataframe tbody tr th {\n",
       "        vertical-align: top;\n",
       "    }\n",
       "\n",
       "    .dataframe thead th {\n",
       "        text-align: right;\n",
       "    }\n",
       "</style>\n",
       "<table border=\"1\" class=\"dataframe\">\n",
       "  <thead>\n",
       "    <tr style=\"text-align: right;\">\n",
       "      <th></th>\n",
       "      <th>country</th>\n",
       "      <th>region</th>\n",
       "      <th>region_code</th>\n",
       "      <th>start_date</th>\n",
       "      <th>end_date</th>\n",
       "      <th>year</th>\n",
       "      <th>week</th>\n",
       "      <th>population</th>\n",
       "      <th>total_deaths</th>\n",
       "      <th>covid_deaths</th>\n",
       "      <th>expected_deaths</th>\n",
       "    </tr>\n",
       "  </thead>\n",
       "  <tbody>\n",
       "    <tr>\n",
       "      <th>0</th>\n",
       "      <td>United States</td>\n",
       "      <td>Alabama</td>\n",
       "      <td>AL</td>\n",
       "      <td>2015-01-04</td>\n",
       "      <td>2015-01-10</td>\n",
       "      <td>2015</td>\n",
       "      <td>1</td>\n",
       "      <td>4903185</td>\n",
       "      <td>1169</td>\n",
       "      <td>0</td>\n",
       "      <td>TBC</td>\n",
       "    </tr>\n",
       "    <tr>\n",
       "      <th>1</th>\n",
       "      <td>United States</td>\n",
       "      <td>Alabama</td>\n",
       "      <td>AL</td>\n",
       "      <td>2015-01-11</td>\n",
       "      <td>2015-01-17</td>\n",
       "      <td>2015</td>\n",
       "      <td>2</td>\n",
       "      <td>4903185</td>\n",
       "      <td>1172</td>\n",
       "      <td>0</td>\n",
       "      <td>TBC</td>\n",
       "    </tr>\n",
       "  </tbody>\n",
       "</table>\n",
       "</div>"
      ],
      "text/plain": [
       "         country   region region_code  start_date    end_date  year  week  \\\n",
       "0  United States  Alabama          AL  2015-01-04  2015-01-10  2015     1   \n",
       "1  United States  Alabama          AL  2015-01-11  2015-01-17  2015     2   \n",
       "\n",
       "   population  total_deaths  covid_deaths expected_deaths  \n",
       "0     4903185          1169             0             TBC  \n",
       "1     4903185          1172             0             TBC  "
      ]
     },
     "execution_count": 7,
     "metadata": {},
     "output_type": "execute_result"
    }
   ],
   "source": [
    "data = pd.read_csv('./data/united_states_weekly_deaths.csv')\n",
    "data.head(2)"
   ]
  },
  {
   "cell_type": "markdown",
   "metadata": {},
   "source": [
    "# Initial EDA"
   ]
  },
  {
   "cell_type": "code",
   "execution_count": 8,
   "metadata": {},
   "outputs": [
    {
     "data": {
      "text/plain": [
       "(14500, 11)"
      ]
     },
     "execution_count": 8,
     "metadata": {},
     "output_type": "execute_result"
    }
   ],
   "source": [
    "data.shape"
   ]
  },
  {
   "cell_type": "code",
   "execution_count": 9,
   "metadata": {},
   "outputs": [
    {
     "data": {
      "text/plain": [
       "country            object\n",
       "region             object\n",
       "region_code        object\n",
       "start_date         object\n",
       "end_date           object\n",
       "year                int64\n",
       "week                int64\n",
       "population          int64\n",
       "total_deaths        int64\n",
       "covid_deaths        int64\n",
       "expected_deaths    object\n",
       "dtype: object"
      ]
     },
     "execution_count": 9,
     "metadata": {},
     "output_type": "execute_result"
    }
   ],
   "source": [
    "data.dtypes"
   ]
  },
  {
   "cell_type": "code",
   "execution_count": 10,
   "metadata": {},
   "outputs": [],
   "source": [
    "data['start_date'] = pd.to_datetime(data['start_date'])\n",
    "data['end_date'] = pd.to_datetime(data['end_date'])"
   ]
  },
  {
   "cell_type": "code",
   "execution_count": 11,
   "metadata": {},
   "outputs": [
    {
     "data": {
      "text/plain": [
       "country                    object\n",
       "region                     object\n",
       "region_code                object\n",
       "start_date         datetime64[ns]\n",
       "end_date           datetime64[ns]\n",
       "year                        int64\n",
       "week                        int64\n",
       "population                  int64\n",
       "total_deaths                int64\n",
       "covid_deaths                int64\n",
       "expected_deaths            object\n",
       "dtype: object"
      ]
     },
     "execution_count": 11,
     "metadata": {},
     "output_type": "execute_result"
    }
   ],
   "source": [
    "data.dtypes"
   ]
  },
  {
   "cell_type": "code",
   "execution_count": 12,
   "metadata": {},
   "outputs": [
    {
     "data": {
      "text/html": [
       "<div>\n",
       "<style scoped>\n",
       "    .dataframe tbody tr th:only-of-type {\n",
       "        vertical-align: middle;\n",
       "    }\n",
       "\n",
       "    .dataframe tbody tr th {\n",
       "        vertical-align: top;\n",
       "    }\n",
       "\n",
       "    .dataframe thead th {\n",
       "        text-align: right;\n",
       "    }\n",
       "</style>\n",
       "<table border=\"1\" class=\"dataframe\">\n",
       "  <thead>\n",
       "    <tr style=\"text-align: right;\">\n",
       "      <th></th>\n",
       "      <th>country</th>\n",
       "      <th>region</th>\n",
       "      <th>region_code</th>\n",
       "      <th>start_date</th>\n",
       "      <th>end_date</th>\n",
       "      <th>year</th>\n",
       "      <th>week</th>\n",
       "      <th>population</th>\n",
       "      <th>total_deaths</th>\n",
       "      <th>covid_deaths</th>\n",
       "      <th>expected_deaths</th>\n",
       "    </tr>\n",
       "  </thead>\n",
       "  <tbody>\n",
       "    <tr>\n",
       "      <th>0</th>\n",
       "      <td>United States</td>\n",
       "      <td>Alabama</td>\n",
       "      <td>AL</td>\n",
       "      <td>2015-01-04</td>\n",
       "      <td>2015-01-10</td>\n",
       "      <td>2015</td>\n",
       "      <td>1</td>\n",
       "      <td>4903185</td>\n",
       "      <td>1169</td>\n",
       "      <td>0</td>\n",
       "      <td>TBC</td>\n",
       "    </tr>\n",
       "    <tr>\n",
       "      <th>1</th>\n",
       "      <td>United States</td>\n",
       "      <td>Alabama</td>\n",
       "      <td>AL</td>\n",
       "      <td>2015-01-11</td>\n",
       "      <td>2015-01-17</td>\n",
       "      <td>2015</td>\n",
       "      <td>2</td>\n",
       "      <td>4903185</td>\n",
       "      <td>1172</td>\n",
       "      <td>0</td>\n",
       "      <td>TBC</td>\n",
       "    </tr>\n",
       "  </tbody>\n",
       "</table>\n",
       "</div>"
      ],
      "text/plain": [
       "         country   region region_code start_date   end_date  year  week  \\\n",
       "0  United States  Alabama          AL 2015-01-04 2015-01-10  2015     1   \n",
       "1  United States  Alabama          AL 2015-01-11 2015-01-17  2015     2   \n",
       "\n",
       "   population  total_deaths  covid_deaths expected_deaths  \n",
       "0     4903185          1169             0             TBC  \n",
       "1     4903185          1172             0             TBC  "
      ]
     },
     "execution_count": 12,
     "metadata": {},
     "output_type": "execute_result"
    }
   ],
   "source": [
    "data.head(2)"
   ]
  },
  {
   "cell_type": "code",
   "execution_count": 13,
   "metadata": {},
   "outputs": [
    {
     "data": {
      "text/plain": [
       "country            0\n",
       "region             0\n",
       "region_code        0\n",
       "start_date         0\n",
       "end_date           0\n",
       "year               0\n",
       "week               0\n",
       "population         0\n",
       "total_deaths       0\n",
       "covid_deaths       0\n",
       "expected_deaths    0\n",
       "dtype: int64"
      ]
     },
     "execution_count": 13,
     "metadata": {},
     "output_type": "execute_result"
    }
   ],
   "source": [
    "data.isnull().sum()"
   ]
  },
  {
   "cell_type": "code",
   "execution_count": 14,
   "metadata": {},
   "outputs": [
    {
     "data": {
      "text/plain": [
       "(14500, 11)"
      ]
     },
     "execution_count": 14,
     "metadata": {},
     "output_type": "execute_result"
    }
   ],
   "source": [
    "data.shape"
   ]
  },
  {
   "cell_type": "code",
   "execution_count": 15,
   "metadata": {},
   "outputs": [],
   "source": [
    "# drop non-useful columns\n",
    "data.drop(columns=['covid_deaths','expected_deaths'], inplace = True)"
   ]
  },
  {
   "cell_type": "code",
   "execution_count": null,
   "metadata": {},
   "outputs": [],
   "source": [
    "# NYC, while \n",
    "nyc = data[data['region_code'] == 'NYC']"
   ]
  },
  {
   "cell_type": "code",
   "execution_count": 52,
   "metadata": {},
   "outputs": [
    {
     "data": {
      "text/plain": [
       "start_date  end_date  \n",
       "2015-01-04  2015-01-10    61737\n",
       "2015-01-11  2015-01-17    61141\n",
       "2015-01-18  2015-01-24    58628\n",
       "2015-01-25  2015-01-31    57269\n",
       "2015-02-01  2015-02-07    57284\n",
       "                          ...  \n",
       "2020-04-05  2020-04-11    73581\n",
       "2020-04-12  2020-04-18    69533\n",
       "2020-04-19  2020-04-25    63336\n",
       "2020-04-26  2020-05-02    55506\n",
       "2020-05-03  2020-05-09    44504\n",
       "Name: total_deaths, Length: 279, dtype: int64"
      ]
     },
     "execution_count": 52,
     "metadata": {},
     "output_type": "execute_result"
    }
   ],
   "source": [
    "# total US weekly deaths\n",
    "data.drop(nyc.index).groupby(['start_date', 'end_date'])['total_deaths'].sum()"
   ]
  },
  {
   "cell_type": "code",
   "execution_count": 53,
   "metadata": {},
   "outputs": [],
   "source": [
    "us_tot = pd.DataFrame(data.drop(nyc.index).groupby(['start_date', 'end_date'])['total_deaths'].sum())"
   ]
  },
  {
   "cell_type": "code",
   "execution_count": 54,
   "metadata": {},
   "outputs": [],
   "source": [
    "us_tot.reset_index(level=us_tot.index.names, inplace=True) "
   ]
  },
  {
   "cell_type": "code",
   "execution_count": null,
   "metadata": {},
   "outputs": [],
   "source": []
  },
  {
   "cell_type": "code",
   "execution_count": 47,
   "metadata": {},
   "outputs": [
    {
     "data": {
      "text/plain": [
       "328300544"
      ]
     },
     "execution_count": 47,
     "metadata": {},
     "output_type": "execute_result"
    }
   ],
   "source": [
    "# US population\n",
    "data.drop(nyc.index).groupby('region_code')['population'].mean().sum()"
   ]
  },
  {
   "cell_type": "code",
   "execution_count": 38,
   "metadata": {},
   "outputs": [
    {
     "data": {
      "text/plain": [
       "Int64Index([8925, 8926, 8927, 8928, 8929, 8930, 8931, 8932, 8933, 8934,\n",
       "            ...\n",
       "            9194, 9195, 9196, 9197, 9198, 9199, 9200, 9201, 9202, 9203],\n",
       "           dtype='int64', length=279)"
      ]
     },
     "execution_count": 38,
     "metadata": {},
     "output_type": "execute_result"
    }
   ],
   "source": [
    "nyc.index"
   ]
  },
  {
   "cell_type": "code",
   "execution_count": 41,
   "metadata": {
    "scrolled": true
   },
   "outputs": [
    {
     "data": {
      "text/plain": [
       "(14221, 9)"
      ]
     },
     "execution_count": 41,
     "metadata": {},
     "output_type": "execute_result"
    }
   ],
   "source": [
    "data.drop(nyc.index).shape"
   ]
  },
  {
   "cell_type": "code",
   "execution_count": 40,
   "metadata": {
    "scrolled": true
   },
   "outputs": [
    {
     "data": {
      "text/plain": [
       "region_code\n",
       "AK       731545\n",
       "AL      4903185\n",
       "AR      3017825\n",
       "AZ      7278717\n",
       "CA     39512223\n",
       "CO      5758736\n",
       "CT      3565287\n",
       "DC       705749\n",
       "DE       973764\n",
       "FL     21477737\n",
       "GA     10617423\n",
       "HI      1415872\n",
       "IA      3155070\n",
       "ID      1787065\n",
       "IL     12671821\n",
       "IN      6732219\n",
       "KS      2913314\n",
       "KY      4467673\n",
       "LA      4648794\n",
       "MA      6949503\n",
       "MD      6045680\n",
       "ME      1344212\n",
       "MI      9986857\n",
       "MN      5639632\n",
       "MO      6137428\n",
       "MS      2976149\n",
       "MT      1068778\n",
       "NC     10488084\n",
       "ND       762062\n",
       "NE      1934408\n",
       "NH      1359711\n",
       "NJ      8882190\n",
       "NM      2096829\n",
       "NV      3080156\n",
       "NY     19453561\n",
       "NYC     8398748\n",
       "OH     11689100\n",
       "OK      3956971\n",
       "OR      4217737\n",
       "PA     12801989\n",
       "RI      1059361\n",
       "SC      5148714\n",
       "SD       884659\n",
       "TN      6833174\n",
       "TX     28995881\n",
       "UT      3205958\n",
       "VA      8535519\n",
       "VT       623989\n",
       "WA      7614893\n",
       "WI      5822434\n",
       "WV      1792147\n",
       "WY       578759\n",
       "Name: population, dtype: int64"
      ]
     },
     "execution_count": 40,
     "metadata": {},
     "output_type": "execute_result"
    }
   ],
   "source": [
    "data.groupby('region_code')['population'].mean()"
   ]
  },
  {
   "cell_type": "code",
   "execution_count": 16,
   "metadata": {
    "scrolled": true
   },
   "outputs": [
    {
     "data": {
      "text/plain": [
       "(14500, 9)"
      ]
     },
     "execution_count": 16,
     "metadata": {},
     "output_type": "execute_result"
    }
   ],
   "source": [
    "data.shape"
   ]
  },
  {
   "cell_type": "code",
   "execution_count": 20,
   "metadata": {},
   "outputs": [],
   "source": [
    "data.T.loc['Total'] = data.sum()"
   ]
  },
  {
   "cell_type": "code",
   "execution_count": 23,
   "metadata": {},
   "outputs": [
    {
     "data": {
      "text/plain": [
       "Index(['country', 'region', 'region_code', 'start_date', 'end_date', 'year',\n",
       "       'week', 'population', 'total_deaths'],\n",
       "      dtype='object')"
      ]
     },
     "execution_count": 23,
     "metadata": {},
     "output_type": "execute_result"
    }
   ],
   "source": [
    "data.T.index"
   ]
  },
  {
   "cell_type": "code",
   "execution_count": 81,
   "metadata": {},
   "outputs": [],
   "source": [
    "# create deaths per million column\n",
    "data['deaths_per_mil'] = round(df['total_deaths'] / ( df['population'] / 1_000_000 ), 3)"
   ]
  },
  {
   "cell_type": "code",
   "execution_count": 82,
   "metadata": {
    "scrolled": true
   },
   "outputs": [
    {
     "data": {
      "text/html": [
       "<div>\n",
       "<style scoped>\n",
       "    .dataframe tbody tr th:only-of-type {\n",
       "        vertical-align: middle;\n",
       "    }\n",
       "\n",
       "    .dataframe tbody tr th {\n",
       "        vertical-align: top;\n",
       "    }\n",
       "\n",
       "    .dataframe thead th {\n",
       "        text-align: right;\n",
       "    }\n",
       "</style>\n",
       "<table border=\"1\" class=\"dataframe\">\n",
       "  <thead>\n",
       "    <tr style=\"text-align: right;\">\n",
       "      <th></th>\n",
       "      <th>country</th>\n",
       "      <th>region</th>\n",
       "      <th>region_code</th>\n",
       "      <th>start_date</th>\n",
       "      <th>end_date</th>\n",
       "      <th>year</th>\n",
       "      <th>week</th>\n",
       "      <th>population</th>\n",
       "      <th>total_deaths</th>\n",
       "      <th>deaths_per_mil</th>\n",
       "    </tr>\n",
       "  </thead>\n",
       "  <tbody>\n",
       "    <tr>\n",
       "      <th>0</th>\n",
       "      <td>United States</td>\n",
       "      <td>Alabama</td>\n",
       "      <td>AL</td>\n",
       "      <td>2015-01-04</td>\n",
       "      <td>2015-01-10</td>\n",
       "      <td>2015</td>\n",
       "      <td>1</td>\n",
       "      <td>4903185</td>\n",
       "      <td>1169</td>\n",
       "      <td>238.416</td>\n",
       "    </tr>\n",
       "    <tr>\n",
       "      <th>1</th>\n",
       "      <td>United States</td>\n",
       "      <td>Alabama</td>\n",
       "      <td>AL</td>\n",
       "      <td>2015-01-11</td>\n",
       "      <td>2015-01-17</td>\n",
       "      <td>2015</td>\n",
       "      <td>2</td>\n",
       "      <td>4903185</td>\n",
       "      <td>1172</td>\n",
       "      <td>239.028</td>\n",
       "    </tr>\n",
       "    <tr>\n",
       "      <th>2</th>\n",
       "      <td>United States</td>\n",
       "      <td>Alabama</td>\n",
       "      <td>AL</td>\n",
       "      <td>2015-01-18</td>\n",
       "      <td>2015-01-24</td>\n",
       "      <td>2015</td>\n",
       "      <td>3</td>\n",
       "      <td>4903185</td>\n",
       "      <td>1072</td>\n",
       "      <td>218.633</td>\n",
       "    </tr>\n",
       "    <tr>\n",
       "      <th>3</th>\n",
       "      <td>United States</td>\n",
       "      <td>Alabama</td>\n",
       "      <td>AL</td>\n",
       "      <td>2015-01-25</td>\n",
       "      <td>2015-01-31</td>\n",
       "      <td>2015</td>\n",
       "      <td>4</td>\n",
       "      <td>4903185</td>\n",
       "      <td>1087</td>\n",
       "      <td>221.693</td>\n",
       "    </tr>\n",
       "    <tr>\n",
       "      <th>4</th>\n",
       "      <td>United States</td>\n",
       "      <td>Alabama</td>\n",
       "      <td>AL</td>\n",
       "      <td>2015-02-01</td>\n",
       "      <td>2015-02-07</td>\n",
       "      <td>2015</td>\n",
       "      <td>5</td>\n",
       "      <td>4903185</td>\n",
       "      <td>1130</td>\n",
       "      <td>230.462</td>\n",
       "    </tr>\n",
       "    <tr>\n",
       "      <th>...</th>\n",
       "      <td>...</td>\n",
       "      <td>...</td>\n",
       "      <td>...</td>\n",
       "      <td>...</td>\n",
       "      <td>...</td>\n",
       "      <td>...</td>\n",
       "      <td>...</td>\n",
       "      <td>...</td>\n",
       "      <td>...</td>\n",
       "      <td>...</td>\n",
       "    </tr>\n",
       "    <tr>\n",
       "      <th>14495</th>\n",
       "      <td>United States</td>\n",
       "      <td>New York</td>\n",
       "      <td>NY</td>\n",
       "      <td>2020-04-05</td>\n",
       "      <td>2020-04-11</td>\n",
       "      <td>2020</td>\n",
       "      <td>15</td>\n",
       "      <td>19453561</td>\n",
       "      <td>12079</td>\n",
       "      <td>620.915</td>\n",
       "    </tr>\n",
       "    <tr>\n",
       "      <th>14496</th>\n",
       "      <td>United States</td>\n",
       "      <td>New York</td>\n",
       "      <td>NY</td>\n",
       "      <td>2020-04-12</td>\n",
       "      <td>2020-04-18</td>\n",
       "      <td>2020</td>\n",
       "      <td>16</td>\n",
       "      <td>19453561</td>\n",
       "      <td>9864</td>\n",
       "      <td>507.054</td>\n",
       "    </tr>\n",
       "    <tr>\n",
       "      <th>14497</th>\n",
       "      <td>United States</td>\n",
       "      <td>New York</td>\n",
       "      <td>NY</td>\n",
       "      <td>2020-04-19</td>\n",
       "      <td>2020-04-25</td>\n",
       "      <td>2020</td>\n",
       "      <td>17</td>\n",
       "      <td>19453561</td>\n",
       "      <td>7123</td>\n",
       "      <td>366.154</td>\n",
       "    </tr>\n",
       "    <tr>\n",
       "      <th>14498</th>\n",
       "      <td>United States</td>\n",
       "      <td>New York</td>\n",
       "      <td>NY</td>\n",
       "      <td>2020-04-26</td>\n",
       "      <td>2020-05-02</td>\n",
       "      <td>2020</td>\n",
       "      <td>18</td>\n",
       "      <td>19453561</td>\n",
       "      <td>5109</td>\n",
       "      <td>262.625</td>\n",
       "    </tr>\n",
       "    <tr>\n",
       "      <th>14499</th>\n",
       "      <td>United States</td>\n",
       "      <td>New York</td>\n",
       "      <td>NY</td>\n",
       "      <td>2020-05-03</td>\n",
       "      <td>2020-05-09</td>\n",
       "      <td>2020</td>\n",
       "      <td>19</td>\n",
       "      <td>19453561</td>\n",
       "      <td>4305</td>\n",
       "      <td>221.296</td>\n",
       "    </tr>\n",
       "  </tbody>\n",
       "</table>\n",
       "<p>14500 rows × 10 columns</p>\n",
       "</div>"
      ],
      "text/plain": [
       "             country    region region_code start_date   end_date  year  week  \\\n",
       "0      United States   Alabama          AL 2015-01-04 2015-01-10  2015     1   \n",
       "1      United States   Alabama          AL 2015-01-11 2015-01-17  2015     2   \n",
       "2      United States   Alabama          AL 2015-01-18 2015-01-24  2015     3   \n",
       "3      United States   Alabama          AL 2015-01-25 2015-01-31  2015     4   \n",
       "4      United States   Alabama          AL 2015-02-01 2015-02-07  2015     5   \n",
       "...              ...       ...         ...        ...        ...   ...   ...   \n",
       "14495  United States  New York          NY 2020-04-05 2020-04-11  2020    15   \n",
       "14496  United States  New York          NY 2020-04-12 2020-04-18  2020    16   \n",
       "14497  United States  New York          NY 2020-04-19 2020-04-25  2020    17   \n",
       "14498  United States  New York          NY 2020-04-26 2020-05-02  2020    18   \n",
       "14499  United States  New York          NY 2020-05-03 2020-05-09  2020    19   \n",
       "\n",
       "       population  total_deaths  deaths_per_mil  \n",
       "0         4903185          1169         238.416  \n",
       "1         4903185          1172         239.028  \n",
       "2         4903185          1072         218.633  \n",
       "3         4903185          1087         221.693  \n",
       "4         4903185          1130         230.462  \n",
       "...           ...           ...             ...  \n",
       "14495    19453561         12079         620.915  \n",
       "14496    19453561          9864         507.054  \n",
       "14497    19453561          7123         366.154  \n",
       "14498    19453561          5109         262.625  \n",
       "14499    19453561          4305         221.296  \n",
       "\n",
       "[14500 rows x 10 columns]"
      ]
     },
     "execution_count": 82,
     "metadata": {},
     "output_type": "execute_result"
    }
   ],
   "source": [
    "data"
   ]
  },
  {
   "cell_type": "code",
   "execution_count": 84,
   "metadata": {},
   "outputs": [
    {
     "data": {
      "text/html": [
       "<div>\n",
       "<style scoped>\n",
       "    .dataframe tbody tr th:only-of-type {\n",
       "        vertical-align: middle;\n",
       "    }\n",
       "\n",
       "    .dataframe tbody tr th {\n",
       "        vertical-align: top;\n",
       "    }\n",
       "\n",
       "    .dataframe thead th {\n",
       "        text-align: right;\n",
       "    }\n",
       "</style>\n",
       "<table border=\"1\" class=\"dataframe\">\n",
       "  <thead>\n",
       "    <tr style=\"text-align: right;\">\n",
       "      <th></th>\n",
       "      <th>country</th>\n",
       "      <th>region</th>\n",
       "      <th>region_code</th>\n",
       "      <th>start_date</th>\n",
       "      <th>end_date</th>\n",
       "      <th>year</th>\n",
       "      <th>week</th>\n",
       "      <th>population</th>\n",
       "      <th>total_deaths</th>\n",
       "      <th>deaths_per_mil</th>\n",
       "    </tr>\n",
       "  </thead>\n",
       "  <tbody>\n",
       "    <tr>\n",
       "      <th>1934</th>\n",
       "      <td>United States</td>\n",
       "      <td>Connecticut</td>\n",
       "      <td>CT</td>\n",
       "      <td>2019-12-29</td>\n",
       "      <td>2020-01-04</td>\n",
       "      <td>2020</td>\n",
       "      <td>1</td>\n",
       "      <td>3565287</td>\n",
       "      <td>629</td>\n",
       "      <td>176.423</td>\n",
       "    </tr>\n",
       "    <tr>\n",
       "      <th>1935</th>\n",
       "      <td>United States</td>\n",
       "      <td>Connecticut</td>\n",
       "      <td>CT</td>\n",
       "      <td>2020-01-05</td>\n",
       "      <td>2020-01-11</td>\n",
       "      <td>2020</td>\n",
       "      <td>2</td>\n",
       "      <td>3565287</td>\n",
       "      <td>622</td>\n",
       "      <td>174.460</td>\n",
       "    </tr>\n",
       "    <tr>\n",
       "      <th>1936</th>\n",
       "      <td>United States</td>\n",
       "      <td>Connecticut</td>\n",
       "      <td>CT</td>\n",
       "      <td>2020-01-12</td>\n",
       "      <td>2020-01-18</td>\n",
       "      <td>2020</td>\n",
       "      <td>3</td>\n",
       "      <td>3565287</td>\n",
       "      <td>634</td>\n",
       "      <td>177.826</td>\n",
       "    </tr>\n",
       "    <tr>\n",
       "      <th>1937</th>\n",
       "      <td>United States</td>\n",
       "      <td>Connecticut</td>\n",
       "      <td>CT</td>\n",
       "      <td>2020-01-19</td>\n",
       "      <td>2020-01-25</td>\n",
       "      <td>2020</td>\n",
       "      <td>4</td>\n",
       "      <td>3565287</td>\n",
       "      <td>643</td>\n",
       "      <td>180.350</td>\n",
       "    </tr>\n",
       "    <tr>\n",
       "      <th>1938</th>\n",
       "      <td>United States</td>\n",
       "      <td>Connecticut</td>\n",
       "      <td>CT</td>\n",
       "      <td>2020-01-26</td>\n",
       "      <td>2020-02-01</td>\n",
       "      <td>2020</td>\n",
       "      <td>5</td>\n",
       "      <td>3565287</td>\n",
       "      <td>664</td>\n",
       "      <td>186.240</td>\n",
       "    </tr>\n",
       "    <tr>\n",
       "      <th>1939</th>\n",
       "      <td>United States</td>\n",
       "      <td>Connecticut</td>\n",
       "      <td>CT</td>\n",
       "      <td>2020-02-02</td>\n",
       "      <td>2020-02-08</td>\n",
       "      <td>2020</td>\n",
       "      <td>6</td>\n",
       "      <td>3565287</td>\n",
       "      <td>631</td>\n",
       "      <td>176.984</td>\n",
       "    </tr>\n",
       "    <tr>\n",
       "      <th>1940</th>\n",
       "      <td>United States</td>\n",
       "      <td>Connecticut</td>\n",
       "      <td>CT</td>\n",
       "      <td>2020-02-09</td>\n",
       "      <td>2020-02-15</td>\n",
       "      <td>2020</td>\n",
       "      <td>7</td>\n",
       "      <td>3565287</td>\n",
       "      <td>620</td>\n",
       "      <td>173.899</td>\n",
       "    </tr>\n",
       "    <tr>\n",
       "      <th>1941</th>\n",
       "      <td>United States</td>\n",
       "      <td>Connecticut</td>\n",
       "      <td>CT</td>\n",
       "      <td>2020-02-16</td>\n",
       "      <td>2020-02-22</td>\n",
       "      <td>2020</td>\n",
       "      <td>8</td>\n",
       "      <td>3565287</td>\n",
       "      <td>638</td>\n",
       "      <td>178.948</td>\n",
       "    </tr>\n",
       "    <tr>\n",
       "      <th>1942</th>\n",
       "      <td>United States</td>\n",
       "      <td>Connecticut</td>\n",
       "      <td>CT</td>\n",
       "      <td>2020-02-23</td>\n",
       "      <td>2020-02-29</td>\n",
       "      <td>2020</td>\n",
       "      <td>9</td>\n",
       "      <td>3565287</td>\n",
       "      <td>612</td>\n",
       "      <td>171.655</td>\n",
       "    </tr>\n",
       "    <tr>\n",
       "      <th>1943</th>\n",
       "      <td>United States</td>\n",
       "      <td>Connecticut</td>\n",
       "      <td>CT</td>\n",
       "      <td>2020-03-01</td>\n",
       "      <td>2020-03-07</td>\n",
       "      <td>2020</td>\n",
       "      <td>10</td>\n",
       "      <td>3565287</td>\n",
       "      <td>184</td>\n",
       "      <td>51.609</td>\n",
       "    </tr>\n",
       "    <tr>\n",
       "      <th>1944</th>\n",
       "      <td>United States</td>\n",
       "      <td>Connecticut</td>\n",
       "      <td>CT</td>\n",
       "      <td>2020-03-08</td>\n",
       "      <td>2020-03-14</td>\n",
       "      <td>2020</td>\n",
       "      <td>11</td>\n",
       "      <td>3565287</td>\n",
       "      <td>167</td>\n",
       "      <td>46.841</td>\n",
       "    </tr>\n",
       "    <tr>\n",
       "      <th>1945</th>\n",
       "      <td>United States</td>\n",
       "      <td>Connecticut</td>\n",
       "      <td>CT</td>\n",
       "      <td>2020-03-15</td>\n",
       "      <td>2020-03-21</td>\n",
       "      <td>2020</td>\n",
       "      <td>12</td>\n",
       "      <td>3565287</td>\n",
       "      <td>197</td>\n",
       "      <td>55.255</td>\n",
       "    </tr>\n",
       "    <tr>\n",
       "      <th>1946</th>\n",
       "      <td>United States</td>\n",
       "      <td>Connecticut</td>\n",
       "      <td>CT</td>\n",
       "      <td>2020-03-22</td>\n",
       "      <td>2020-03-28</td>\n",
       "      <td>2020</td>\n",
       "      <td>13</td>\n",
       "      <td>3565287</td>\n",
       "      <td>218</td>\n",
       "      <td>61.145</td>\n",
       "    </tr>\n",
       "    <tr>\n",
       "      <th>1947</th>\n",
       "      <td>United States</td>\n",
       "      <td>Connecticut</td>\n",
       "      <td>CT</td>\n",
       "      <td>2020-03-29</td>\n",
       "      <td>2020-04-04</td>\n",
       "      <td>2020</td>\n",
       "      <td>14</td>\n",
       "      <td>3565287</td>\n",
       "      <td>203</td>\n",
       "      <td>56.938</td>\n",
       "    </tr>\n",
       "    <tr>\n",
       "      <th>1948</th>\n",
       "      <td>United States</td>\n",
       "      <td>Connecticut</td>\n",
       "      <td>CT</td>\n",
       "      <td>2020-04-05</td>\n",
       "      <td>2020-04-11</td>\n",
       "      <td>2020</td>\n",
       "      <td>15</td>\n",
       "      <td>3565287</td>\n",
       "      <td>318</td>\n",
       "      <td>89.193</td>\n",
       "    </tr>\n",
       "    <tr>\n",
       "      <th>1949</th>\n",
       "      <td>United States</td>\n",
       "      <td>Connecticut</td>\n",
       "      <td>CT</td>\n",
       "      <td>2020-04-12</td>\n",
       "      <td>2020-04-18</td>\n",
       "      <td>2020</td>\n",
       "      <td>16</td>\n",
       "      <td>3565287</td>\n",
       "      <td>257</td>\n",
       "      <td>72.084</td>\n",
       "    </tr>\n",
       "  </tbody>\n",
       "</table>\n",
       "</div>"
      ],
      "text/plain": [
       "            country       region region_code start_date   end_date  year  \\\n",
       "1934  United States  Connecticut          CT 2019-12-29 2020-01-04  2020   \n",
       "1935  United States  Connecticut          CT 2020-01-05 2020-01-11  2020   \n",
       "1936  United States  Connecticut          CT 2020-01-12 2020-01-18  2020   \n",
       "1937  United States  Connecticut          CT 2020-01-19 2020-01-25  2020   \n",
       "1938  United States  Connecticut          CT 2020-01-26 2020-02-01  2020   \n",
       "1939  United States  Connecticut          CT 2020-02-02 2020-02-08  2020   \n",
       "1940  United States  Connecticut          CT 2020-02-09 2020-02-15  2020   \n",
       "1941  United States  Connecticut          CT 2020-02-16 2020-02-22  2020   \n",
       "1942  United States  Connecticut          CT 2020-02-23 2020-02-29  2020   \n",
       "1943  United States  Connecticut          CT 2020-03-01 2020-03-07  2020   \n",
       "1944  United States  Connecticut          CT 2020-03-08 2020-03-14  2020   \n",
       "1945  United States  Connecticut          CT 2020-03-15 2020-03-21  2020   \n",
       "1946  United States  Connecticut          CT 2020-03-22 2020-03-28  2020   \n",
       "1947  United States  Connecticut          CT 2020-03-29 2020-04-04  2020   \n",
       "1948  United States  Connecticut          CT 2020-04-05 2020-04-11  2020   \n",
       "1949  United States  Connecticut          CT 2020-04-12 2020-04-18  2020   \n",
       "\n",
       "      week  population  total_deaths  deaths_per_mil  \n",
       "1934     1     3565287           629         176.423  \n",
       "1935     2     3565287           622         174.460  \n",
       "1936     3     3565287           634         177.826  \n",
       "1937     4     3565287           643         180.350  \n",
       "1938     5     3565287           664         186.240  \n",
       "1939     6     3565287           631         176.984  \n",
       "1940     7     3565287           620         173.899  \n",
       "1941     8     3565287           638         178.948  \n",
       "1942     9     3565287           612         171.655  \n",
       "1943    10     3565287           184          51.609  \n",
       "1944    11     3565287           167          46.841  \n",
       "1945    12     3565287           197          55.255  \n",
       "1946    13     3565287           218          61.145  \n",
       "1947    14     3565287           203          56.938  \n",
       "1948    15     3565287           318          89.193  \n",
       "1949    16     3565287           257          72.084  "
      ]
     },
     "execution_count": 84,
     "metadata": {},
     "output_type": "execute_result"
    }
   ],
   "source": [
    "data[(data['region']=='Connecticut')&(data['year']==2020)]"
   ]
  },
  {
   "cell_type": "code",
   "execution_count": 85,
   "metadata": {},
   "outputs": [
    {
     "data": {
      "text/plain": [
       "1934   2020-01-04\n",
       "1935   2020-01-11\n",
       "1936   2020-01-18\n",
       "1937   2020-01-25\n",
       "1938   2020-02-01\n",
       "1939   2020-02-08\n",
       "1940   2020-02-15\n",
       "1941   2020-02-22\n",
       "1942   2020-02-29\n",
       "1943   2020-03-07\n",
       "1944   2020-03-14\n",
       "1945   2020-03-21\n",
       "1946   2020-03-28\n",
       "1947   2020-04-04\n",
       "1948   2020-04-11\n",
       "1949   2020-04-18\n",
       "Name: end_date, dtype: datetime64[ns]"
      ]
     },
     "execution_count": 85,
     "metadata": {},
     "output_type": "execute_result"
    }
   ],
   "source": [
    "data[(data['region']=='Connecticut')&(data['year']==2020)]['end_date']"
   ]
  },
  {
   "cell_type": "code",
   "execution_count": 160,
   "metadata": {
    "scrolled": true
   },
   "outputs": [
    {
     "data": {
      "image/png": "[encoded data removed]",
      "text/plain": [
       "<Figure size 1440x360 with 1 Axes>"
      ]
     },
     "metadata": {
      "needs_background": "light"
     },
     "output_type": "display_data"
    }
   ],
   "source": [
    "plt.figure(figsize = (20,5))\n",
    "\n",
    "sb.lineplot(data[data['region']=='Connecticut']['end_date'], data[data['region']=='Connecticut']['total_deaths'])\n",
    "plt.yticks=data[data['region']=='Connecticut']['end_date'].dt.year\n"
   ]
  },
  {
   "cell_type": "code",
   "execution_count": 101,
   "metadata": {},
   "outputs": [],
   "source": [
    "df = data.groupby(['region_code', 'end_date'])['deaths_per_mil'].mean().unstack()"
   ]
  },
  {
   "cell_type": "code",
   "execution_count": 40,
   "metadata": {},
   "outputs": [],
   "source": [
    "# def identity(x):\n",
    "#     return x\n",
    "\n",
    "# pd.crosstab(df['region'], df['end_date'], values = df['deaths_per_mil'], aggfunc = identity)"
   ]
  },
  {
   "cell_type": "code",
   "execution_count": 99,
   "metadata": {},
   "outputs": [],
   "source": [
    "def show(state):\n",
    "    return df[df.index == state]"
   ]
  },
  {
   "cell_type": "code",
   "execution_count": 102,
   "metadata": {},
   "outputs": [
    {
     "data": {
      "text/html": [
       "<div>\n",
       "<style scoped>\n",
       "    .dataframe tbody tr th:only-of-type {\n",
       "        vertical-align: middle;\n",
       "    }\n",
       "\n",
       "    .dataframe tbody tr th {\n",
       "        vertical-align: top;\n",
       "    }\n",
       "\n",
       "    .dataframe thead th {\n",
       "        text-align: right;\n",
       "    }\n",
       "</style>\n",
       "<table border=\"1\" class=\"dataframe\">\n",
       "  <thead>\n",
       "    <tr style=\"text-align: right;\">\n",
       "      <th>end_date</th>\n",
       "      <th>2015-01-10</th>\n",
       "      <th>2015-01-17</th>\n",
       "      <th>2015-01-24</th>\n",
       "      <th>2015-01-31</th>\n",
       "      <th>2015-02-07</th>\n",
       "      <th>2015-02-14</th>\n",
       "      <th>2015-02-21</th>\n",
       "      <th>2015-02-28</th>\n",
       "      <th>2015-03-07</th>\n",
       "      <th>2015-03-14</th>\n",
       "      <th>...</th>\n",
       "      <th>2020-03-07</th>\n",
       "      <th>2020-03-14</th>\n",
       "      <th>2020-03-21</th>\n",
       "      <th>2020-03-28</th>\n",
       "      <th>2020-04-04</th>\n",
       "      <th>2020-04-11</th>\n",
       "      <th>2020-04-18</th>\n",
       "      <th>2020-04-25</th>\n",
       "      <th>2020-05-02</th>\n",
       "      <th>2020-05-09</th>\n",
       "    </tr>\n",
       "    <tr>\n",
       "      <th>region_code</th>\n",
       "      <th></th>\n",
       "      <th></th>\n",
       "      <th></th>\n",
       "      <th></th>\n",
       "      <th></th>\n",
       "      <th></th>\n",
       "      <th></th>\n",
       "      <th></th>\n",
       "      <th></th>\n",
       "      <th></th>\n",
       "      <th></th>\n",
       "      <th></th>\n",
       "      <th></th>\n",
       "      <th></th>\n",
       "      <th></th>\n",
       "      <th></th>\n",
       "      <th></th>\n",
       "      <th></th>\n",
       "      <th></th>\n",
       "      <th></th>\n",
       "      <th></th>\n",
       "    </tr>\n",
       "  </thead>\n",
       "  <tbody>\n",
       "    <tr>\n",
       "      <th>AK</th>\n",
       "      <td>114.825</td>\n",
       "      <td>109.358</td>\n",
       "      <td>120.293</td>\n",
       "      <td>117.559</td>\n",
       "      <td>124.394</td>\n",
       "      <td>114.825</td>\n",
       "      <td>106.624</td>\n",
       "      <td>124.394</td>\n",
       "      <td>105.257</td>\n",
       "      <td>114.825</td>\n",
       "      <td>...</td>\n",
       "      <td>112.092</td>\n",
       "      <td>121.660</td>\n",
       "      <td>86.119</td>\n",
       "      <td>116.192</td>\n",
       "      <td>128.495</td>\n",
       "      <td>103.890</td>\n",
       "      <td>95.688</td>\n",
       "      <td>76.550</td>\n",
       "      <td>77.917</td>\n",
       "      <td>66.982</td>\n",
       "    </tr>\n",
       "    <tr>\n",
       "      <th>AL</th>\n",
       "      <td>238.416</td>\n",
       "      <td>239.028</td>\n",
       "      <td>218.633</td>\n",
       "      <td>221.693</td>\n",
       "      <td>230.462</td>\n",
       "      <td>224.752</td>\n",
       "      <td>221.897</td>\n",
       "      <td>229.443</td>\n",
       "      <td>249.634</td>\n",
       "      <td>231.482</td>\n",
       "      <td>...</td>\n",
       "      <td>220.061</td>\n",
       "      <td>218.429</td>\n",
       "      <td>217.002</td>\n",
       "      <td>214.758</td>\n",
       "      <td>232.298</td>\n",
       "      <td>221.897</td>\n",
       "      <td>217.614</td>\n",
       "      <td>204.765</td>\n",
       "      <td>189.061</td>\n",
       "      <td>141.541</td>\n",
       "    </tr>\n",
       "    <tr>\n",
       "      <th>AR</th>\n",
       "      <td>249.517</td>\n",
       "      <td>227.979</td>\n",
       "      <td>230.298</td>\n",
       "      <td>226.653</td>\n",
       "      <td>242.227</td>\n",
       "      <td>223.340</td>\n",
       "      <td>210.748</td>\n",
       "      <td>236.263</td>\n",
       "      <td>229.304</td>\n",
       "      <td>212.736</td>\n",
       "      <td>...</td>\n",
       "      <td>229.967</td>\n",
       "      <td>206.440</td>\n",
       "      <td>212.073</td>\n",
       "      <td>210.085</td>\n",
       "      <td>202.795</td>\n",
       "      <td>205.115</td>\n",
       "      <td>207.766</td>\n",
       "      <td>195.505</td>\n",
       "      <td>189.209</td>\n",
       "      <td>173.635</td>\n",
       "    </tr>\n",
       "    <tr>\n",
       "      <th>AZ</th>\n",
       "      <td>153.186</td>\n",
       "      <td>159.781</td>\n",
       "      <td>145.081</td>\n",
       "      <td>172.008</td>\n",
       "      <td>153.049</td>\n",
       "      <td>146.454</td>\n",
       "      <td>148.927</td>\n",
       "      <td>141.234</td>\n",
       "      <td>150.301</td>\n",
       "      <td>157.308</td>\n",
       "      <td>...</td>\n",
       "      <td>183.549</td>\n",
       "      <td>175.993</td>\n",
       "      <td>170.772</td>\n",
       "      <td>174.207</td>\n",
       "      <td>179.702</td>\n",
       "      <td>186.434</td>\n",
       "      <td>174.069</td>\n",
       "      <td>181.351</td>\n",
       "      <td>176.542</td>\n",
       "      <td>146.592</td>\n",
       "    </tr>\n",
       "    <tr>\n",
       "      <th>CA</th>\n",
       "      <td>145.879</td>\n",
       "      <td>147.271</td>\n",
       "      <td>140.665</td>\n",
       "      <td>143.247</td>\n",
       "      <td>138.691</td>\n",
       "      <td>140.184</td>\n",
       "      <td>137.198</td>\n",
       "      <td>131.099</td>\n",
       "      <td>136.641</td>\n",
       "      <td>133.123</td>\n",
       "      <td>...</td>\n",
       "      <td>143.525</td>\n",
       "      <td>136.742</td>\n",
       "      <td>142.285</td>\n",
       "      <td>142.083</td>\n",
       "      <td>149.042</td>\n",
       "      <td>148.941</td>\n",
       "      <td>149.599</td>\n",
       "      <td>137.350</td>\n",
       "      <td>124.746</td>\n",
       "      <td>109.839</td>\n",
       "    </tr>\n",
       "  </tbody>\n",
       "</table>\n",
       "<p>5 rows × 279 columns</p>\n",
       "</div>"
      ],
      "text/plain": [
       "end_date     2015-01-10  2015-01-17  2015-01-24  2015-01-31  2015-02-07  \\\n",
       "region_code                                                               \n",
       "AK              114.825     109.358     120.293     117.559     124.394   \n",
       "AL              238.416     239.028     218.633     221.693     230.462   \n",
       "AR              249.517     227.979     230.298     226.653     242.227   \n",
       "AZ              153.186     159.781     145.081     172.008     153.049   \n",
       "CA              145.879     147.271     140.665     143.247     138.691   \n",
       "\n",
       "end_date     2015-02-14  2015-02-21  2015-02-28  2015-03-07  2015-03-14  ...  \\\n",
       "region_code                                                              ...   \n",
       "AK              114.825     106.624     124.394     105.257     114.825  ...   \n",
       "AL              224.752     221.897     229.443     249.634     231.482  ...   \n",
       "AR              223.340     210.748     236.263     229.304     212.736  ...   \n",
       "AZ              146.454     148.927     141.234     150.301     157.308  ...   \n",
       "CA              140.184     137.198     131.099     136.641     133.123  ...   \n",
       "\n",
       "end_date     2020-03-07  2020-03-14  2020-03-21  2020-03-28  2020-04-04  \\\n",
       "region_code                                                               \n",
       "AK              112.092     121.660      86.119     116.192     128.495   \n",
       "AL              220.061     218.429     217.002     214.758     232.298   \n",
       "AR              229.967     206.440     212.073     210.085     202.795   \n",
       "AZ              183.549     175.993     170.772     174.207     179.702   \n",
       "CA              143.525     136.742     142.285     142.083     149.042   \n",
       "\n",
       "end_date     2020-04-11  2020-04-18  2020-04-25  2020-05-02  2020-05-09  \n",
       "region_code                                                              \n",
       "AK              103.890      95.688      76.550      77.917      66.982  \n",
       "AL              221.897     217.614     204.765     189.061     141.541  \n",
       "AR              205.115     207.766     195.505     189.209     173.635  \n",
       "AZ              186.434     174.069     181.351     176.542     146.592  \n",
       "CA              148.941     149.599     137.350     124.746     109.839  \n",
       "\n",
       "[5 rows x 279 columns]"
      ]
     },
     "execution_count": 102,
     "metadata": {},
     "output_type": "execute_result"
    }
   ],
   "source": [
    "df.head()"
   ]
  },
  {
   "cell_type": "code",
   "execution_count": 174,
   "metadata": {},
   "outputs": [],
   "source": [
    "# We know 2020's data will be aberrant (or believe it will be), so will train our model on all data before then\n",
    "# This model will presumably predict 2020 quite poorly; the degree by which it does is our parameter of interest.\n",
    "\n",
    "test = df.T[df.columns.year == 2020].T\n",
    "\n",
    "train = df.T[df.columns.year != 2020].T"
   ]
  },
  {
   "cell_type": "markdown",
   "metadata": {},
   "source": [
    "# ARIMA"
   ]
  },
  {
   "cell_type": "code",
   "execution_count": 134,
   "metadata": {},
   "outputs": [
    {
     "data": {
      "text/plain": [
       "[<matplotlib.lines.Line2D at 0x20883739a08>]"
      ]
     },
     "execution_count": 134,
     "metadata": {},
     "output_type": "execute_result"
    },
    {
     "data": {
      "image/png": "[encoded data removed]",
      "text/plain": [
       "<Figure size 432x288 with 1 Axes>"
      ]
     },
     "metadata": {
      "needs_background": "light"
     },
     "output_type": "display_data"
    }
   ],
   "source": [
    "plt.plot(df.loc['AK',:])"
   ]
  },
  {
   "cell_type": "code",
   "execution_count": 149,
   "metadata": {},
   "outputs": [
    {
     "data": {
      "text/plain": [
       "Test Statistic   -3.986587\n",
       "p-value           0.001482\n",
       "dtype: float64"
      ]
     },
     "execution_count": 149,
     "metadata": {},
     "output_type": "execute_result"
    }
   ],
   "source": [
    "interpret_dftest(adfuller(df.loc['VT',:]))"
   ]
  },
  {
   "cell_type": "code",
   "execution_count": 177,
   "metadata": {},
   "outputs": [
    {
     "data": {
      "text/plain": [
       "Index(['AK', 'AL', 'AR', 'AZ', 'CA', 'CO', 'CT', 'DC', 'DE', 'FL', 'GA', 'HI',\n",
       "       'IA', 'ID', 'IL', 'IN', 'KS', 'KY', 'LA', 'MA', 'MD', 'ME', 'MI', 'MN',\n",
       "       'MO', 'MS', 'MT', 'NC', 'ND', 'NE', 'NH', 'NJ', 'NM', 'NV', 'NY', 'NYC',\n",
       "       'OH', 'OK', 'OR', 'PA', 'RI', 'SC', 'SD', 'TN', 'TX', 'UT', 'VA', 'VT',\n",
       "       'WA', 'WI', 'WV', 'WY'],\n",
       "      dtype='object', name='region_code')"
      ]
     },
     "execution_count": 177,
     "metadata": {},
     "output_type": "execute_result"
    }
   ],
   "source": [
    "train.index"
   ]
  },
  {
   "cell_type": "code",
   "execution_count": 190,
   "metadata": {},
   "outputs": [],
   "source": [
    "df_dickeys = pd.DataFrame()\n",
    "train_dickeys = pd.DataFrame()\n",
    "test_dickeys = pd.DataFrame()\n",
    "\n",
    "for state in df.index:\n",
    "    df_dickeys[state] = interpret_dftest(adfuller(df.loc[state,:].dropna()))\n",
    "    \n",
    "for state in train.index:\n",
    "    train_dickeys[state] = interpret_dftest(adfuller(train.loc[state,:].dropna()))\n",
    "    \n",
    "for state in test.index:\n",
    "    test_dickeys[state] = interpret_dftest(adfuller(test.loc[state,:].dropna()))\n",
    "    \n",
    "    "
   ]
  },
  {
   "cell_type": "code",
   "execution_count": 207,
   "metadata": {},
   "outputs": [
    {
     "data": {
      "text/html": [
       "<div>\n",
       "<style scoped>\n",
       "    .dataframe tbody tr th:only-of-type {\n",
       "        vertical-align: middle;\n",
       "    }\n",
       "\n",
       "    .dataframe tbody tr th {\n",
       "        vertical-align: top;\n",
       "    }\n",
       "\n",
       "    .dataframe thead th {\n",
       "        text-align: right;\n",
       "    }\n",
       "</style>\n",
       "<table border=\"1\" class=\"dataframe\">\n",
       "  <thead>\n",
       "    <tr style=\"text-align: right;\">\n",
       "      <th></th>\n",
       "      <th>Test Statistic</th>\n",
       "      <th>p-value</th>\n",
       "    </tr>\n",
       "  </thead>\n",
       "  <tbody>\n",
       "    <tr>\n",
       "      <th>AZ</th>\n",
       "      <td>-3.305209</td>\n",
       "      <td>0.014647</td>\n",
       "    </tr>\n",
       "    <tr>\n",
       "      <th>FL</th>\n",
       "      <td>-2.818836</td>\n",
       "      <td>0.055633</td>\n",
       "    </tr>\n",
       "    <tr>\n",
       "      <th>GA</th>\n",
       "      <td>-3.421682</td>\n",
       "      <td>0.010242</td>\n",
       "    </tr>\n",
       "    <tr>\n",
       "      <th>KS</th>\n",
       "      <td>-3.184181</td>\n",
       "      <td>0.020919</td>\n",
       "    </tr>\n",
       "    <tr>\n",
       "      <th>MN</th>\n",
       "      <td>-3.173855</td>\n",
       "      <td>0.021549</td>\n",
       "    </tr>\n",
       "    <tr>\n",
       "      <th>ND</th>\n",
       "      <td>-3.401563</td>\n",
       "      <td>0.010906</td>\n",
       "    </tr>\n",
       "    <tr>\n",
       "      <th>NM</th>\n",
       "      <td>-3.369659</td>\n",
       "      <td>0.012038</td>\n",
       "    </tr>\n",
       "    <tr>\n",
       "      <th>NV</th>\n",
       "      <td>-3.420847</td>\n",
       "      <td>0.010268</td>\n",
       "    </tr>\n",
       "    <tr>\n",
       "      <th>OH</th>\n",
       "      <td>-3.071547</td>\n",
       "      <td>0.028732</td>\n",
       "    </tr>\n",
       "    <tr>\n",
       "      <th>OK</th>\n",
       "      <td>-3.213938</td>\n",
       "      <td>0.019192</td>\n",
       "    </tr>\n",
       "    <tr>\n",
       "      <th>TN</th>\n",
       "      <td>-2.890752</td>\n",
       "      <td>0.046434</td>\n",
       "    </tr>\n",
       "    <tr>\n",
       "      <th>TX</th>\n",
       "      <td>-3.314551</td>\n",
       "      <td>0.014240</td>\n",
       "    </tr>\n",
       "  </tbody>\n",
       "</table>\n",
       "</div>"
      ],
      "text/plain": [
       "    Test Statistic   p-value\n",
       "AZ       -3.305209  0.014647\n",
       "FL       -2.818836  0.055633\n",
       "GA       -3.421682  0.010242\n",
       "KS       -3.184181  0.020919\n",
       "MN       -3.173855  0.021549\n",
       "ND       -3.401563  0.010906\n",
       "NM       -3.369659  0.012038\n",
       "NV       -3.420847  0.010268\n",
       "OH       -3.071547  0.028732\n",
       "OK       -3.213938  0.019192\n",
       "TN       -2.890752  0.046434\n",
       "TX       -3.314551  0.014240"
      ]
     },
     "execution_count": 207,
     "metadata": {},
     "output_type": "execute_result"
    }
   ],
   "source": [
    "train_dickeys.T[train_dickeys.T['p-value'] > 0.01]\n"
   ]
  },
  {
   "cell_type": "code",
   "execution_count": 197,
   "metadata": {},
   "outputs": [
    {
     "data": {
      "text/plain": [
       "Test Statistic   -2.818836\n",
       "p-value           0.055633\n",
       "Name: FL, dtype: float64"
      ]
     },
     "execution_count": 197,
     "metadata": {},
     "output_type": "execute_result"
    }
   ],
   "source": [
    "train_dickeys['FL']"
   ]
  },
  {
   "cell_type": "code",
   "execution_count": 198,
   "metadata": {},
   "outputs": [
    {
     "data": {
      "text/plain": [
       "[<matplotlib.lines.Line2D at 0x208858dc108>]"
      ]
     },
     "execution_count": 198,
     "metadata": {},
     "output_type": "execute_result"
    },
    {
     "data": {
      "image/png": "[encoded data removed]",
      "text/plain": [
       "<Figure size 1440x360 with 1 Axes>"
      ]
     },
     "metadata": {
      "needs_background": "light"
     },
     "output_type": "display_data"
    }
   ],
   "source": [
    "plt.figure(figsize = (20, 5))\n",
    "plt.plot(train.loc['FL',:])"
   ]
  },
  {
   "cell_type": "code",
   "execution_count": null,
   "metadata": {},
   "outputs": [],
   "source": []
  }
 ],
 "metadata": {
  "kernelspec": {
   "display_name": "Python 3",
   "language": "python",
   "name": "python3"
  },
  "language_info": {
   "codemirror_mode": {
    "name": "ipython",
    "version": 3
   },
   "file_extension": ".py",
   "mimetype": "text/x-python",
   "name": "python",
   "nbconvert_exporter": "python",
   "pygments_lexer": "ipython3",
   "version": "3.7.6"
  },
  "toc": {
   "base_numbering": 1,
   "nav_menu": {},
   "number_sections": true,
   "sideBar": true,
   "skip_h1_title": false,
   "title_cell": "Table of Contents",
   "title_sidebar": "Contents",
   "toc_cell": false,
   "toc_position": {},
   "toc_section_display": true,
   "toc_window_display": false
  }
 },
 "nbformat": 4,
 "nbformat_minor": 4
}
